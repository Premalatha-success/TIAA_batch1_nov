{
  "cells": [
    {
      "cell_type": "code",
      "source": [
        "class Car:\n",
        "    def __init__(self, make, model, color):\n",
        "        self.make = make  # Brand of the car\n",
        "        self.model = model  # Model of the car\n",
        "        self.color = color  # Color of the car"
      ],
      "metadata": {
        "id": "_4WQTqJ8-6Ya"
      },
      "id": "_4WQTqJ8-6Ya",
      "execution_count": 9,
      "outputs": []
    },
    {
      "cell_type": "code",
      "source": [
        "my_car = Car(\"Toyota\", \"Corolla\", \"Red\")\n",
        "your_car = Car(\"Honda\", \"Civic\", \"Blue\")\n",
        "\n",
        "print(f\"My car is a {my_car.color} {my_car.make} {my_car.model}.\")"
      ],
      "metadata": {
        "colab": {
          "base_uri": "https://localhost:8080/"
        },
        "id": "_EBEeyWp_RN-",
        "outputId": "fae7d4e8-58ca-431d-e6ca-752bc00ea428"
      },
      "id": "_EBEeyWp_RN-",
      "execution_count": 10,
      "outputs": [
        {
          "output_type": "stream",
          "name": "stdout",
          "text": [
            "My car is a Red Toyota Corolla.\n"
          ]
        }
      ]
    },
    {
      "cell_type": "code",
      "source": [
        "del my_car"
      ],
      "metadata": {
        "id": "HVKvReJy_Wrk"
      },
      "id": "HVKvReJy_Wrk",
      "execution_count": 11,
      "outputs": []
    },
    {
      "cell_type": "code",
      "source": [
        "class Car:\n",
        "    def __init__(self, make, model, color):\n",
        "        self.make = make\n",
        "        self.model = model\n",
        "        self.color = color\n",
        "        self.is_running = False  # Default: The car is off\n",
        "\n",
        "    def start(self):\n",
        "        self.is_running = True\n",
        "        print(f\"The {self.color} {self.make} {self.model} has started.\")\n",
        "\n",
        "    def drive(self):\n",
        "        if self.is_running:\n",
        "            print(f\"The {self.color} {self.make} {self.model} is driving!\")\n",
        "        else:\n",
        "            print(f\"Start the car first!\")\n",
        "\n",
        "# Usage\n",
        "my_car = Car(\"Toyota\", \"Corolla\", \"Red\")\n",
        "my_car.start()\n",
        "my_car.drive()"
      ],
      "metadata": {
        "colab": {
          "base_uri": "https://localhost:8080/"
        },
        "id": "OcUc2frW_WoO",
        "outputId": "0d9ef991-3d08-4484-a05a-5f0e86ea92e8"
      },
      "id": "OcUc2frW_WoO",
      "execution_count": 12,
      "outputs": [
        {
          "output_type": "stream",
          "name": "stdout",
          "text": [
            "The Red Toyota Corolla has started.\n",
            "The Red Toyota Corolla is driving!\n"
          ]
        }
      ]
    },
    {
      "cell_type": "code",
      "source": [
        "class Car:\n",
        "    def __init__(self, make, model, color):\n",
        "        self.make = make\n",
        "        self.model = model\n",
        "        self.color = color\n",
        "\n",
        "    def drive(self):\n",
        "        print(f\"The {self.color} {self.make} {self.model} is driving!\")\n",
        "\n",
        "class ElectricCar(Car):  # Inheriting from Car\n",
        "    def __init__(self, make, model, color, battery_capacity):\n",
        "        super().__init__(make, model, color)\n",
        "        self.battery_capacity = battery_capacity\n",
        "\n",
        "    def charge(self):\n",
        "        print(f\"The {self.color} {self.make} {self.model} is charging.\")\n",
        "\n",
        "# Usage\n",
        "my_tesla = ElectricCar(\"Tesla\", \"Model S\", \"White\", \"100kWh\")\n",
        "my_tesla.drive()  # Inherited from Car\n",
        "my_tesla.charge()  # Unique to ElectricCar"
      ],
      "metadata": {
        "colab": {
          "base_uri": "https://localhost:8080/"
        },
        "id": "7qBxHSWq_Wkj",
        "outputId": "c52201cf-34c0-4eaa-e69a-c8e62accaf44"
      },
      "id": "7qBxHSWq_Wkj",
      "execution_count": 13,
      "outputs": [
        {
          "output_type": "stream",
          "name": "stdout",
          "text": [
            "The White Tesla Model S is driving!\n",
            "The White Tesla Model S is charging.\n"
          ]
        }
      ]
    },
    {
      "cell_type": "code",
      "execution_count": 14,
      "id": "b3561d29-56ad-4ab8-ab13-05a8889a190b",
      "metadata": {
        "id": "b3561d29-56ad-4ab8-ab13-05a8889a190b"
      },
      "outputs": [],
      "source": [
        "## .Design a banking system where customers can:\n",
        "##•\tOpen different types of accounts (e.g., Savings and Checking).\n",
        "##•\tDeposit money.\n",
        "##•\tWithdraw money.\n",
        "##•\tCheck their account balance.\n",
        "##You’ll create a base class Account, and two derived classes SavingsAccount and CheckingAccount. You'll also implement methods for performing various banking operations\n",
        "##________________________________________\n"
      ]
    },
    {
      "cell_type": "code",
      "execution_count": 15,
      "id": "ac55178d-51bc-4224-8053-1e874c041c78",
      "metadata": {
        "colab": {
          "base_uri": "https://localhost:8080/"
        },
        "id": "ac55178d-51bc-4224-8053-1e874c041c78",
        "outputId": "c2ecf99e-58e8-4f64-da0f-6b2df2a5b9f9"
      },
      "outputs": [
        {
          "output_type": "stream",
          "name": "stdout",
          "text": [
            "Current balance: $0\n",
            "$500 deposited. New balance: $500\n",
            "$200 deposited. New balance: $700\n",
            "cannot withdraw minimum balance 100 need to be maintained....\n",
            "Insufficient funds or invalid amount.\n",
            "$300 withdrawn. New balance: $400\n",
            "Current balance: $400\n"
          ]
        }
      ],
      "source": [
        "class BankAccount:\n",
        "    def __init__(self, accountNumber, balance=0):\n",
        "        \"\"\"Initialize account and balance\"\"\"\n",
        "       ## self.owner = owner\n",
        "        self.accountNumber= accountNumber\n",
        "        self.balance = balance\n",
        "\n",
        "    def deposit(self,accountNumber, amount):\n",
        "        \"\"\"Deposit money into the account\"\"\"\n",
        "        if accountNumber != self.accountNumber:\n",
        "            print('please enter correct account number')\n",
        "        elif amount > 0:\n",
        "            self.balance += amount\n",
        "            print(f\"${amount} deposited. New balance: ${self.balance}\")\n",
        "        else:\n",
        "            print(\"Deposit amount must be positive.\")\n",
        "\n",
        "    def withdraw(self):\n",
        "        \"\"\"Withdraw money from the account\"\"\"\n",
        "\n",
        "    def check_balance(self, accountNumber):\n",
        "        \"\"\"Check the current balance\"\"\"\n",
        "        print(f\"Current balance: ${self.balance}\")\n",
        "\n",
        "class SavingAccount(BankAccount):\n",
        "     def __init__(self, accountNumber, balance=0):\n",
        "        \"\"\"Initialize Saving account accountNumber and balance\"\"\"\n",
        "        self.accountType = \"Saving\"\n",
        "        self.accountNumber= accountNumber\n",
        "        self.balance = balance\n",
        "\n",
        "     def withdraw(self,accountNumber, amount):\n",
        "        \"\"\"Withdraw money from the account\"\"\"\n",
        "        if accountNumber != self.accountNumber:\n",
        "            print('please enter correct account number')\n",
        "        elif 0 < amount <= self.balance:\n",
        "            if self.balance-amount<100:\n",
        "                print(\"cannot withdraw minimum balance 100 need to be maintained....\")\n",
        "            else:\n",
        "                self.balance -= amount\n",
        "                print(f\"${amount} withdrawn. New balance: ${self.balance}\")\n",
        "        else:\n",
        "            print(\"Insufficient funds or invalid amount.\")\n",
        "\n",
        "# Create a bank account for Alice\n",
        "alice_account = SavingAccount(12345)\n",
        "\n",
        "# Display initial balance\n",
        "alice_account.check_balance(12345)\n",
        "\n",
        "# Deposit money into Alice's account\n",
        "alice_account.deposit(12345, 500)  # Deposit $500\n",
        "alice_account.deposit(12345, 200)  # Deposit $200\n",
        "\n",
        "\n",
        "# Try to withdraw more money than the minimmum balance\n",
        "alice_account.withdraw(12345, 650)  # Should fail\n",
        "\n",
        "# Try to withdraw more money than the balance\n",
        "alice_account.withdraw(12345, 800)  # Should fail\n",
        "\n",
        "# Withdraw a valid amount\n",
        "alice_account.withdraw(12345, 300)  # Withdraw $300\n",
        "\n",
        "# Check balance after transactions\n",
        "alice_account.check_balance(12345)\n",
        "\n"
      ]
    },
    {
      "cell_type": "code",
      "execution_count": 15,
      "id": "a4e6c99c-3410-4b6f-a2a9-e063b82573ef",
      "metadata": {
        "id": "a4e6c99c-3410-4b6f-a2a9-e063b82573ef"
      },
      "outputs": [],
      "source": []
    }
  ],
  "metadata": {
    "kernelspec": {
      "display_name": "Python 3 (ipykernel)",
      "language": "python",
      "name": "python3"
    },
    "language_info": {
      "codemirror_mode": {
        "name": "ipython",
        "version": 3
      },
      "file_extension": ".py",
      "mimetype": "text/x-python",
      "name": "python",
      "nbconvert_exporter": "python",
      "pygments_lexer": "ipython3",
      "version": "3.12.4"
    },
    "colab": {
      "provenance": []
    }
  },
  "nbformat": 4,
  "nbformat_minor": 5
}