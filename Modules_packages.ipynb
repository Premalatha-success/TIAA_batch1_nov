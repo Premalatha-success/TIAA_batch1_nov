{
 "cells": [
  {
   "cell_type": "code",
   "execution_count": 67,
   "id": "0aecc9fa-5933-4a45-810a-94f03e3ce28e",
   "metadata": {},
   "outputs": [],
   "source": [
    "import numpy as np\n",
    "import pandas as pd\n",
    "import seaborn as sns"
   ]
  },
  {
   "cell_type": "code",
   "execution_count": 68,
   "id": "6701694b-babd-423d-827c-2f41a5edfb57",
   "metadata": {},
   "outputs": [],
   "source": [
    "df=pd.read_csv(\"CardioGoodFitness-1 (1).csv\")"
   ]
  },
  {
   "cell_type": "code",
   "execution_count": 69,
   "id": "4184de31-4cf9-4fc0-9254-a68fb2e6637a",
   "metadata": {},
   "outputs": [
    {
     "data": {
      "text/html": [
       "<div>\n",
       "<style scoped>\n",
       "    .dataframe tbody tr th:only-of-type {\n",
       "        vertical-align: middle;\n",
       "    }\n",
       "\n",
       "    .dataframe tbody tr th {\n",
       "        vertical-align: top;\n",
       "    }\n",
       "\n",
       "    .dataframe thead th {\n",
       "        text-align: right;\n",
       "    }\n",
       "</style>\n",
       "<table border=\"1\" class=\"dataframe\">\n",
       "  <thead>\n",
       "    <tr style=\"text-align: right;\">\n",
       "      <th></th>\n",
       "      <th>Product</th>\n",
       "      <th>Age</th>\n",
       "      <th>Gender</th>\n",
       "      <th>Education</th>\n",
       "      <th>MaritalStatus</th>\n",
       "      <th>Usage</th>\n",
       "      <th>Fitness</th>\n",
       "      <th>Income</th>\n",
       "      <th>Miles</th>\n",
       "    </tr>\n",
       "  </thead>\n",
       "  <tbody>\n",
       "    <tr>\n",
       "      <th>0</th>\n",
       "      <td>TM195</td>\n",
       "      <td>18</td>\n",
       "      <td>Male</td>\n",
       "      <td>14</td>\n",
       "      <td>Single</td>\n",
       "      <td>3</td>\n",
       "      <td>4</td>\n",
       "      <td>29562</td>\n",
       "      <td>112</td>\n",
       "    </tr>\n",
       "    <tr>\n",
       "      <th>1</th>\n",
       "      <td>TM195</td>\n",
       "      <td>19</td>\n",
       "      <td>Male</td>\n",
       "      <td>15</td>\n",
       "      <td>Single</td>\n",
       "      <td>2</td>\n",
       "      <td>3</td>\n",
       "      <td>31836</td>\n",
       "      <td>75</td>\n",
       "    </tr>\n",
       "    <tr>\n",
       "      <th>2</th>\n",
       "      <td>TM195</td>\n",
       "      <td>19</td>\n",
       "      <td>Female</td>\n",
       "      <td>14</td>\n",
       "      <td>Partnered</td>\n",
       "      <td>4</td>\n",
       "      <td>3</td>\n",
       "      <td>30699</td>\n",
       "      <td>66</td>\n",
       "    </tr>\n",
       "    <tr>\n",
       "      <th>3</th>\n",
       "      <td>TM195</td>\n",
       "      <td>19</td>\n",
       "      <td>Male</td>\n",
       "      <td>12</td>\n",
       "      <td>Single</td>\n",
       "      <td>3</td>\n",
       "      <td>3</td>\n",
       "      <td>32973</td>\n",
       "      <td>85</td>\n",
       "    </tr>\n",
       "    <tr>\n",
       "      <th>4</th>\n",
       "      <td>TM195</td>\n",
       "      <td>20</td>\n",
       "      <td>Male</td>\n",
       "      <td>13</td>\n",
       "      <td>Partnered</td>\n",
       "      <td>4</td>\n",
       "      <td>2</td>\n",
       "      <td>35247</td>\n",
       "      <td>47</td>\n",
       "    </tr>\n",
       "  </tbody>\n",
       "</table>\n",
       "</div>"
      ],
      "text/plain": [
       "  Product  Age  Gender  Education MaritalStatus  Usage  Fitness  Income  Miles\n",
       "0   TM195   18    Male         14        Single      3        4   29562    112\n",
       "1   TM195   19    Male         15        Single      2        3   31836     75\n",
       "2   TM195   19  Female         14     Partnered      4        3   30699     66\n",
       "3   TM195   19    Male         12        Single      3        3   32973     85\n",
       "4   TM195   20    Male         13     Partnered      4        2   35247     47"
      ]
     },
     "execution_count": 69,
     "metadata": {},
     "output_type": "execute_result"
    }
   ],
   "source": [
    "df.head()"
   ]
  },
  {
   "cell_type": "code",
   "execution_count": 70,
   "id": "968cb0ea-8af7-43ac-b426-f70db0709cdd",
   "metadata": {},
   "outputs": [
    {
     "data": {
      "text/html": [
       "<div>\n",
       "<style scoped>\n",
       "    .dataframe tbody tr th:only-of-type {\n",
       "        vertical-align: middle;\n",
       "    }\n",
       "\n",
       "    .dataframe tbody tr th {\n",
       "        vertical-align: top;\n",
       "    }\n",
       "\n",
       "    .dataframe thead th {\n",
       "        text-align: right;\n",
       "    }\n",
       "</style>\n",
       "<table border=\"1\" class=\"dataframe\">\n",
       "  <thead>\n",
       "    <tr style=\"text-align: right;\">\n",
       "      <th></th>\n",
       "      <th>Product</th>\n",
       "      <th>Age</th>\n",
       "      <th>Gender</th>\n",
       "      <th>Education</th>\n",
       "      <th>MaritalStatus</th>\n",
       "      <th>Usage</th>\n",
       "      <th>Fitness</th>\n",
       "      <th>Income</th>\n",
       "      <th>Miles</th>\n",
       "    </tr>\n",
       "  </thead>\n",
       "  <tbody>\n",
       "    <tr>\n",
       "      <th>175</th>\n",
       "      <td>TM798</td>\n",
       "      <td>40</td>\n",
       "      <td>Male</td>\n",
       "      <td>21</td>\n",
       "      <td>Single</td>\n",
       "      <td>6</td>\n",
       "      <td>5</td>\n",
       "      <td>83416</td>\n",
       "      <td>200</td>\n",
       "    </tr>\n",
       "    <tr>\n",
       "      <th>176</th>\n",
       "      <td>TM798</td>\n",
       "      <td>42</td>\n",
       "      <td>Male</td>\n",
       "      <td>18</td>\n",
       "      <td>Single</td>\n",
       "      <td>5</td>\n",
       "      <td>4</td>\n",
       "      <td>89641</td>\n",
       "      <td>200</td>\n",
       "    </tr>\n",
       "    <tr>\n",
       "      <th>177</th>\n",
       "      <td>TM798</td>\n",
       "      <td>45</td>\n",
       "      <td>Male</td>\n",
       "      <td>16</td>\n",
       "      <td>Single</td>\n",
       "      <td>5</td>\n",
       "      <td>5</td>\n",
       "      <td>90886</td>\n",
       "      <td>160</td>\n",
       "    </tr>\n",
       "    <tr>\n",
       "      <th>178</th>\n",
       "      <td>TM798</td>\n",
       "      <td>47</td>\n",
       "      <td>Male</td>\n",
       "      <td>18</td>\n",
       "      <td>Partnered</td>\n",
       "      <td>4</td>\n",
       "      <td>5</td>\n",
       "      <td>104581</td>\n",
       "      <td>120</td>\n",
       "    </tr>\n",
       "    <tr>\n",
       "      <th>179</th>\n",
       "      <td>TM798</td>\n",
       "      <td>48</td>\n",
       "      <td>Male</td>\n",
       "      <td>18</td>\n",
       "      <td>Partnered</td>\n",
       "      <td>4</td>\n",
       "      <td>5</td>\n",
       "      <td>95508</td>\n",
       "      <td>180</td>\n",
       "    </tr>\n",
       "  </tbody>\n",
       "</table>\n",
       "</div>"
      ],
      "text/plain": [
       "    Product  Age Gender  Education MaritalStatus  Usage  Fitness  Income  \\\n",
       "175   TM798   40   Male         21        Single      6        5   83416   \n",
       "176   TM798   42   Male         18        Single      5        4   89641   \n",
       "177   TM798   45   Male         16        Single      5        5   90886   \n",
       "178   TM798   47   Male         18     Partnered      4        5  104581   \n",
       "179   TM798   48   Male         18     Partnered      4        5   95508   \n",
       "\n",
       "     Miles  \n",
       "175    200  \n",
       "176    200  \n",
       "177    160  \n",
       "178    120  \n",
       "179    180  "
      ]
     },
     "execution_count": 70,
     "metadata": {},
     "output_type": "execute_result"
    }
   ],
   "source": [
    "df.tail()"
   ]
  },
  {
   "cell_type": "code",
   "execution_count": 71,
   "id": "0f047524-90a7-4f49-9842-9c1b3fff42e1",
   "metadata": {},
   "outputs": [
    {
     "data": {
      "text/html": [
       "<div>\n",
       "<style scoped>\n",
       "    .dataframe tbody tr th:only-of-type {\n",
       "        vertical-align: middle;\n",
       "    }\n",
       "\n",
       "    .dataframe tbody tr th {\n",
       "        vertical-align: top;\n",
       "    }\n",
       "\n",
       "    .dataframe thead th {\n",
       "        text-align: right;\n",
       "    }\n",
       "</style>\n",
       "<table border=\"1\" class=\"dataframe\">\n",
       "  <thead>\n",
       "    <tr style=\"text-align: right;\">\n",
       "      <th></th>\n",
       "      <th>Product</th>\n",
       "      <th>Age</th>\n",
       "      <th>Gender</th>\n",
       "      <th>Education</th>\n",
       "      <th>MaritalStatus</th>\n",
       "      <th>Usage</th>\n",
       "      <th>Fitness</th>\n",
       "      <th>Income</th>\n",
       "      <th>Miles</th>\n",
       "    </tr>\n",
       "  </thead>\n",
       "  <tbody>\n",
       "    <tr>\n",
       "      <th>128</th>\n",
       "      <td>TM498</td>\n",
       "      <td>35</td>\n",
       "      <td>Female</td>\n",
       "      <td>14</td>\n",
       "      <td>Partnered</td>\n",
       "      <td>3</td>\n",
       "      <td>2</td>\n",
       "      <td>52302</td>\n",
       "      <td>53</td>\n",
       "    </tr>\n",
       "    <tr>\n",
       "      <th>108</th>\n",
       "      <td>TM498</td>\n",
       "      <td>26</td>\n",
       "      <td>Female</td>\n",
       "      <td>16</td>\n",
       "      <td>Partnered</td>\n",
       "      <td>4</td>\n",
       "      <td>3</td>\n",
       "      <td>45480</td>\n",
       "      <td>85</td>\n",
       "    </tr>\n",
       "    <tr>\n",
       "      <th>63</th>\n",
       "      <td>TM195</td>\n",
       "      <td>35</td>\n",
       "      <td>Male</td>\n",
       "      <td>16</td>\n",
       "      <td>Partnered</td>\n",
       "      <td>4</td>\n",
       "      <td>3</td>\n",
       "      <td>48891</td>\n",
       "      <td>85</td>\n",
       "    </tr>\n",
       "    <tr>\n",
       "      <th>77</th>\n",
       "      <td>TM195</td>\n",
       "      <td>46</td>\n",
       "      <td>Female</td>\n",
       "      <td>16</td>\n",
       "      <td>Partnered</td>\n",
       "      <td>3</td>\n",
       "      <td>2</td>\n",
       "      <td>60261</td>\n",
       "      <td>47</td>\n",
       "    </tr>\n",
       "    <tr>\n",
       "      <th>41</th>\n",
       "      <td>TM195</td>\n",
       "      <td>27</td>\n",
       "      <td>Female</td>\n",
       "      <td>14</td>\n",
       "      <td>Partnered</td>\n",
       "      <td>3</td>\n",
       "      <td>2</td>\n",
       "      <td>45480</td>\n",
       "      <td>66</td>\n",
       "    </tr>\n",
       "    <tr>\n",
       "      <th>67</th>\n",
       "      <td>TM195</td>\n",
       "      <td>37</td>\n",
       "      <td>Female</td>\n",
       "      <td>16</td>\n",
       "      <td>Partnered</td>\n",
       "      <td>3</td>\n",
       "      <td>3</td>\n",
       "      <td>37521</td>\n",
       "      <td>85</td>\n",
       "    </tr>\n",
       "    <tr>\n",
       "      <th>44</th>\n",
       "      <td>TM195</td>\n",
       "      <td>28</td>\n",
       "      <td>Female</td>\n",
       "      <td>14</td>\n",
       "      <td>Partnered</td>\n",
       "      <td>2</td>\n",
       "      <td>3</td>\n",
       "      <td>46617</td>\n",
       "      <td>56</td>\n",
       "    </tr>\n",
       "    <tr>\n",
       "      <th>45</th>\n",
       "      <td>TM195</td>\n",
       "      <td>28</td>\n",
       "      <td>Female</td>\n",
       "      <td>16</td>\n",
       "      <td>Partnered</td>\n",
       "      <td>2</td>\n",
       "      <td>3</td>\n",
       "      <td>52302</td>\n",
       "      <td>66</td>\n",
       "    </tr>\n",
       "    <tr>\n",
       "      <th>168</th>\n",
       "      <td>TM798</td>\n",
       "      <td>30</td>\n",
       "      <td>Male</td>\n",
       "      <td>18</td>\n",
       "      <td>Partnered</td>\n",
       "      <td>5</td>\n",
       "      <td>4</td>\n",
       "      <td>103336</td>\n",
       "      <td>160</td>\n",
       "    </tr>\n",
       "    <tr>\n",
       "      <th>146</th>\n",
       "      <td>TM798</td>\n",
       "      <td>24</td>\n",
       "      <td>Male</td>\n",
       "      <td>16</td>\n",
       "      <td>Single</td>\n",
       "      <td>4</td>\n",
       "      <td>5</td>\n",
       "      <td>61006</td>\n",
       "      <td>100</td>\n",
       "    </tr>\n",
       "  </tbody>\n",
       "</table>\n",
       "</div>"
      ],
      "text/plain": [
       "    Product  Age  Gender  Education MaritalStatus  Usage  Fitness  Income  \\\n",
       "128   TM498   35  Female         14     Partnered      3        2   52302   \n",
       "108   TM498   26  Female         16     Partnered      4        3   45480   \n",
       "63    TM195   35    Male         16     Partnered      4        3   48891   \n",
       "77    TM195   46  Female         16     Partnered      3        2   60261   \n",
       "41    TM195   27  Female         14     Partnered      3        2   45480   \n",
       "67    TM195   37  Female         16     Partnered      3        3   37521   \n",
       "44    TM195   28  Female         14     Partnered      2        3   46617   \n",
       "45    TM195   28  Female         16     Partnered      2        3   52302   \n",
       "168   TM798   30    Male         18     Partnered      5        4  103336   \n",
       "146   TM798   24    Male         16        Single      4        5   61006   \n",
       "\n",
       "     Miles  \n",
       "128     53  \n",
       "108     85  \n",
       "63      85  \n",
       "77      47  \n",
       "41      66  \n",
       "67      85  \n",
       "44      56  \n",
       "45      66  \n",
       "168    160  \n",
       "146    100  "
      ]
     },
     "execution_count": 71,
     "metadata": {},
     "output_type": "execute_result"
    }
   ],
   "source": [
    "df.sample(10)"
   ]
  },
  {
   "cell_type": "code",
   "execution_count": 72,
   "id": "871a01c7-a771-4944-bc32-99b5dc41da2b",
   "metadata": {},
   "outputs": [
    {
     "data": {
      "text/plain": [
       "Product          object\n",
       "Age               int64\n",
       "Gender           object\n",
       "Education         int64\n",
       "MaritalStatus    object\n",
       "Usage             int64\n",
       "Fitness           int64\n",
       "Income            int64\n",
       "Miles             int64\n",
       "dtype: object"
      ]
     },
     "execution_count": 72,
     "metadata": {},
     "output_type": "execute_result"
    }
   ],
   "source": [
    "df.dtypes"
   ]
  },
  {
   "cell_type": "code",
   "execution_count": 73,
   "id": "d92014c6-8948-42e9-830a-80cacf995f3f",
   "metadata": {},
   "outputs": [
    {
     "data": {
      "text/plain": [
       "(180, 9)"
      ]
     },
     "execution_count": 73,
     "metadata": {},
     "output_type": "execute_result"
    }
   ],
   "source": [
    "df.shape"
   ]
  },
  {
   "cell_type": "code",
   "execution_count": 74,
   "id": "a4fcda3b-a519-435f-97eb-78b13d1d740d",
   "metadata": {},
   "outputs": [
    {
     "data": {
      "text/html": [
       "<div>\n",
       "<style scoped>\n",
       "    .dataframe tbody tr th:only-of-type {\n",
       "        vertical-align: middle;\n",
       "    }\n",
       "\n",
       "    .dataframe tbody tr th {\n",
       "        vertical-align: top;\n",
       "    }\n",
       "\n",
       "    .dataframe thead th {\n",
       "        text-align: right;\n",
       "    }\n",
       "</style>\n",
       "<table border=\"1\" class=\"dataframe\">\n",
       "  <thead>\n",
       "    <tr style=\"text-align: right;\">\n",
       "      <th></th>\n",
       "      <th>Age</th>\n",
       "      <th>Education</th>\n",
       "      <th>Usage</th>\n",
       "      <th>Fitness</th>\n",
       "      <th>Income</th>\n",
       "      <th>Miles</th>\n",
       "    </tr>\n",
       "  </thead>\n",
       "  <tbody>\n",
       "    <tr>\n",
       "      <th>count</th>\n",
       "      <td>180.000000</td>\n",
       "      <td>180.000000</td>\n",
       "      <td>180.000000</td>\n",
       "      <td>180.000000</td>\n",
       "      <td>180.000000</td>\n",
       "      <td>180.000000</td>\n",
       "    </tr>\n",
       "    <tr>\n",
       "      <th>mean</th>\n",
       "      <td>28.788889</td>\n",
       "      <td>15.572222</td>\n",
       "      <td>3.455556</td>\n",
       "      <td>3.311111</td>\n",
       "      <td>53719.577778</td>\n",
       "      <td>103.194444</td>\n",
       "    </tr>\n",
       "    <tr>\n",
       "      <th>std</th>\n",
       "      <td>6.943498</td>\n",
       "      <td>1.617055</td>\n",
       "      <td>1.084797</td>\n",
       "      <td>0.958869</td>\n",
       "      <td>16506.684226</td>\n",
       "      <td>51.863605</td>\n",
       "    </tr>\n",
       "    <tr>\n",
       "      <th>min</th>\n",
       "      <td>18.000000</td>\n",
       "      <td>12.000000</td>\n",
       "      <td>2.000000</td>\n",
       "      <td>1.000000</td>\n",
       "      <td>29562.000000</td>\n",
       "      <td>21.000000</td>\n",
       "    </tr>\n",
       "    <tr>\n",
       "      <th>25%</th>\n",
       "      <td>24.000000</td>\n",
       "      <td>14.000000</td>\n",
       "      <td>3.000000</td>\n",
       "      <td>3.000000</td>\n",
       "      <td>44058.750000</td>\n",
       "      <td>66.000000</td>\n",
       "    </tr>\n",
       "    <tr>\n",
       "      <th>50%</th>\n",
       "      <td>26.000000</td>\n",
       "      <td>16.000000</td>\n",
       "      <td>3.000000</td>\n",
       "      <td>3.000000</td>\n",
       "      <td>50596.500000</td>\n",
       "      <td>94.000000</td>\n",
       "    </tr>\n",
       "    <tr>\n",
       "      <th>75%</th>\n",
       "      <td>33.000000</td>\n",
       "      <td>16.000000</td>\n",
       "      <td>4.000000</td>\n",
       "      <td>4.000000</td>\n",
       "      <td>58668.000000</td>\n",
       "      <td>114.750000</td>\n",
       "    </tr>\n",
       "    <tr>\n",
       "      <th>max</th>\n",
       "      <td>50.000000</td>\n",
       "      <td>21.000000</td>\n",
       "      <td>7.000000</td>\n",
       "      <td>5.000000</td>\n",
       "      <td>104581.000000</td>\n",
       "      <td>360.000000</td>\n",
       "    </tr>\n",
       "  </tbody>\n",
       "</table>\n",
       "</div>"
      ],
      "text/plain": [
       "              Age   Education       Usage     Fitness         Income  \\\n",
       "count  180.000000  180.000000  180.000000  180.000000     180.000000   \n",
       "mean    28.788889   15.572222    3.455556    3.311111   53719.577778   \n",
       "std      6.943498    1.617055    1.084797    0.958869   16506.684226   \n",
       "min     18.000000   12.000000    2.000000    1.000000   29562.000000   \n",
       "25%     24.000000   14.000000    3.000000    3.000000   44058.750000   \n",
       "50%     26.000000   16.000000    3.000000    3.000000   50596.500000   \n",
       "75%     33.000000   16.000000    4.000000    4.000000   58668.000000   \n",
       "max     50.000000   21.000000    7.000000    5.000000  104581.000000   \n",
       "\n",
       "            Miles  \n",
       "count  180.000000  \n",
       "mean   103.194444  \n",
       "std     51.863605  \n",
       "min     21.000000  \n",
       "25%     66.000000  \n",
       "50%     94.000000  \n",
       "75%    114.750000  \n",
       "max    360.000000  "
      ]
     },
     "execution_count": 74,
     "metadata": {},
     "output_type": "execute_result"
    }
   ],
   "source": [
    "df.describe()"
   ]
  },
  {
   "cell_type": "code",
   "execution_count": 75,
   "id": "09b7fc82-eef4-4a65-b6e9-652356269121",
   "metadata": {},
   "outputs": [
    {
     "data": {
      "text/html": [
       "<div>\n",
       "<style scoped>\n",
       "    .dataframe tbody tr th:only-of-type {\n",
       "        vertical-align: middle;\n",
       "    }\n",
       "\n",
       "    .dataframe tbody tr th {\n",
       "        vertical-align: top;\n",
       "    }\n",
       "\n",
       "    .dataframe thead th {\n",
       "        text-align: right;\n",
       "    }\n",
       "</style>\n",
       "<table border=\"1\" class=\"dataframe\">\n",
       "  <thead>\n",
       "    <tr style=\"text-align: right;\">\n",
       "      <th></th>\n",
       "      <th>Product</th>\n",
       "      <th>Age</th>\n",
       "      <th>Gender</th>\n",
       "      <th>Education</th>\n",
       "      <th>MaritalStatus</th>\n",
       "      <th>Usage</th>\n",
       "      <th>Fitness</th>\n",
       "      <th>Income</th>\n",
       "      <th>Miles</th>\n",
       "    </tr>\n",
       "  </thead>\n",
       "  <tbody>\n",
       "    <tr>\n",
       "      <th>count</th>\n",
       "      <td>180</td>\n",
       "      <td>180.000000</td>\n",
       "      <td>180</td>\n",
       "      <td>180.000000</td>\n",
       "      <td>180</td>\n",
       "      <td>180.000000</td>\n",
       "      <td>180.000000</td>\n",
       "      <td>180.000000</td>\n",
       "      <td>180.000000</td>\n",
       "    </tr>\n",
       "    <tr>\n",
       "      <th>unique</th>\n",
       "      <td>3</td>\n",
       "      <td>NaN</td>\n",
       "      <td>2</td>\n",
       "      <td>NaN</td>\n",
       "      <td>2</td>\n",
       "      <td>NaN</td>\n",
       "      <td>NaN</td>\n",
       "      <td>NaN</td>\n",
       "      <td>NaN</td>\n",
       "    </tr>\n",
       "    <tr>\n",
       "      <th>top</th>\n",
       "      <td>TM195</td>\n",
       "      <td>NaN</td>\n",
       "      <td>Male</td>\n",
       "      <td>NaN</td>\n",
       "      <td>Partnered</td>\n",
       "      <td>NaN</td>\n",
       "      <td>NaN</td>\n",
       "      <td>NaN</td>\n",
       "      <td>NaN</td>\n",
       "    </tr>\n",
       "    <tr>\n",
       "      <th>freq</th>\n",
       "      <td>80</td>\n",
       "      <td>NaN</td>\n",
       "      <td>104</td>\n",
       "      <td>NaN</td>\n",
       "      <td>107</td>\n",
       "      <td>NaN</td>\n",
       "      <td>NaN</td>\n",
       "      <td>NaN</td>\n",
       "      <td>NaN</td>\n",
       "    </tr>\n",
       "    <tr>\n",
       "      <th>mean</th>\n",
       "      <td>NaN</td>\n",
       "      <td>28.788889</td>\n",
       "      <td>NaN</td>\n",
       "      <td>15.572222</td>\n",
       "      <td>NaN</td>\n",
       "      <td>3.455556</td>\n",
       "      <td>3.311111</td>\n",
       "      <td>53719.577778</td>\n",
       "      <td>103.194444</td>\n",
       "    </tr>\n",
       "    <tr>\n",
       "      <th>std</th>\n",
       "      <td>NaN</td>\n",
       "      <td>6.943498</td>\n",
       "      <td>NaN</td>\n",
       "      <td>1.617055</td>\n",
       "      <td>NaN</td>\n",
       "      <td>1.084797</td>\n",
       "      <td>0.958869</td>\n",
       "      <td>16506.684226</td>\n",
       "      <td>51.863605</td>\n",
       "    </tr>\n",
       "    <tr>\n",
       "      <th>min</th>\n",
       "      <td>NaN</td>\n",
       "      <td>18.000000</td>\n",
       "      <td>NaN</td>\n",
       "      <td>12.000000</td>\n",
       "      <td>NaN</td>\n",
       "      <td>2.000000</td>\n",
       "      <td>1.000000</td>\n",
       "      <td>29562.000000</td>\n",
       "      <td>21.000000</td>\n",
       "    </tr>\n",
       "    <tr>\n",
       "      <th>25%</th>\n",
       "      <td>NaN</td>\n",
       "      <td>24.000000</td>\n",
       "      <td>NaN</td>\n",
       "      <td>14.000000</td>\n",
       "      <td>NaN</td>\n",
       "      <td>3.000000</td>\n",
       "      <td>3.000000</td>\n",
       "      <td>44058.750000</td>\n",
       "      <td>66.000000</td>\n",
       "    </tr>\n",
       "    <tr>\n",
       "      <th>50%</th>\n",
       "      <td>NaN</td>\n",
       "      <td>26.000000</td>\n",
       "      <td>NaN</td>\n",
       "      <td>16.000000</td>\n",
       "      <td>NaN</td>\n",
       "      <td>3.000000</td>\n",
       "      <td>3.000000</td>\n",
       "      <td>50596.500000</td>\n",
       "      <td>94.000000</td>\n",
       "    </tr>\n",
       "    <tr>\n",
       "      <th>75%</th>\n",
       "      <td>NaN</td>\n",
       "      <td>33.000000</td>\n",
       "      <td>NaN</td>\n",
       "      <td>16.000000</td>\n",
       "      <td>NaN</td>\n",
       "      <td>4.000000</td>\n",
       "      <td>4.000000</td>\n",
       "      <td>58668.000000</td>\n",
       "      <td>114.750000</td>\n",
       "    </tr>\n",
       "    <tr>\n",
       "      <th>max</th>\n",
       "      <td>NaN</td>\n",
       "      <td>50.000000</td>\n",
       "      <td>NaN</td>\n",
       "      <td>21.000000</td>\n",
       "      <td>NaN</td>\n",
       "      <td>7.000000</td>\n",
       "      <td>5.000000</td>\n",
       "      <td>104581.000000</td>\n",
       "      <td>360.000000</td>\n",
       "    </tr>\n",
       "  </tbody>\n",
       "</table>\n",
       "</div>"
      ],
      "text/plain": [
       "       Product         Age Gender   Education MaritalStatus       Usage  \\\n",
       "count      180  180.000000    180  180.000000           180  180.000000   \n",
       "unique       3         NaN      2         NaN             2         NaN   \n",
       "top      TM195         NaN   Male         NaN     Partnered         NaN   \n",
       "freq        80         NaN    104         NaN           107         NaN   \n",
       "mean       NaN   28.788889    NaN   15.572222           NaN    3.455556   \n",
       "std        NaN    6.943498    NaN    1.617055           NaN    1.084797   \n",
       "min        NaN   18.000000    NaN   12.000000           NaN    2.000000   \n",
       "25%        NaN   24.000000    NaN   14.000000           NaN    3.000000   \n",
       "50%        NaN   26.000000    NaN   16.000000           NaN    3.000000   \n",
       "75%        NaN   33.000000    NaN   16.000000           NaN    4.000000   \n",
       "max        NaN   50.000000    NaN   21.000000           NaN    7.000000   \n",
       "\n",
       "           Fitness         Income       Miles  \n",
       "count   180.000000     180.000000  180.000000  \n",
       "unique         NaN            NaN         NaN  \n",
       "top            NaN            NaN         NaN  \n",
       "freq           NaN            NaN         NaN  \n",
       "mean      3.311111   53719.577778  103.194444  \n",
       "std       0.958869   16506.684226   51.863605  \n",
       "min       1.000000   29562.000000   21.000000  \n",
       "25%       3.000000   44058.750000   66.000000  \n",
       "50%       3.000000   50596.500000   94.000000  \n",
       "75%       4.000000   58668.000000  114.750000  \n",
       "max       5.000000  104581.000000  360.000000  "
      ]
     },
     "execution_count": 75,
     "metadata": {},
     "output_type": "execute_result"
    }
   ],
   "source": [
    "df.describe(include='all')"
   ]
  },
  {
   "cell_type": "code",
   "execution_count": 76,
   "id": "a7de7254-0e45-48ce-b0a4-4d9d43be4c6c",
   "metadata": {},
   "outputs": [
    {
     "data": {
      "text/plain": [
       "<Axes: xlabel='Product', ylabel='count'>"
      ]
     },
     "execution_count": 76,
     "metadata": {},
     "output_type": "execute_result"
    },
    {
     "data": {
      "image/png": "[encoded data removed]",
      "text/plain": [
       "<Figure size 640x480 with 1 Axes>"
      ]
     },
     "metadata": {},
     "output_type": "display_data"
    }
   ],
   "source": [
    "sns.countplot(x=\"Product\",data=df)"
   ]
  },
  {
   "cell_type": "code",
   "execution_count": 77,
   "id": "005206f2-3294-4d5c-913e-99dfdb9f08d8",
   "metadata": {},
   "outputs": [
    {
     "data": {
      "text/plain": [
       "<Axes: xlabel='Product', ylabel='count'>"
      ]
     },
     "execution_count": 77,
     "metadata": {},
     "output_type": "execute_result"
    },
    {
     "data": {
      "image/png": "[encoded data removed]",
      "text/plain": [
       "<Figure size 640x480 with 1 Axes>"
      ]
     },
     "metadata": {},
     "output_type": "display_data"
    }
   ],
   "source": [
    "sns.countplot(x=\"Product\",hue=\"Gender\",data=df)"
   ]
  },
  {
   "cell_type": "code",
   "execution_count": 78,
   "id": "9b52b955-75ca-44d5-9769-db0cf41e413d",
   "metadata": {},
   "outputs": [
    {
     "data": {
      "text/plain": [
       "<Axes: xlabel='Product', ylabel='Age'>"
      ]
     },
     "execution_count": 78,
     "metadata": {},
     "output_type": "execute_result"
    },
    {
     "data": {
      "image/png": "[encoded data removed]",
      "text/plain": [
       "<Figure size 640x480 with 1 Axes>"
      ]
     },
     "metadata": {},
     "output_type": "display_data"
    }
   ],
   "source": [
    "sns.boxplot(x=\"Product\",y=\"Age\",data=df)"
   ]
  },
  {
   "cell_type": "code",
   "execution_count": 79,
   "id": "509586f5-9d04-405d-9aca-b5184fe322cf",
   "metadata": {},
   "outputs": [
    {
     "data": {
      "text/plain": [
       "<Axes: xlabel='Product', ylabel='Education'>"
      ]
     },
     "execution_count": 79,
     "metadata": {},
     "output_type": "execute_result"
    },
    {
     "data": {
      "image/png": "[encoded data removed]",
      "text/plain": [
       "<Figure size 640x480 with 1 Axes>"
      ]
     },
     "metadata": {},
     "output_type": "display_data"
    }
   ],
   "source": [
    "sns.boxplot(x=\"Product\",y=\"Education\",data=df)"
   ]
  },
  {
   "cell_type": "code",
   "execution_count": 80,
   "id": "75632069-3a74-428c-87ae-33d9d0ea2a25",
   "metadata": {},
   "outputs": [
    {
     "data": {
      "text/plain": [
       "<Axes: xlabel='Product', ylabel='Usage'>"
      ]
     },
     "execution_count": 80,
     "metadata": {},
     "output_type": "execute_result"
    },
    {
     "data": {
      "image/png": "[encoded data removed]",
      "text/plain": [
       "<Figure size 640x480 with 1 Axes>"
      ]
     },
     "metadata": {},
     "output_type": "display_data"
    }
   ],
   "source": [
    "sns.boxplot(x=\"Product\",y=\"Usage\",data=df)"
   ]
  },
  {
   "cell_type": "code",
   "execution_count": 81,
   "id": "8208eeaf-16e0-475d-95e8-8ed7f2f43a2f",
   "metadata": {},
   "outputs": [
    {
     "data": {
      "text/plain": [
       "<Axes: xlabel='Product', ylabel='Fitness'>"
      ]
     },
     "execution_count": 81,
     "metadata": {},
     "output_type": "execute_result"
    },
    {
     "data": {
      "image/png": "[encoded data removed]",
      "text/plain": [
       "<Figure size 640x480 with 1 Axes>"
      ]
     },
     "metadata": {},
     "output_type": "display_data"
    }
   ],
   "source": [
    "sns.boxplot(x=\"Product\",y=\"Fitness\",data=df)"
   ]
  },
  {
   "cell_type": "code",
   "execution_count": 82,
   "id": "6a5f3e5c-3118-444a-8ee1-4166b20180c8",
   "metadata": {},
   "outputs": [
    {
     "data": {
      "text/plain": [
       "<Axes: xlabel='Product', ylabel='Fitness'>"
      ]
     },
     "execution_count": 82,
     "metadata": {},
     "output_type": "execute_result"
    },
    {
     "data": {
      "image/png": "[encoded data removed]",
      "text/plain": [
       "<Figure size 640x480 with 1 Axes>"
      ]
     },
     "metadata": {},
     "output_type": "display_data"
    }
   ],
   "source": [
    "sns.violinplot(x=\"Product\",y=\"Fitness\",data=df)"
   ]
  },
  {
   "cell_type": "code",
   "execution_count": 83,
   "id": "11dca134-5b13-4595-b25c-6dcb7c96748d",
   "metadata": {},
   "outputs": [],
   "source": [
    "import warnings\n",
    "warnings.filterwarnings(\"ignore\")"
   ]
  },
  {
   "cell_type": "code",
   "execution_count": 84,
   "id": "68d89cda-fde4-4050-bddd-91fa3bc200dc",
   "metadata": {},
   "outputs": [
    {
     "data": {
      "text/plain": [
       "<Axes: xlabel='Product', ylabel='Age'>"
      ]
     },
     "execution_count": 84,
     "metadata": {},
     "output_type": "execute_result"
    },
    {
     "data": {
      "image/png": "[encoded data removed]",
      "text/plain": [
       "<Figure size 640x480 with 1 Axes>"
      ]
     },
     "metadata": {},
     "output_type": "display_data"
    }
   ],
   "source": [
    "sns.swarmplot(x=\"Product\",y=\"Age\",hue=\"Gender\",data=df)"
   ]
  },
  {
   "cell_type": "code",
   "execution_count": 85,
   "id": "086ef601-c58e-49bf-bb71-f1534ad0fa94",
   "metadata": {},
   "outputs": [
    {
     "data": {
      "text/plain": [
       "<Axes: xlabel='Product', ylabel='Age'>"
      ]
     },
     "execution_count": 85,
     "metadata": {},
     "output_type": "execute_result"
    },
    {
     "data": {
      "image/png": "[encoded data removed]",
      "text/plain": [
       "<Figure size 640x480 with 1 Axes>"
      ]
     },
     "metadata": {},
     "output_type": "display_data"
    }
   ],
   "source": [
    "sns.swarmplot(x=\"Product\",y=\"Age\",hue=\"Fitness\",data=df)"
   ]
  },
  {
   "cell_type": "markdown",
   "id": "fb26e9d5-7b9f-4821-ab10-682457a59fb5",
   "metadata": {},
   "source": [
    "#### Re_Module\n",
    "#### Regular expressions->Text based data->patterns,search,string manipulation"
   ]
  },
  {
   "cell_type": "code",
   "execution_count": 86,
   "id": "35451667-46a3-4234-a445-2c6f88c7a7a8",
   "metadata": {},
   "outputs": [],
   "source": [
    "import re"
   ]
  },
  {
   "cell_type": "code",
   "execution_count": 87,
   "id": "17d0928c-de26-460b-8b63-5f161c898028",
   "metadata": {},
   "outputs": [
    {
     "data": {
      "text/plain": [
       "['A',\n",
       " 'ASCII',\n",
       " 'DEBUG',\n",
       " 'DOTALL',\n",
       " 'I',\n",
       " 'IGNORECASE',\n",
       " 'L',\n",
       " 'LOCALE',\n",
       " 'M',\n",
       " 'MULTILINE',\n",
       " 'Match',\n",
       " 'NOFLAG',\n",
       " 'Pattern',\n",
       " 'RegexFlag',\n",
       " 'S',\n",
       " 'Scanner',\n",
       " 'T',\n",
       " 'TEMPLATE',\n",
       " 'U',\n",
       " 'UNICODE',\n",
       " 'VERBOSE',\n",
       " 'X',\n",
       " '_MAXCACHE',\n",
       " '__all__',\n",
       " '__builtins__',\n",
       " '__cached__',\n",
       " '__doc__',\n",
       " '__file__',\n",
       " '__loader__',\n",
       " '__name__',\n",
       " '__package__',\n",
       " '__path__',\n",
       " '__spec__',\n",
       " '__version__',\n",
       " '_cache',\n",
       " '_casefix',\n",
       " '_compile',\n",
       " '_compile_repl',\n",
       " '_compiler',\n",
       " '_constants',\n",
       " '_expand',\n",
       " '_parser',\n",
       " '_pickle',\n",
       " '_special_chars_map',\n",
       " '_subx',\n",
       " 'compile',\n",
       " 'copyreg',\n",
       " 'enum',\n",
       " 'error',\n",
       " 'escape',\n",
       " 'findall',\n",
       " 'finditer',\n",
       " 'fullmatch',\n",
       " 'functools',\n",
       " 'match',\n",
       " 'purge',\n",
       " 'search',\n",
       " 'split',\n",
       " 'sub',\n",
       " 'subn',\n",
       " 'template']"
      ]
     },
     "execution_count": 87,
     "metadata": {},
     "output_type": "execute_result"
    }
   ],
   "source": [
    "dir(re)"
   ]
  },
  {
   "cell_type": "code",
   "execution_count": 88,
   "id": "1e17117f-c5f1-4b82-a426-d7f81749eb07",
   "metadata": {},
   "outputs": [
    {
     "data": {
      "text/plain": [
       "['in', 'in', 'in']"
      ]
     },
     "execution_count": 88,
     "metadata": {},
     "output_type": "execute_result"
    }
   ],
   "source": [
    "text=\"The rain in Spain\"\n",
    "re.findall(\"in\",text)"
   ]
  },
  {
   "cell_type": "code",
   "execution_count": 89,
   "id": "c4a526c8-a768-4c8b-8f68-0f3a0d827857",
   "metadata": {},
   "outputs": [
    {
     "data": {
      "text/plain": [
       "[]"
      ]
     },
     "execution_count": 89,
     "metadata": {},
     "output_type": "execute_result"
    }
   ],
   "source": [
    "re.findall(\"st\",text)"
   ]
  },
  {
   "cell_type": "code",
   "execution_count": 90,
   "id": "d5755efd-4a88-42aa-9239-2d75c76dd80e",
   "metadata": {},
   "outputs": [
    {
     "data": {
      "text/plain": [
       "<re.Match object; span=(3, 4), match=' '>"
      ]
     },
     "execution_count": 90,
     "metadata": {},
     "output_type": "execute_result"
    }
   ],
   "source": [
    "re.search(\"\\s\",text)"
   ]
  },
  {
   "cell_type": "code",
   "execution_count": 91,
   "id": "1a49ee46-5860-4d95-a582-5747983e8a07",
   "metadata": {},
   "outputs": [],
   "source": [
    "text1=\"I love watching movies and I prefer watching horror and adventure genre movies\""
   ]
  },
  {
   "cell_type": "code",
   "execution_count": 92,
   "id": "5c436ef5-b079-4481-a2b1-87cb8bcb5e31",
   "metadata": {},
   "outputs": [
    {
     "data": {
      "text/plain": [
       "<re.Match object; span=(1, 2), match=' '>"
      ]
     },
     "execution_count": 92,
     "metadata": {},
     "output_type": "execute_result"
    }
   ],
   "source": [
    "re.search(\"\\s\",text1)"
   ]
  },
  {
   "cell_type": "code",
   "execution_count": 93,
   "id": "b89f74bd-cd2f-470e-9805-24f27ee5acc4",
   "metadata": {},
   "outputs": [
    {
     "data": {
      "text/plain": [
       "['The ra', 'n ', 'n Spa', 'n']"
      ]
     },
     "execution_count": 93,
     "metadata": {},
     "output_type": "execute_result"
    }
   ],
   "source": [
    "re.split(\"i\",text)"
   ]
  },
  {
   "cell_type": "code",
   "execution_count": 94,
   "id": "46909bdc-6606-45ba-b28a-43d6261299de",
   "metadata": {},
   "outputs": [
    {
     "data": {
      "text/plain": [
       "['The rain in ', 'pain']"
      ]
     },
     "execution_count": 94,
     "metadata": {},
     "output_type": "execute_result"
    }
   ],
   "source": [
    "re.split(\"S\",text)"
   ]
  },
  {
   "cell_type": "code",
   "execution_count": 95,
   "id": "499e782f-43c7-4ae8-a7c5-514b9a8c8f03",
   "metadata": {},
   "outputs": [
    {
     "data": {
      "text/plain": [
       "['The', 'rain', 'in Spain']"
      ]
     },
     "execution_count": 95,
     "metadata": {},
     "output_type": "execute_result"
    }
   ],
   "source": [
    "re.split(\"\\s\",text,2)"
   ]
  },
  {
   "cell_type": "code",
   "execution_count": 96,
   "id": "dd72492a-21a6-408b-b573-dd4eb14a2acf",
   "metadata": {},
   "outputs": [
    {
     "data": {
      "text/plain": [
       "['I',\n",
       " 'love',\n",
       " 'watching movies and I prefer watching horror and adventure genre movies']"
      ]
     },
     "execution_count": 96,
     "metadata": {},
     "output_type": "execute_result"
    }
   ],
   "source": [
    "re.split(\"\\s\",text1,2)"
   ]
  },
  {
   "cell_type": "code",
   "execution_count": 97,
   "id": "a5db2bc1-d9b7-410d-842c-c24e904a326a",
   "metadata": {},
   "outputs": [
    {
     "data": {
      "text/plain": [
       "'The rain in India'"
      ]
     },
     "execution_count": 97,
     "metadata": {},
     "output_type": "execute_result"
    }
   ],
   "source": [
    "re.sub(\"Spain\",\"India\",text)"
   ]
  },
  {
   "cell_type": "code",
   "execution_count": 98,
   "id": "b17ee751-13f9-49a5-b99b-82a0546a00ab",
   "metadata": {},
   "outputs": [
    {
     "data": {
      "text/plain": [
       "'TheLatharainLathainLathaSpain'"
      ]
     },
     "execution_count": 98,
     "metadata": {},
     "output_type": "execute_result"
    }
   ],
   "source": [
    "re.sub(\"\\s\",\"Latha\",text)"
   ]
  },
  {
   "cell_type": "code",
   "execution_count": 99,
   "id": "b0f456e9-7993-45ec-bd01-886feb07bef2",
   "metadata": {},
   "outputs": [
    {
     "data": {
      "text/plain": [
       "'TheLatharainLathain Spain'"
      ]
     },
     "execution_count": 99,
     "metadata": {},
     "output_type": "execute_result"
    }
   ],
   "source": [
    "re.sub(\"\\s\",\"Latha\",text,2)"
   ]
  },
  {
   "cell_type": "code",
   "execution_count": 100,
   "id": "87c32d76-5f0a-4053-8cca-77e57ef97fb1",
   "metadata": {},
   "outputs": [],
   "source": [
    "reg=re.match(\"ani\",\"Daniel\")\n",
    "reg"
   ]
  },
  {
   "cell_type": "code",
   "execution_count": 101,
   "id": "055427ea-04b5-4024-a4d8-8e58c1a60b65",
   "metadata": {},
   "outputs": [
    {
     "data": {
      "text/plain": [
       "<re.Match object; span=(0, 3), match='The'>"
      ]
     },
     "execution_count": 101,
     "metadata": {},
     "output_type": "execute_result"
    }
   ],
   "source": [
    "re.match(\"The\",\"The Price is 2 dollar\")"
   ]
  },
  {
   "cell_type": "code",
   "execution_count": 102,
   "id": "16a61ad0-6c78-4fa0-93c3-fe2e4d072a65",
   "metadata": {},
   "outputs": [
    {
     "data": {
      "text/plain": [
       "<re.Match object; span=(0, 2), match='Ca'>"
      ]
     },
     "execution_count": 102,
     "metadata": {},
     "output_type": "execute_result"
    }
   ],
   "source": [
    "line=\"Cats are smarter than Dogs\"\n",
    "re.match(\"Ca\",line)"
   ]
  },
  {
   "cell_type": "code",
   "execution_count": 103,
   "id": "51539d74-b5f9-4c7d-b16c-01441ae062a6",
   "metadata": {},
   "outputs": [],
   "source": [
    "re.match(\"Do\",line)"
   ]
  },
  {
   "cell_type": "code",
   "execution_count": 104,
   "id": "ba4e3111-44d0-4be9-ba5f-a8d65470771f",
   "metadata": {},
   "outputs": [
    {
     "data": {
      "text/plain": [
       "<re.Match object; span=(22, 24), match='Do'>"
      ]
     },
     "execution_count": 104,
     "metadata": {},
     "output_type": "execute_result"
    }
   ],
   "source": [
    "re.search(\"Do\",line)"
   ]
  },
  {
   "cell_type": "code",
   "execution_count": 105,
   "id": "b00fdddd-2450-48c4-b7eb-db572e4e3e51",
   "metadata": {},
   "outputs": [],
   "source": [
    "re.search(\"do\",line)"
   ]
  },
  {
   "cell_type": "code",
   "execution_count": 106,
   "id": "71afe0d2-140f-4df9-88cc-ddadb9b84569",
   "metadata": {},
   "outputs": [
    {
     "data": {
      "text/plain": [
       "<re.Match object; span=(22, 24), match='Do'>"
      ]
     },
     "execution_count": 106,
     "metadata": {},
     "output_type": "execute_result"
    }
   ],
   "source": [
    "re.search(\"do\",line,re.IGNORECASE)"
   ]
  },
  {
   "cell_type": "code",
   "execution_count": 107,
   "id": "234b4c52-d5c6-47fd-9322-70fad1684afc",
   "metadata": {},
   "outputs": [],
   "source": [
    "text1=\"My phone number is 12345678\""
   ]
  },
  {
   "cell_type": "code",
   "execution_count": 108,
   "id": "0eabbb2a-3608-4162-a95f-7a8640e9a05b",
   "metadata": {},
   "outputs": [
    {
     "data": {
      "text/plain": [
       "['1', '2', '3', '4', '5', '6', '7', '8']"
      ]
     },
     "execution_count": 108,
     "metadata": {},
     "output_type": "execute_result"
    }
   ],
   "source": [
    "re.findall(\"\\d\",text1)"
   ]
  },
  {
   "cell_type": "code",
   "execution_count": 109,
   "id": "feb48908-f568-4f37-94f3-2eba44dc9e8b",
   "metadata": {},
   "outputs": [
    {
     "data": {
      "text/plain": [
       "['12345678']"
      ]
     },
     "execution_count": 109,
     "metadata": {},
     "output_type": "execute_result"
    }
   ],
   "source": [
    "re.findall(\"\\d+\",text1)"
   ]
  },
  {
   "cell_type": "code",
   "execution_count": 110,
   "id": "6ceb3e9a-87e5-4278-bf07-25154cfa2083",
   "metadata": {},
   "outputs": [
    {
     "data": {
      "text/plain": [
       "'Python'"
      ]
     },
     "execution_count": 110,
     "metadata": {},
     "output_type": "execute_result"
    }
   ],
   "source": [
    "text=\"Python123!$\"\n",
    "## findall\n",
    "re.sub(r\"[^A-Za-z]\",\"\",text)"
   ]
  },
  {
   "cell_type": "code",
   "execution_count": 111,
   "id": "ed0d6f20-63c8-4c93-ab71-220dcb30ea2b",
   "metadata": {},
   "outputs": [],
   "source": [
    "### Mini Project_ Webscraping"
   ]
  },
  {
   "cell_type": "code",
   "execution_count": 112,
   "id": "84d6a72e-6992-476b-8249-31d2a6fc4235",
   "metadata": {},
   "outputs": [
    {
     "name": "stdout",
     "output_type": "stream",
     "text": [
      "Files in the current directory: ['(14) WhatsApp.html', '(14) WhatsApp_files', '.ipynb_checkpoints', '00-AdaBoost.ipynb', '00-Dealing-with-Outliers.ipynb', '00-KNN-Classification-checkpoint.ipynb', '00-KNN-Classification.ipynb', '00-simple-local-rag-video.ipynb', '00-simple-local-rag.ipynb', '00_simple_local_rag_oracle (1).ipynb', '00_simple_local_rag_oracle.ipynb', '01-Dealing-with-Missing-Data.ipynb', '01-Distribution Plots.ipynb', '01-Gradient-Boosting.ipynb', '01-Introduction to Pandas.ipynb', '01-KNN-Exercise -checkpoint.ipynb', '01-KNN-Exercise .ipynb', '01-Linear-Regression-with-Scitkit-Learn.ipynb', '01-Logistic Regression with Python.ipynb', '01-Matplotlib Concepts Lecture.ipynb', '01-SF Salaries Exercise.ipynb', '01-Support Vector Machines with Python.ipynb', '01_intro.ipynb', '02-Categorical Plots.ipynb', '02-Dealing-with-Categorical-Data.ipynb', '02-KNN-Exercise-Solutions.ipynb', '02-Logistic Regression Project.ipynb', '02-Matplotlib Exercises.ipynb', '02-Series.ipynb', '02-SF Salaries Exercise - Solutions.ipynb', '02-Support Vector Machines Project.ipynb', '02_production.ipynb', '03-DataFrames.ipynb', '03-Ecommerce Purchases Exercise .ipynb', '03-Logistic Regression Project - Solution.ipynb', '03-Matplotlib Exercises - Solutions.ipynb', '03-Matrix Plots.ipynb', '03-Support Vector Machines Project - Solutions.ipynb', '03_ethics.ipynb', '04-Advanced Matplotlib Concepts.ipynb', '04-Ecommerce Purchases Exercise - Solutions.ipynb', '04-Grids.ipynb', '04-Missing Data.ipynb', '04-RDD-Operations.ipynb', '04_mnist_basics.ipynb', '05-Groupby.ipynb', '05-Regression Plots.ipynb', '05_pet_breeds.ipynb', '06-DataFrame-from-various-data-source.ipynb', '06-Merging, Joining, and Concatenating.ipynb', '06-Style and Color.ipynb', '06_multicat (1).ipynb', '06_multicat.ipynb', '07-Operations.ipynb', '07-Seaborn Exercises.ipynb', '07_sizing_and_tta.ipynb', '08-Data Input and Output.ipynb', '08-Seaborn Exercises - Solutions.ipynb', '08_collab.ipynb', '1.+MNIST_DCGAN_v2.ipynb', '1.docx', '1.png', '100 Data Science Interview Questions asked in FAANGs.pdf', '100 Practical Applications and Use cases of Generative AI.pdf', '100-days-of-machine-learning-main.zip', '100-pandas-puzzles-', '100-pandas-puzzles-.zip', '10_Python_Pandas_Module-.zip', '11_midlevel_data.ipynb', '12. More Advanced CNN Techniques.ipynb', '12a. More Advanced CNN Techniques as TFData.ipynb', '12_nlp_dive.ipynb', '13_convolutions.ipynb', '14. Supply Chain Management Car Sales Prediction.pdf', '14_resnet.ipynb', '16271510.zip', '165891755970760ec2379f8793842aa5b168a_.zip', '165899899024260ec2379f8793842aa5b168a_ (1).zip', '165899899024260ec2379f8793842aa5b168a_.zip', '165899913928960ec2379f8793842aa5b168a_.zip', '165900363274360ec2379f8793842aa5b168a_.zip', '165900384696560ec2379f8793842aa5b168a_ (1).zip', '165900384696560ec2379f8793842aa5b168a_.zip', '165901179721160ec2379f8793842aa5b168a_.zip', '165906925940660ec2379f8793842aa5b168a_.zip', '1680752777360-77341.400x224.jpeg', '1680752777360-77341.a', '1687754425961.pdf', '170 Python Projects.pdf', '1718715559977uy3j882-voicemaker.in-speech (1).mp3', '1718715559977uy3j882-voicemaker.in-speech.mp3', '17_foundations.ipynb', '1chatbot.ipynb', '2.+MNIST_Conditional_GAN_v2.ipynb', '2.13. Practical-example.Descriptive-statistics-exercise-solution.xlsx', '2.Lab - Numpy - Answer.ipynb', '2.Lab - Numpy-1.ipynb', '2.Numpy_Pandas_batch2_syn.ipynb', '2012SAT scores_02 (2).xls', '2023717136-AI050.pdf', '25. Customer Subscription Prediction.pdf', '27-regression-models-for-solar-power-prediction.ipynb', '2_Concrete_Nov19_SA.ipynb', '3.+Semi-Supervised+Learning+GANs.ipynb', '3.Lab - Pandas - Answer.ipynb', '3.Lab - Pandas-1.ipynb', '349831324-44100-2-e6c619d889942.m4a', '4 Types of Data Analysis.pdf', '435-2024_Statistical Analysis Training Work order.pdf', '4841751707_4717066419.pdf', '5-Days-Live-EDA-and-Feature-Engineering-.zip', '70 TOUGHTEST INTERVIEW QUESTIONS AND ANSWERS.pdf', '700 ML Projects.pdf', '752016.pdf', '752026.pdf', '795092-generative-ai-approaches-and-implications-f_240427_103734.pdf', '855017-hd_1920_1080_25fps.mp4', '9news_headlines.txt', 'A Quick Reference Handbook for Data Enthusiasts.pdf', 'A Visual Intro To Deep Learning. .pdf', 'AAPL.csv', 'absenteeism+at+work.zip', 'Absenteeism_at_work.csv', 'Absenteeism_data.csv', 'ac-sample-syn.xlsx', 'Acct Statement_XX4089_11112024.pdf', 'Acct Statement_XX6940_15072024 (1) (1).pdf', 'Acct Statement_XX6940_15072024 (1).pdf', 'Acct Statement_XX6940_15072024.pdf', 'Acct Statement_XX6940_18102024 (1).pdf', 'Activation Function-YHills.ipynb', 'Activation Functions.ipynb', 'actuals.csv', 'Adaptive learning Algorithm (1).docx', 'Adaptive learning Algorithm (2).docx', 'Adaptive learning Algorithm (3).docx', 'Adaptive learning Algorithm.docx', 'Add a heading - Mobile Video.html', 'Add a heading - Mobile Video_files', 'Add a heading.mp4', 'admission.csv', 'adult.zip', 'Advanced-House-Price-Prediction--.zip', 'Advanced_Python_Agenda (1).docx', 'Advanced_Python_Agenda _updated.docx', 'Advanced_Python_Updated_Agenda.docx', 'advertising.csv', 'AEOPH3228R_Q3_2024-25.pdf', 'AI and Generative AI TOC.docx', 'AI in Product Development_SS_update (1).xlsx', 'AI in Product Development_SS_update (2).xlsx', 'AI in Product Development_SS_update.xlsx', 'AI in Product Management.pdf', 'AI ML TOC,S (1).zip', 'AI Roadblocks and Ethics.pptm', 'AI TOC.docx', 'AI TOC.pdf', 'AI Voice Generator & Text to Speech _ ElevenLabs.html', 'AI Voice Generator & Text to Speech _ ElevenLabs_files', 'AI- Machine Learning Training Contents (1).xlsx', 'AI- Machine Learning Training Contents _Duration.xlsx', 'AI- Machine Learning Training Contents.xlsx', 'ai-applications.png', 'ai-vs-machine-learning.png', 'AIM-PGDDS Course 2_Module 1- Introduction to Data Visualization.pptx', 'AIML & UL Python R Data Analytics_TOC (1).pdf', 'AIML & UL Python R Data Analytics_TOC.pdf', 'AIML and Data Analytics.pptx', 'AIML and Data Analytics_2days.docx', 'AIML for Leaders.docx', 'AIML-Rakuten _Batch2 _Aug21.xlsx', 'AIML-Rakuten_Batch4_11 March 2024.xlsx', 'AIML_10days.xlsx', 'AIML_TOC_LocusIT_300424.docx', 'aipm1_nov24.ipynb', 'AIPMPracChurn_Nov14 (1).ipynb', 'AIPMPracChurn_Nov14.ipynb', 'Airline_Fare_Analysis_Case_Study_Linear_Regression.ipynb', 'Airline_passenger.ipynb', 'AirPassengers.csv', 'airq402.dat', 'Air_Passengers_casestudy.ipynb', 'AI_Advanced Content.docx', 'AI_Advanced Content_5days.docx', 'AI_Basics Content.docx', 'AI_Intermediate Content.docx', 'AI_Intermediate Content_5 days.docx', 'AI_Project_Workflow.xlsx', 'AI_Replacement_for_PM.pptx', 'AI_Replacement_for_PM_Updated.pptx', 'all_ml_nov.ipynb', 'all_season_batting_card.csv', 'Amazon Sentiment Classifier NLTK & Hugging Face Transformers.ipynb', 'AMZN.csv', 'Anaconda3-2024.02-1-Windows-x86_64.exe', 'Analysis_Product.ipynb', 'animated-data-visualization.ipynb', 'ann.py', 'AnnExample.ipynb', 'Anova and Chi square (2).ipynb', 'Answers_ecomm.ipynb', 'Apache Spark.pdf', 'Apachespark-syn.pdf', 'app.ipynb', 'app.py', 'applications of generative ai.pdf', 'Applied statistics project.ipynb', 'Approach1_Eduonix.ipynb', 'Approach2_Eduonix.ipynb', 'Approach3+.ipynb', 'ap_2010.csv', 'archive', 'archive (1).zip', 'archive (2).zip', 'archive (3).zip', 'archive.zip', 'artguru-1718034600085.mp4', 'Artificial Intelligence and Machine Learning_4 days.docx', 'Artificial Intelligence.pdf', 'ARTIFICIAL INTELLIGENCE_Course Content.docx', 'Artificial_Intelligence_Engineer V6 (1).pdf', 'Assesment_1_GaganTakhi_Siemens.ipynb', 'Assessment1_PowerBI.docx', 'Assessment_1 (1).docx', 'Assessment_1.docx', 'Assessment_1.pbix', 'Assignment on Logistic Regression.docx', 'Assignment-Math_Stats.ipynb', 'Assignment.pptm', 'Assignment1_solution.ipynb', 'Assignment_1_PowerBI.docx', 'Assignment_Housing_Agency_ Boston.ipynb', 'Assignment_questions_ML.ipynb', 'Assignment_solution.ipynb', 'Assignment_solution_ ML-Copy1.ipynb', 'Assignment_solution_ ML-Copy2.ipynb', 'Assignment_solution_ ML.ipynb', 'ATM Simulator-20240214T112640Z-001 (1).zip', 'ATM_Simulator.ipynb', 'augmented_data.csv', 'auto-mpg (1).csv', 'auto-mpg.csv', 'Autoencoders_MNIST.ipynb', 'AutoInsurance (1).csv', 'AutoInsurance (2).csv', 'AutoInsurance (3).csv', 'AutoInsurance.csv', 'Automate whatsapp using ChatGPT', 'Automatic+Ticket+Assignment+Brief.pdf', 'Automatic-Ticket-Classification-notebooks.zip', 'autompg-deeplearning-keras.ipynb', 'Autoviz.ipynb', 'auto_mpg_analytics_final.ipynb', 'Azure Virtual Network.pdf', 'Bagging, Boosting, PCA-20240524T100514Z-001.zip', 'Bagging, Boosting, PCA-20240526T132642Z-001.zip', 'Bagging.ipynb', 'Bank Loan Analysis Project_1  DA PJ.pbix', 'Bank Loan Analysis Project_1 DA PJ.xlsx', 'bank-full.csv', 'BankNote_Authentication.csv', 'BANK_ADD.csv', 'Bank_Personal_Loan_Modelling.csv', \"BANK_REVIEW_COMPLAINT'S_ANALYSIS__oracle (1).ipynb\", \"BANK_REVIEW_COMPLAINT'S_ANALYSIS__oracle (2).ipynb\", \"BANK_REVIEW_COMPLAINT'S_ANALYSIS__oracle.ipynb\", 'bard_build_chatbot.ipynb', 'Basic Power BI TOC_Dec 2022.docx', 'Basic Python training followed by Gen AI technical training.docx', 'Basic Streaming Test.ipynb', 'Basic Streaming Test.py', 'Basic-Python-Programming-.jpg', 'BasicML&LinearRegression.pptx', 'BasicNLPv1 (1).ipynb', 'BasicNLPv1.ipynb', 'Basics of Python.ipynb', 'Basics_of_Python.ipynb', 'Basics_Python.ipynb', 'Basics_Python_Synechron_Day1.ipynb', 'basic_operation_pyspark.ipynb', 'Basic_Python_batch1_day1 (1).ipynb', 'Basic_Python_day1234.ipynb', 'Basic_statistics_Pima_+Solution.ipynb', 'Batch3.pbix', 'Batch3_day2.pbix', 'Batch3_day3.pbix', 'Bayes_boost_rf.ipynb', 'Beauty Cam_20230708144336365_save.jpg', 'Best-Pizza-in-Brooklyn-New-York.jpg', 'bf9f0f0f8f5c978c1b32-2401924ee53b11928c4071a712746f5ddd91d524', 'bf9f0f0f8f5c978c1b32-2401924ee53b11928c4071a712746f5ddd91d524.zip', 'Big data exam qp.zip', 'binary_file.bin', 'Black and Red Professional Business Youtube Thumbnail (1).png', 'Black and Red Professional Business Youtube Thumbnail.png', 'Black Gold Diamonds Luxury Business Card (1).zip', 'Black Gold Diamonds Luxury Business Card (2) (1).zip', 'Black Gold Diamonds Luxury Business Card (2).zip', 'Black Gold Diamonds Luxury Business Card.zip', 'BlueStacks10Installer_10.4.0.1034_native_26384149a0a1fa58bda696ee9891b9d7_MzsxNSwwOzUsMTsxNSw0OzE1.exe', 'BMI Calculator using Python -Python project for beginners (1).png', 'BMI Calculator using Python -Python project for beginners (2).png', 'BMI Calculator using Python -Python project for beginners.png', 'BMI.csv', 'Boosting (2).pptx', 'bp_pca.png', 'BreakContinuePass.ipynb', 'breakcontinuepass_batch3.ipynb', 'Breast Cancer Detection.txt', 'breast-cancer-wisconsin.csv', 'Breastcancer_Eduonix.ipynb', 'Breast_Cancer_Detection (1).ipynb', 'Breast_Cancer_Detection-checkpoint.ipynb', 'Breast_Cancer_Detection.ipynb', 'Broadcast_variables.ipynb', 'BTZPP7552H_Q1_2024-25.pdf', 'BTZPP7552H_Q2_2024-25 (1).pdf', 'BTZPP7552H_Q2_2024-25.pdf', 'BTZPP7552H_Q3_2024-25 (1).pdf', 'BTZPP7552H_Q3_2024-25.pdf', 'BTZPP7552H_Q4_2024-25 (1).pdf', 'BTZPP7552H_Q4_2024-25.pdf', 'Building-Your-First-Visual-Product-Roadmap-by-ProductPlan.pdf', 'Business card.png', 'Businesscard-sample.png', 'c-sat.ipynb', 'calculus.ipynb', 'Capstone Project Details.pptx', 'capstone-project-proposal-Ivanova.pdf', 'capstone-project-starter-file-docx.pdf', 'capstone-project.pdf', 'Capstone_Project_DataAnalyst_RoadAccidents.docx', 'car-mpg.csv', 'CardioFitnessProject.ipynb', 'CardioGoodFitness - Descriptive Statistics.ipynb', 'CardioGoodFitness-1 (1).csv', 'CardioGoodFitness-1.csv', 'CardioGoodFitness-2.csv', 'cardiogoodfitness_regression_oracle.ipynb', 'cardio_1.ora_2ipynb', 'cardio_batch10.ipynb', 'cardio_PM_oracle.ipynb', 'cardmembers-201210-221319.csv', 'Car_SupplyChainManagementDataSet.csv', 'Case study-Chic chicken description (1).docx', 'Case study-Chic chicken description (2).docx', 'Case study-Chic chicken description.docx', 'Case.csv', 'cat or dog _Eduonix.ipynb', 'cat.1.jpg', 'cat2.jpg', 'cat3.jpg', 'categorical-to-numerical-encoding-methods (1).ipynb', 'categorical-to-numerical-encoding-methods.ipynb', 'categorical_data.py', 'Cat_Dog_Classification.txt', 'CBP_WUA.ipynb', 'CBP_WUA_oracle.ipynb', 'chandrayaan prediction.pdf', 'Chandrayan Prediction', 'charts.pdf', 'Chatbot (1).ipynb', 'Chatbot.ipynb', 'Chatbot_for_multiple_websites (1) (1).ipynb', 'Chatbot_for_multiple_websites (1) (2).ipynb', 'Chatbot_for_multiple_websites (1).ipynb', 'Chatbot_for_multiple_websites.ipynb', 'chatbot_for_multiple_websites_(1)_(2).py', 'Chatbot_for_multiple_websites_ora.ipynb', 'Chatbot_for_multiple_websites_oracle.ipynb', 'Chatbot_Siemens_genai.ipynb', 'chatgpt-made-this-sample-data (1).xlsx', 'chatgpt-made-this-sample-data.xlsx', 'chatgpt.docx', 'cheatsheet-convolutional-neural-networks.pdf', 'cheatsheet-deep-learning-tips-tricks.pdf', 'cheatsheet-recurrent-neural-networks (1).pdf', 'cheatsheet-recurrent-neural-networks (2).pdf', 'cheatsheet-recurrent-neural-networks.pdf', 'cheatSheet_pyspark (1).pdf', 'cheatSheet_pyspark.pdf', 'ChromeSetup.exe', 'Chun_dl.ipynb', 'ChurnModeling (1).ipynb', 'ChurnModeling.ipynb', 'Churnmodelling_deeplearning.ipynb', 'Churn_eda_batch3.ipynb', 'churn_gradio (1).ipynb', 'churn_gradio.ipynb', 'churn_keras_edu (1).ipynb', 'churn_keras_edu (2).ipynb', 'churn_keras_edu.ipynb', 'Churn_Modeling.ipynb', 'Churn_Modeling_syn.ipynb', 'Churn_Modelling.csv', 'Ch_1and2_Study Material.pdf', 'Ch_3_FunctionsSM.pdf', 'CIFAR10-ANN-CNN.ipynb', 'cifar10-improved-cnn.ipynb', 'CIFAR10_ANN_CNN.ipynb', 'cifar10_cnn.ipynb', 'CIFAR_10_Day20.ipynb', 'cifar_gradio.ipynb', 'classes and objects.ipynb', 'ClassesandObjectsinPython.ipynb', 'classes_objects.ipynb', 'Classification_and_Automation_of_Ticket_routing_version_3.ipynb', 'Classification_maintenance.ipynb', 'Classification_oracle (1).ipynb', 'Classification_oracle.ipynb', 'Classification_Template.py', 'Classification_TIAA.ipynb', 'classifier1.pkl', 'class_size.csv', 'clean_dataset.csv', 'Clustering-20240531T045959Z-001.zip', 'Clustering-of-Mall-Customers-.zip', 'Clustering.ipynb', 'CNN -CV$.ipynb', 'CNN.py', 'code.ipynb', 'Coforge_Learning Journey_DS & DE_v.4.xlsx', 'Cohere_Customer_Behavior_Prediction_Guide.txt', 'complaints_processed.csv.zip', 'Complete-Langchain-Tutorials-.zip', 'Complete-Langchain-Tutorials-Conversational%20Q%26A%20Chatbot', 'Complete-Langchain-Tutorials-Conversational%20Q%26A%20Chatbot.zip', 'Compute-similarity-between-images-using-CNN-data (1).zip', 'Compute-similarity-between-images-using-CNN-data (2).zip', 'Compute-similarity-between-images-using-CNN-data.zip', 'Computer Vision Take Home Solution.ipynb', 'concrete-strength-keras-part1 (1).ipynb', 'concrete-strength-keras-part1-Rak.ipynb', 'concrete-strength-keras-part1.ipynb', 'concrete-strength-keras-part1.md', 'concrete-strength-keras-part2.ipynb', 'concrete.csv', 'concrete.ipynb', 'concrete_data (1).csv', 'concrete_data.csv', 'concrete_deeplearning.ipynb', 'concrete_strength_keras_part1.ipynb', 'concrete_strength_keras_part1_Rak.ipynb', 'concrete_tree1.dot', 'ConditionalProgramming.ipynb', 'Conditional_Programming_batch3.ipynb', 'Conditions and Loops.ipynb', 'Conditions_loops_Functions_syn.ipynb', 'Confusion Matrix.pdf', 'Confusion Matrix_240530_190052.pdf', 'connectionist+bench+sonar+mines+vs+rocks.zip', 'Contents_AI and genai.docx', 'Contents_Data_Science_AI_ML_DL_Oracle_v1 (1) (1).docx', 'Contents_Data_Science_AI_ML_DL_Oracle_v1 (1).docx', 'Contoso Sales Sample for Power BI Desktop', 'Contoso Sales Sample for Power BI Desktop.zip', 'contrastive-learning.ipynb', 'control.ipynb', 'Convolutional_Neural_Networks_Case_Study.pdf', 'Copy of Gen AI.xlsx', 'Course Interest Survey.pdf', 'Course Outline-2days (1).docx', 'Course Outline-2days.docx', 'Course Outline.docx', 'Course Outliner(Agenda) - Digital Transformation Executive Program.docx', 'Course Outliner-AI-ML.docx', 'Course Outliner-Data Analytics.docx', 'Course Outline_Generative AI.docx', 'Course Outline_Generative AI_3days.docx', 'Course-overview.docx', 'Course.docx', 'Course_Synechron_Python_ML_AI_Genai.docx', 'Couse Content_GenerativeAI For Test Engineers_4Days.xlsx', 'Create a boxplot with pandas Power BI.pbix', 'CREATE DATABASE store.docx', 'Create Image Dataset using Data Augmentation -Copy1.ipynb', 'Create Image Dataset using Data Augmentation .ipynb', 'credit (1).csv', 'credit.csv', 'credit_tree.dot', 'credit_treeR.dot', 'credit_tree_Rak.dot', 'CropYield-Prediction.ipynb', 'crop_prediction_app (1) (1).ipynb', 'crop_prediction_app (1).ipynb', 'crop_prediction_app_(1)_(1).ipynb', 'Crop_recommendation.csv', 'ctk (1).xlsx', 'ctk.xlsx', 'ctk_edited.xlsx', 'Curriculum-ISG Python Spark-v1.0.xlsx', 'Customer Analytics Segmentation.ipynb', 'Customer Churn Prediction-Telecom.ipynb', 'Customer churn prediction_visualization (1).ipynb', 'Customer churn prediction_visualization (2).ipynb', 'Customer churn prediction_visualization.ipynb', 'Customer Lifetime Value Prediction-End_to_end (1).ipynb', 'Customer Lifetime Value Prediction-End_to_end.ipynb', 'Customer Lifetime Value Prediction.ipynb', 'Customer Lifetime Value Question.docx', 'Customer Lifetime Value.txt', 'Customer Retention.docx', 'Customer Retention.pptx', 'Customer Subscription Prediction.ipynb', 'Customer Subscription Prediction.pptx', 'customer-buying-intention.csv', 'customer-segmentation.ipynb', 'Customer_Behavior_Prediction_EDA_Metrics (1).ipynb', 'Customer_Behavior_Prediction_EDA_Metrics.ipynb', 'Customer_Behavior_Prediction_Model.ipynb', 'customer_churn', 'Customer_churn_casestudy.ipynb', 'Customer_Churn_prediction.ipynb', 'customer_feedback.csv', 'customer_retention.ipynb', 'Customer_retention_case_study.ipynb', 'customer_retention_dataset.xlsx', 'customer_segmentation.ipynb', 'Customer_support_data.csv', 'Cust_Spend_Data.csv', 'CV_CIT.ipynb', 'CV_Rajdeep Banerjee.pdf', 'CV_Task.ipynb', 'D01', 'D02', 'D11', 'D11-02', 'D11-02.ZIP', 'D12', 'DALL·E 2023-10-18 14.32.44.png', 'DALL·E 2024-09-11 14.35.51 - A bold and attention-grabbing YouTube thumbnail for a video about Generative AI, Language Models, Pre-training, and Foundation Models. The design feat.webp', 'DALL·E 2024-09-11 14.36.18 - A bold and attention-grabbing YouTube thumbnail for a video about Generative AI, Language Models, Pre-training, and Foundation Models. The design feat.webp', 'Dashboard-20240731T134424Z-001.zip', 'Dashboard-20240731T134653Z-001.zip', 'Dashboard_oracle_corona.ipynb', 'data (1).csv', 'data never sleeps 10.0', 'Data Science with Python.docx', 'Data story telling.xlsx', 'Data story telling_Powerbi_thinkcell.xlsx', 'Data Visualisation-1.ipynb', 'Data Visualization And Storytelling_Outline_Content Planning (2) (2) (1).xlsx', 'Data Visualization And Storytelling_Outline_Content Planning (2) (2).xlsx', 'Data Visualization in 2024 (1).png', 'Data Visualization in 2024 (2).png', 'Data Visualization in 2024.png', 'Data Visualization with Matplotlib.ipynb', 'Data Visualization with Plotly.ipynb', 'Data Visualization with Python.pdf', 'Data Visualization_Rak.ipynb', 'Data Vvisualization.pptx', 'Data+set-tips-+Practice+Exercise+Week-2.csv', 'Data-20231022T151659Z-001.zip', 'Data-Manipulation-with-pandas-Datacamp-.zip', 'data-science-lifecycle-ebook.pdf', 'data.csv', 'data.json', 'data.txt', 'DataAnalyst_Capstone_Projects-20240502T134933Z-001.zip', 'Databases-20240831T140354Z-001.zip', 'DataDna.pbix', 'DataMashup', 'DataModel', 'Dataprep.ipynb', 'Dataprep1.ipynb', 'Datapreparation.ipynb', 'Dataprep_aipm_nov.ipynb', 'DataPrep_loan.ipynb', 'Dataprep_nov.ipynb', 'Datascience Project pipeline_Milindmali hw.pdf', 'Dataset-SA.csv', 'Datasets-main.zip', 'Datasets-Practice.zip', 'Dataset_handling.ipynb', 'dataset_load.sql', 'Datatype_Conversion.ipynb', 'Dataunderstanding_cardio.ipynb', 'datavisualiz.ipynb', 'DataVisualization_Question.ipynb', 'DataVisualization_Rakuten_Day5.ipynb', 'Data_Analysis.docx', 'Data_Augmentation.ipynb', 'Data_Dictionary (1).xlsx', 'Data_Prep_modelling.ipynb', 'Data_Train (1).xlsx', 'Data_Train.xlsx', 'Data_Types.ipynb', 'Data_Visualization_basics_rak_batch5.ipynb', 'Data_Visualization_FIFA19 (1).ipynb', 'Data_Visualization_FIFA19-Copy1.ipynb', 'Data_Visualization_FIFA19.ipynb', 'Data_Visualization_Synechron.ipynb', 'Dax and PowerBI queries-20240731T134117Z-001.zip', 'Dax and PowerBI queries-20240731T134202Z-001.zip', 'DAX Queries Reference.docx', 'dax.pbix', 'day 1,2.sql', 'Day 4.docx', 'day1_batch3.ipynb', 'day1_ml.ipynb', 'Day1_syn_ml.ipynb', 'Day1_Syn_UAE.ipynb', 'Day20-CNN-model.ipynb', 'Day20-CNN-model.py', 'Day2_Syn_UAE.ipynb', 'day3.ipynb', 'Day3_batchsep.ipynb', 'Day4.ipynb', 'Day5_sep.ipynb', 'Day_1.pptx', 'Day_21_Facial_Recognition.ipynb', 'Day_21_Facial_Recognition.py', 'Decision tree -sl.pptx', 'Decision Tree Algorithms  Document.docx', 'Decision tree.pdf', 'Decision Tree_Take Home Questions (1).ipynb', 'Decision Tree_Take Home Questions.ipynb', 'Decision Tree_Take Home Solution.ipynb', 'DecisionTree (1).ipynb', 'Decisiontree Question', 'Decisiontree Solution', 'DecisionTree.ipynb', 'DecisionTree_2_Rak.ipynb', 'DecisionTree_Eduonix.ipynb', 'Decisiontree_Rakuten.ipynb', 'Decisiontree_YouTube.ipynb', 'Decision_Tree_Regressor_Concrete_Regularization_GridSearchCV.ipynb', 'Deep Learning_Keras_House Loan project .ipynb', 'Deep-Learning-2017-Lecture5CNN (1).ppt', 'Deep-Learning-2017-Lecture5CNN (2).ppt', 'Deep-Learning-2017-Lecture5CNN.ppt', 'deep-learning-illustrated-a-visual-interactive-guide-to-artificial-intelligence_compress.pdf', 'Deep-learning-specialization', 'DeepLearning', 'Deeplearning Interview Questions.pdf', 'Deeplearning-1_Saygoodbyetocustomer.ipynb', 'Deeplearning2_classifier.ipynb', 'Default dict (1).pptx', 'Default dict.pptx', 'Default_A_bustling_modern_city_skyline_with_hiA_bright_cheerfu_0.jpg', 'Default_A_bustling_modern_city_skyline_with_hightech_buildings_1.jpg', 'Default_Emma_opening_her_email_on_her_computer_with_the_subjec_2.jpg', 'demo', 'demo.py', 'demographics.csv', 'Dentistry Dataset Capstone Project (1).zip', 'Dentistry Dataset Capstone Project.zip', 'Dentistry Dataset.csv', 'deploy-ml-model-flask-.zip', 'deployment', 'Deployment-Deep-Learning-Model-.zip', 'Deployment-final', 'Deployment-flask- (1).zip', 'Deployment-flask-.zip', 'Description+of+Pima+Diabetes+dataset.pdf', 'Descriptive Statistics.ipynb', 'Descriptive Statistics_fortune', 'Descriptive Statistics_fortune (1)', 'Descriptive Statistics_fortune (1).ipynb', 'Descriptive Statistics_fortune.ipynb', 'Descriptive_correlation.ipynb', 'Descriptive_Statistics_cardiogood.ipynb', 'Descriptive_Statistics_Titanic.ipynb', 'Descriptive_stats_hotelbooking.ipynb', 'Desc_Diag_sep.ipynb', 'Designer (1).png', 'Designer (2).png', 'Designer.png', 'desktop.ini', 'destination.txt', 'DevOps with AI, ML & RPA_ Non-Programmer’s Guide.pdf', 'df7bf7f31127d7f2a7a3caa71a10528c-1280d035ea8f6106963131ec4f85303dbccb7409.zip', 'df8.csv', 'df8.xlsx', 'diabetes (1).csv', 'diabetes (2).csv', 'diabetes.csv', 'DiagramLayout', 'Dictionary_exercise.docx', 'Dictionary_exercise_solution.ipynb', 'Dictionary_HandsOn_Worksheet.txt', 'Dictionary_solution.ipynb', 'Discussion Board Sample.docx', 'DJANGO.pdf', 'DL.ipynb', 'dl_concrete.ipynb', 'dnn_mi', 'Doc1.docx', 'Doc2.docx', 'DOCKER.pdf', 'dog.9541.jpg', 'dog2.jpg', 'Downloads - Shortcut (2).lnk', 'Downloads - Shortcut (3).lnk', 'Downloads - Shortcut.lnk', 'dp.png', 'Dr. Premalatha T. Agreement (1).pdf', 'Dr. Premalatha T. Agreement _signed.pdf', 'Dr. Premalatha T. Agreement.pdf', 'drive-download-20231105T133338Z-001.zip', 'drive-download-20241130T132109Z-001.zip', 'drive-download-20241130T132137Z-001.zip', 'DS,ML and DL (1).pptx', 'DS,ML and DL.pptx', 'DT and KNN-20240518T094647Z-001.zip', 'Ecommerce Purchases', 'Ecommerce-supply-chain-analysis-.zip', 'Ecommerce_Capstone_Project.ipynb', 'EC_Artificial_Intelligence_AI_750.jpg', 'EDA (1).ipynb', 'EDA and datavis_Eduonix_batch3.ipynb', 'EDA with Python-Absenteeism.ipynb', 'EDA with Python-Copy1.ipynb', 'EDA with Python.ipynb', 'EDA-Copy2.ipynb', 'eda-electrical-motor-fault-prediction.ipynb', 'eda-heart-disease-prediction-roc-pr-curve.ipynb', 'EDA-PIMA-Rak.ipynb', 'EDA-Titanic-Rak-Copy1.ipynb', 'EDA-Titanic-Rak.ipynb', 'EDA-Titanic.ipynb', 'EDA-yhills.ipynb', 'EDA.ipynb', 'EDA.pdf', 'EDA_2.ipynb', 'EDA_analyticsvidhya.ipynb', 'EDA_Reference.ipynb', 'EDA_sep.ipynb', 'EDA_Syn.ipynb', 'EDA_Synechron.ipynb', 'EDA_Synechron_Reference.ipynb', 'ElevenLabs_2024-07-26T05_36_19_Jessica_pre_s50_sb75_se0_b_m2.mp3', 'ElevenLabs_2024-07-26T05_36_19_Jessica_pre_s50_sb75_se0_b_m2.mp4', 'Embracing the Transformative force of Gen AI_program coverage (1).xlsx', 'Embracing the Transformative force of Gen AI_program coverage (2).xlsx', 'Embracing the Transformative force of Gen AI_program coverage.xlsx', 'emeriyus.docx', 'emotion.zip', 'End-to-End-PySpark-project-.zip', 'Ensemble Learning.pdf', 'Ensemble question', 'Ensemble solution', 'errors and exceptions.ipynb', 'ESDST PPT.pptx', 'Evaluating Improving Tuning.py', 'Evaluation and Progress - Python and Data Engineering (1).xlsx', 'evaluation-metrics-used-in-machine-learning.ipynb', 'example', 'Excel formula list.pdf', 'Excel formulas (1).pdf', 'Excel formulas.pdf', 'Excel_Sample.xlsx', 'Exercise 1_Occupation-Getting and knowing data - Solution.ipynb', 'Exercise 1_solution.ipynb', 'Exercise 1_Syn_batch3.ipynb', 'Exercise 1_with Solution (1).ipynb', 'Exercise 2_Fictional Army-Sorting and Filtering _solution.ipynb', 'Exercise 2_solution', 'Exercise 2_solution (1)', 'Exercise 2_solution (2)', 'Exercise 2_solution (3)', 'Exercise 2_solution.ipynb', 'Exercise 2_with Solution-Fictional Army.ipynb', 'Exercise 3_with solution-EuroTeam-Sorting and Filtering (1) (1).ipynb', 'Exercise 7-Pandas Basics solution.ipynb', 'Exercise_1_Python.ipynb', 'Exploratory Data Analysis-1.pdf', 'extracted_folder', 'extract_features_models (1).ipynb', 'extract_features_models.ipynb', 'EY__GUVI __ Generative AI for Managers and Below-GPS-Updated (2) (1).pdf', 'EY__GUVI __ Generative AI for Managers and Below-GPS-Updated (2).pdf', 'E_Commerce_Sales_Forecast.ipynb', 'f142f0e3b3058e4b979286ac970abed5.png', 'F500', 'Face mask segmentation - Solutions (1) (1).ipynb', 'Face mask segmentation - Solutions (1).ipynb', 'Face recognition - Solutions - Project - CV - AIML Online (1).ipynb', 'Face recognition - Solutions - Project - CV - AIML Online.ipynb', 'Face Recognition using Computer Vision.ipynb', 'Face+recognition+-+Questions+-+Project+-+CV+-+AIML+Online.ipynb', 'face-emotion-recognition-Copy1.ipynb', 'face-emotion-recognition.ipynb', 'facedetection', 'face_deteciton.ipynb', 'face_GAN.ipynb', 'FALCON_7B_Free_to_Use.ipynb', 'Fashiondata.ipynb', 'Fashiondata_keras.ipynb', 'fashion_data.ipynb', 'Feedback_collectionipynb.ipynb', 'Fertilizer Recommendation System.ipynb', 'Fertilizer.csv', 'Fertilizer_Recommendation.ipynb', 'Filehandling_batch3.ipynb', 'Final TOC DTA_GenAI_Foundation.xlsx', 'final-assignment-submission.ipynb', 'Finalexam_qp.zip', 'Finalmock_Jeppiar.xlsx', 'Final_Retail_Sales_Prediction_Projectg.ipynb', 'Financial Dashboard.pbix', 'Financial Sample.xlsx', 'fine-tune-flan-t5-with-peft-lora-deeplearning-ai (1).ipynb', 'Finetuning Vs RAG.pdf', 'Fine_tuned_classification.ipynb', 'Fine_tuning_large_language_models.ipynb', 'Fire', 'Fire and Smoke Detetction-Copy1.ipynb', 'Fire and Smoke Detetction.ipynb', 'fire image.html', 'fire image_files', 'Fire Prediction -18-dec.ipynb', 'Fire-20231215T114647Z-001.zip', 'Fire-20231218T074823Z-001.zip', 'Fire_Detection.ipynb', 'Fire_Smoke_Detection Question (1).docx', 'Fire_Smoke_Detection Question.docx', 'Fire_Smoke_Detection.txt', 'first.py', 'First_Program.ipynb', 'flagged', 'Flask_Eduonix', 'Flask_Eduonix2', 'Flask_Eduonix3', 'Flight price prediction.ipynb', 'flight-price-prediction.ipynb', 'FlightDataAnalysisUsingLinearRegression.ipynb', 'flight_price.obj', 'Flight_price_prediction.ipynb', 'Flight_price_prediction_case (1).ipynb', 'Flight_price_prediction_case (2).ipynb', 'Flight_price_prediction_synechron.ipynb', 'Flight_Ticket_Participant_Datasets-20190305T100527Z-001', 'flipkart product reviews cap (1).ipynb', 'flowerpot.JPG', 'Follow_along.ipynb', 'Footballer.csv', 'forandwhileloop.ipynb', 'Forecast.ipynb', 'Fortune500', 'fortune500-1955.csv', 'fortune500-2018.csv', 'fortune500-csv', 'fortune500-csv.zip', 'fortune500_new (1).csv', 'fortune500_new.csv', 'fotor-ai-20240612174417.jpg', 'Free Courses .pdf', 'Freshers Python TOC Version 3.2.xlsx', 'From SQL to Pandas.pdf', 'FS-Prgm-Adv-GenAI.xlsx', 'functions and types.ipynb', 'Functions.ipynb', 'Functions_batch3.ipynb', 'GAN (1).ipynb', 'GAN-Project-main.zip', 'GAN-Seimens.ipynb', 'GAN.ipynb', 'GAN_cifar.ipynb', 'GAN_Siemens.ipynb', 'gauge_chart.html', 'geetham1.pdf', 'gemma_7b_english_quotes.ipynb', 'Gen AI -Tool training requirement.xlsx', 'Gen AI Engineers Program coverage_Mentor (1).xlsx', 'Gen AI Engineers Program coverage_Mentor.xlsx', 'Genai book.pdf', 'GenAI Day 1.pdf', 'GenAI Day 2.pdf', 'GenAI Day 3.pdf', 'GenAI for All.pdf', 'GENAI FOR LEADERS.docx', 'genai for nontech prof.docx', 'GenAI Training Availability-17Nov23.xlsx', 'GenAI4E Slides.zip', 'genaithumb.png', 'genaithumb.png.webp', 'Genai_3_days_Finance.docx', 'GenAI_LLMs_v3.docx', 'Genai_wipro.xlsx', 'Generative AI (2) (1) (1).docx', 'Generative AI (2).pdf', 'Generative AI (3).pdf', 'Generative AI book.pdf', 'Generative AI with LLMs - Course Notes.pdf', 'Generative AI-TOC (1).docx', 'Generative AI-TOC.docx', 'Generative AI.pdf', 'Generative AI.pptx', 'Generative AI_48 Hours TOC.xlsx', 'get-start-image-classification.ipynb', 'getting started with dax-Eduonix.pbix', 'getting started with dax-full.pbix', 'getting started with dax.pbix', 'github-recovery-codes.txt', 'glass.csv', 'glass_data.csv', 'Global Sales Project.pbix', 'Global Superstore Orders 2016.xlsx', 'Global Superstore.xlsx', 'Globalsuperstore.pbix', 'GlobalSuperstore2016_Dashboard.pbix', 'Global_Superstore.pbix', 'Global_Superstore2.xlsx', 'global_warming (1).csv', 'glove', 'glove6b50dtxt.zip', 'GOOG.csv', 'GoogleNews-vectors-negative300.bin', 'GoogleNews-vectors-negative300.bin.zip', 'googlestore (1).csv', 'googlestore.csv', 'gradio.ipynb', 'GRADIO_GPT_J_6B.ipynb', 'gradio_titanic.ipynb', 'graduation.csv', 'Guide_nltk.pdf', 'Guvi- Job description (Adaptive Learning Algorithm).pdf', 'Hadoop_ecosystem.pdf', 'Handlingmissingvalues.ipynb', 'Hands On Exercise Model Tuning_ Car-mpg.csv', 'HeartAttack.csv', 'heart_disease_dataset (1).csv', 'heart_disease_dataset.csv', 'hellman.pbix', 'hello.py', 'Hello_World.ipynb', 'HierarchialClustering-CustomerData.ipynb', 'Hierarchical & DBSCAN Clustering.pdf', 'hotel_bookings.csv', 'Houseloan_Deeplearning.ipynb', 'Housing Data Regression.ipynb', 'how LLM work .pdf', 'How to Build career in AI.pdf', 'how to earn money (1).png', 'how to earn money.png', 'HR Analytics Data.csv', 'HR Dashboard.pbix', 'HR Data.xlsx', 'HR employee data.csv', 'HR-ANALYTICS-DASHBOARD---POWER-BI-.zip', 'hr-data.xlsx', 'hr_data.pbix', 'hs_directory.csv', 'Huggingface.ipynb', 'hugging_2 (1).ipynb', 'hugging_2.ipynb', 'hugging_2.py', 'Human-Nutrition-2020-Edition-1598491699 (1).pdf', 'Human-Nutrition-2020-Edition-1598491699.pdf', 'human-nutrition-text (1).pdf', 'human-nutrition-text.pdf', 'Hw to become a top 1% data scientist.pptx', 'Hybrid_Search_Scanned_PDF.ipynb', 'Hypothesis Testing .pdf', 'IBM HR Analytics Employee Attrition.ipynb', 'IBM.csv', 'iHub_IITR_PCP in Generative AI and Machine Learning_41223.pdf', 'IIHT_TOC_AI For Business and Analytics.pdf', 'Image conversion.ipynb', 'IMAGE PROCESSING IN PYTHON 🐍 .pdf', 'image.txt', 'image1.jpg', 'image2.jfif', 'images of dog and cats.txt', 'image_1.jpg', 'Image_classification_2.ipynb', 'image_classification_with_tensorflow_and_Keras.ipynb', 'Image_class_syn.ipynb', 'Image_editing_batch5.ipynb', 'Image_Editing_Using_OpenCV.ipynb', 'Image_Processing.ipynb', 'IMDB dataset.csv.csv', 'IMG-20200309-WA0008 (1).jpg', 'IMG-20200309-WA0008.jpg', 'IMG_20190601_130603.jpg', 'imputed_Pima_class_work (1).ipynb', 'imputed_Pima_class_work.ipynb', 'income-analysis-USA.ipynb', 'Inc_Exp_Data.csv', 'index (1).html', 'index.html', 'Industry 4.0 Webinar.xlsx', 'Information Technology Project Proposal by Slidesgo.pptx', 'input_data.xlsx', 'insurance (2) (1).csv', 'insurance (2).csv', 'insurance.csv', 'insurance_claims_dataset.csv', 'Intermediate Power BI TOC_Dec 2022 (3).docx', 'Intermediate Power BI TOC_Dec 2022.docx', 'Interview Questions.txt', 'Intro to Data Science \\xa0Training\\xa0\\xa0_ Day - 1 Feedback Form _\\xa0Siemens(1-4).xlsx', 'Intro to Machine Learning-20240502T090614Z-001.zip', 'Intro to RNNs for NLP.pdf', 'Intro-to-PandasAI.ipynb', 'Introdcution to Data Science-2 days.pdf', 'Introduction to Deep Learning.pptx', 'Intro_to_DS.ipynb', 'intro_to_ds.py', 'Invoice 19 edForce-Synechron_4days _Nov.docx', 'Invoice-edForce-Samsung.docx', 'Invoice-edForce-Siemens.docx', 'Invoice12-edForce-Synechron_12days.docx', 'Invoice13-edForce-Synechron_4days (1).docx', 'Invoice13-edForce-Synechron_4days.docx', 'Invoice14-edForce-Synechron_4days (1).docx', 'Invoice14-edForce-Synechron_4days.docx', 'Invoice14-edForce-Synechron_5days.docx', 'Invoice15-edForce-Synechron_5days.docx', 'Invoice16-edForce-Synechron_4days.docx', 'Invoice17-edForce-Synechron_4days.docx', 'Invoice17-edForce-Synechron_Pandp.docx', 'Invoice17-edForce-Synechron_Pandp_updated.docx', 'Invoice18-edForce-Synechron_4days (1).docx', 'Invoice18-edForce-Synechron_4days _Nov.docx', 'Invoice18-edForce-Synechron_4days _Oct.docx', 'Invoice4-edForce-Siemens_4days.docx', 'Invoice_001.docx', 'INVOICE_Qmansys_AUG2024.xlsx', 'INVOICE_Qmansys_Vishak.xlsx', 'IPLDataset.ipynb', 'ipynb_checkpoints-20230917T112348Z-001.zip', 'Iris_classification.ipynb', 'ISBSOFT-Dr.Premlatha AI ML PO.pdf', 'ISBSOFT530-INVOICE_2.doc', 'ISBSOFT530-INVOICE_3.doc', 'ISBSOFT530-INVOICE_4.doc', 'ISBSOFT530-INVOICE_8.doc', 'istockphoto-512252651-612x612.jpg', 'Itinerary-premalatha(chennai to vishakhapatnam).pdf', 'Jai resume.docx', 'jdk-21_windows-x64_bin.exe', 'Jeda.ai Overview (1).png', 'Jeda.ai Overview.png', 'Jeppiar_.xlsx', 'jre-8u401-windows-x64.exe', 'K-Means (1).ipynb', 'K-Means (2).ipynb', 'K-Means Clustering.pdf', 'K-Means.ipynb', 'k8 Notes.zip', 'Karthikeyan_CIT.ipynb', 'Keras-Fashion MNIST.ipynb', 'keras_class.h5', 'keras_classification.h5', 'keras_reg.h5', 'Kfold_logistic (1).ipynb', 'Kfold_logistic.ipynb', 'kmeans_1.ipynb', 'kmeans_and_hier_Mall.ipynb', 'kNN (1).ipynb', 'kNN .Rakuten _Abilasha-Copy1.ipynb', 'kNN .Rakuten _Abilasha.ipynb', 'kNN .Rakuten.ipynb', 'KNN-sklearn with cross validation-Copy1.ipynb', 'kNN.ipynb', 'KNNassignment', 'KNNsolution', 'KNN_breast cancer.ipynb', 'KNN_DT.ipynb', 'knn_dt_svm_eduonix (1).ipynb', 'knn_dt_svm_eduonix.ipynb', 'KNN_eduonix.ipynb', 'KNN_Project_Data', 'k_means_clustering.ipynb', 'Lachu 1st Term Fee 2024.pdf', 'Lala', 'lambdafunction_batch3.ipynb', 'LamdaFunctions.ipynb', 'lanchain_crashcourse.ipynb', 'langchain-6public-230530132708-7cb3b668.pdf', 'LangChain_Notebook_0_2_bck.ipynb', 'lasso_elastic (1).ipynb', 'lasso_elastic.ipynb', 'Latha Business card.zip', 'Latha Businesscard.zip', 'Latha T K  Live Training Agreement for Data Science.docx', 'Leading Gen AI Transformation in the Organization_Leadership (1).pdf', 'Leading Gen AI Transformation in the Organization_Leadership (2).pdf', 'Leading Gen AI Transformation in the Organization_Leadership (3).pdf', 'Leading Gen AI Transformation in the Organization_Leadership.pdf', 'Learn Apache PySpark.pdf', 'Learn PowerBI.html', 'Learn PowerBI_files', 'Lecture 3.1_ Logistic Regression.pptx', 'Leetcode Solutions.pdf', 'LeetCode SQL solutions .pdf', 'lending-club-', 'lending-club-.zip', 'Lending_Club__colab.ipynb', 'Lenet.ipynb', 'LGD_DATA.csv', 'lhouseloan_data.csv', 'Linear Regression_240530_190241.pdf', 'Linear regression_Eduonix.ipynb', 'Linearequns_mds.ipynb', 'LinearRegression.ipynb', 'LinearRegression_concrete.ipynb', 'LinearRegression_Project', 'LinearRegression_Rakuten.ipynb', 'LinearReg_mpg.ipynb', 'LinearReg_mpg_deeplearning.ipynb', 'Linear_Algebra-1 (1).ipynb', 'Linear_Algebra-1.ipynb', 'Linear_Algebra-2.ipynb', 'linear_reg.jpg', 'Linear_Regression.ipynb', 'Linear_Regression_auto_mpg_residual.ipynb', 'Linear_Regression_Concrete_genai.ipynb', 'Linear_Regression_Concrete_Rak (1).ipynb', 'Linear_Regression_Concrete_Rak.ipynb', 'Linear_Regression_Oracle.ipynb', 'Linear_Regression_Synechron.ipynb', 'Link - Code Materials.txt', 'linkedin.docx', 'list_exercise (1).docx', 'list_exercise.docx', 'List_exercise_solution.ipynb', 'llama_2_13b_retrievalqa_FAISS.ipynb', 'LLM.pdf', 'llm_cohere.ipynb', 'loan (1).csv', 'Loan Prediction -deeplearning_Rak.ipynb', 'Loan Prediction _End_to_end (1).ipynb', 'Loan Prediction _End_to_end _2.ipynb', 'Loan Prediction _End_to_end.ipynb', 'loan-status-prediction-using-multipleclassifier.ipynb', 'loan.csv', 'loan_data.csv', 'loan_data.csv.zip', 'loan_data_1.csv', 'loan_data_correction.txt', 'loan_prediction (1).csv', 'loan_prediction.csv', 'Loan_prediction_EDST.ipynb', 'Loan_Prediction__End_to_end__ora.ipynb', 'location.png', 'Logistic Regression_Question', 'Logistic Regression_Solution', 'Logistic Regression_Take Home Questions.ipynb', 'Logistic+Regression.ipynb', 'LogisticRegression_Siemens.ipynb', 'LogisticRegression_titanic.ipynb', 'Logistic_pima_solution_Eduonix.ipynb', 'Logistic_Reg-titanic-data.ipynb', 'Logistic_reg.ipynb', 'Logistic_Regresson.ipynb', 'Logistic_titanic_yhills (1).ipynb', 'Logistic_titanic_yhills-Copy1.ipynb', 'Logistic_titanic_yhills.ipynb', 'Logistic_up_down_sample_Pima-1 (1).ipynb', 'Logistic_up_down_sample_Pima-1.ipynb', 'LOOCV_Introduction.ipynb', 'LSTM Sentiment Analysis Kaggle v1 (1).ipynb', 'M1W2 - Visualization-Questions.ipynb', 'M1W2 - Visualization-Withsolution.ipynb', 'M1W3+-CS_KNN_+Network+intrusion.ipynb', 'M1W3- PE_BasicStats-Questions.ipynb', 'M1W3- PE_BasicStats-Withsolution.ipynb', 'M3W2+Casestudy+-+LGD.ipynb', 'MAA_SF_IN_100A - Shipment Journal-2023-09-09-03-13-10.xlsx', 'Machine Learning - Basis Concept (1).pdf', 'Machine Learning - Basis Concept.pdf', 'Machine Learning - Flight Price prediction.docx', 'Machine Learning - TOC.docx', 'Machine Learning Basic Concepts.pdf', 'Machine Learning from A to Z _240430_163553.pdf', 'Machine Learning Handwritten Notes.pdf', 'Machine Learning with PySpark Loan Prediction.ipynb', 'Machine Learning.pptx', 'Machine_Learning.pptx', 'Machine_Learning_Presentation.pptx', 'MAKEUP_20190101173510_save.jpg', 'MAKEUP_2020052017052872_save.jpg', 'Mall.ipynb', 'Mall_Customers (1).csv', 'Mall_Customers.csv', 'Mapfunctions.ipynb', 'Mapfunctions_batch3.ipynb', 'Maps and Other Charts-20240731T134421Z-001.zip', 'mar-1 (1).txt', 'mar-1.txt', 'Mastering ChatGPT.pdf', 'Mastering generative ai and Prompt engineering.pdf', 'Material', 'Material.zip', 'Maths for Data Science.docx', 'math_test_results.csv', 'Matplotlib_Seaborn_Plotly-Copy1.ipynb', 'Matplotlib_Seaborn_Plotly.ipynb', 'Matrices.ipynb', 'maxresdefault.jpg', 'mbox.txt', 'MCQ-vamsi-duvvuru', 'mcq_8hours.docx', 'MCQ_Batch2_Day2 (1).docx', 'MCQ_Batch2_Day2.docx', 'Measuring Impact and Updating AI Model (1).pdf', 'Measuring Impact and Updating AI Model.pdf', 'medhu-vada.jpg', 'Mentor_16 years_AI.docx', 'Mentor_16 years_AI.pdf', 'Mentor_17 years_AI..docx', 'Mentor_17 years_AI.pdf', 'Metadata', 'military_spending_analysis.ipynb', 'military_spending_eduonix.ipynb', 'Mini Project Bank Loan_solution.ipynb', 'mini_sparkify_event_data (1).json', 'mini_sparkify_event_data.json', 'ML A TO Z.pdf', 'ML AI University.pptx', 'ML deploy', 'ML Exam paper.zip', 'ML Notes.pdf', 'ML-MODEL-DEPLOYMENT-USING-FLASK-', 'ML-MODEL-DEPLOYMENT-USING-FLASK-main', 'ML-MODEL-DEPLOYMENT-USING-FLASK-main.zip', 'ML1_batch4.ipynb', 'MLdeployment.ipynb', 'ML_Modelling_eval (1).ipynb', 'ML_Modelling_eval.ipynb', 'ML_reg.ipynb', 'Ml_reg_nov24_2nd.ipynb', 'ML_Terminologies.pdf', 'model- loan_prediction.ipynb', 'model-credit-score.ipynb', 'model.h5', 'Modelling.pbix', 'Modelling_nov_ml.ipynb', 'ModelTraining.ipynb', 'Module 2-20240204T075313Z-001.zip', 'Module 3-20240209T062317Z-001.zip', 'Module 4-20240209T062322Z-001.zip', 'Modules_batch3.ipynb', 'Modules_help.ipynb', 'Modules_packages.ipynb', 'MSTeams-x86.msix', 'mtcars.csv', 'Multi-Collinearity_240530_190204.pdf', 'multicollinearity-causes-and-consequences.png', 'Multicollinearity_vif_Oracle.ipynb', 'Multiple Choice Questions-BB.docx', 'Multiple Choice Questions-Rakuten (1).docx', 'Multiple Choice Questions-Rakuten (2).docx', 'Multiple Choice Questions-Rakuten _3.docx', 'Multiple Choice Questions-Rakuten.docx', 'Multiple Choice Questions_edforce (1).docx', 'Multiple Choice Questions_edforce.docx', 'Multiple Choice Questions_pyspark.docx', 'Multiple Choice Questions_Synechron.docx', 'multiple-graphs-for-beginners (1).ipynb', 'multiple-graphs-for-beginners (2).ipynb', 'multiple-graphs-for-beginners-2 (1).ipynb', 'multiple-graphs-for-beginners-2 (2).ipynb', 'multiple-graphs-for-beginners-2.ipynb', 'multiple-graphs-for-beginners.ipynb', 'multi_index_example', 'mushroom.jpg', 'mushrooms.csv', 'Music', 'myenv', 'mytree.dot', 'mytree1.dot', 'my_model_lending_club.h5', 'My_Professional_Life.docx', 'Naive Bayes-20240510T060727Z-001.zip', 'Naive Bayes.ipynb', 'Naive Bayes_Eduonix.ipynb', 'NaiveBayes.ipynb', 'NaiveBayesassignment', 'NaiveBayessolution', 'NaiveBayes_classroom.ipynb', 'named_entity_recognition.ipynb', 'Natural Language Processing(NLP)_PL.pptx', 'Natural-language-processing-specialization', 'ner_dataset.csv', 'Network_Intrusion.csv', 'NeuralNetworks.ipynb', 'new1pro1.zip', 'newplot.png', 'new_dataset.csv', 'Nikita Kale_Resume.pdf', 'Nittin_Project.ipynb', 'Nittin_redpandas_wb.docx', 'NLP (1).pptx', 'NLP - Text processing pipeline.ipynb', 'NLP Cheatsheet.pdf', 'nlp intro slides (1).pdf', 'nlp intro slides (2).pdf', 'nlp intro slides.pdf', 'nlp-1.pdf', 'NLP-EDST.pptx', 'NLP.ppt', 'NLP.zip', 'NLP_classifier_Rak.ipynb', 'NLP_day1_rak.ipynb', 'nlp_notes.pdf', 'nlp_part1.pdf', 'nlp_part2.pdf', 'nlp_ppt.pdf', 'nlp_ppt_1.pdf', 'NLP_Project.rar', 'NLP_Project_Sarcasm_Detection_Questions (1).ipynb', 'NLP_Project_Sarcasm_Detection_Questions.ipynb', 'NLP_qp', 'NLTK (1).ipynb', 'NLTK.ipynb', 'nltk_regex_synechron.ipynb', 'NLTK_TIAA.ipynb', 'NMT with Attention.ipynb', 'nodes', 'notebooks.zip', 'Notes on Deep Learning.pdf', 'Numpy and Pandas.ipynb', 'Numpy Basics.ipynb', 'Numpy Indexing and Selection.ipynb', 'NumPy Operations.ipynb', 'Numpy Tutorial.ipynb', 'Numpy-11.ipynb', 'NumPy-Worksheet.ipynb', 'Numpy.ipynb', 'Numpy.zip', 'NumPy_Eduonix.ipynb', 'numpy_exercises.ipynb', 'Numpy_pandas_batch10.ipynb', 'Numpy_pandas_mat_sea_Rak.ipynb', 'numpy_pandas_nov1.ipynb', 'Numpy_Raakuten_Day2.ipynb', 'Numpy_Rak_batch5.ipynb', 'Numpy_sep.ipynb', 'Numpy_Synechron.ipynb', 'Numpy_TIAA.ipynb', 'nvda_news_1.txt', 'nyt2.json', 'OBS-Studio-30.1.2-Full-Installer-x64.exe', 'OLA_Ensemble_Learning.ipynb', 'One Sample Testing (1) (2).ipynb', 'one-skill-you-should-focus-on.xlsx', 'OneDrive_1_2-29-2024.zip', 'Online Retail Dataset solution (EDA +RFM).ipynb', 'Online-retail.csv', 'OOP.ipynb', 'OOPS and classes.pdf', 'oops.ipynb', 'Oops_1.ipynb', 'OOP_batch3.ipynb', 'Open AI for PPT New.docx', 'openai', 'OpenAI.pptx', 'openai_new', 'opencv', 'OpenSource_Models_x_Colab_GenAI.ipynb', 'Opensource_Siemens_GenAI.ipynb', 'Operators.ipynb', 'Optimizers in Deep Learning.pptx', 'Oracle CNDA.pdf', 'Oracle_notes.docx', 'Orange and White Modern Daily Diary (1).png', 'Orange and White Modern Daily Diary (2).png', 'Orange and White Modern Daily Diary.png', 'Orchard - DATA (Spark-AWS) Track Curriculum.xlsx', 'Orchard - DATA (Spark-Azure) Track Curriculum.xlsx', 'output', 'output-20231215T114647Z-001.zip', 'output-20231218T074824Z-001.zip', 'Overview_Regr.ipynb', 'Pandas', 'Pandas (1).ipynb', 'Pandas interview Questions.pdf', 'Pandas-Data-Science-Tasks-SalesAnalysis (2)', 'Pandas-DataManipulation.ipynb', 'Pandas.ipynb', 'PandasAI-Tutorials-Datasets (1).zip', 'PandasAI-Tutorials-Datasets.zip', 'pandasai.py', 'Pandas_begtoadv.ipynb', 'pandas_example.ipynb', 'Pandas_Mat_sea_TIAA.ipynb', 'Pandas_Rak_Batch5.ipynb', 'Pandas_Syn_day1.ipynb', 'Pandas_TIAA.ipynb', 'Pandas_yhills.ipynb', 'password.docx', 'pb-sales-data-blank.xlsx', 'PCA.ipynb', 'PCA_1.ipynb', 'pda-analysis-with-lr-dt-rf-and-svm-99-6-auc (1)-Copy1.ipynb', 'pda-analysis-with-lr-dt-rf-and-svm-99-6-auc (1).ipynb', 'pda-analysis-with-lr-dt-rf-and-svm-99-6-auc.ipynb', 'Pdf_answers.py', 'pdf_siemens.py', 'Performance Eval', 'Performance Eval-20240531T050003Z-001.zip', 'Performance Eval-20240606T065551Z-001.zip', 'PerformanceEval.ipynb', 'Performance_Optimisation_for_Simple_Keyword_Search.ipynb', 'persons.csv', 'Photo_1601136317281.jpg', 'pickling.ipynb', 'pima-indians-diabetes (4).csv', 'pima-indians-diabetes .csv', 'pima_pairpanel.png', 'pipelines', 'pizza eating.jpg', 'pizza.jpg', 'Play_with_dataset.ipynb', 'Plotly.pdf', 'Plotly_Complete.ipynb', 'Pneumonia_Detection_CNN.ipynb', 'POS Tagging with NLTK v1.ipynb', 'Position_Salaries.csv', 'Post Onboarding Training Plan - June 2024V1.0 (2)_28th May.xlsx', 'POS_tagging_using_LSTM_Rak.ipynb', 'Power BI DAX Methods.pdf', 'Power BI, Pyspark & Databricks TOC (AutoRecovered).docx', 'Power BI, Pyspark & Databricks TOC.docx', 'Powerbi book.pdf', 'PowerBI dax notes.pdf', 'PowerBI-20230902T040244Z-001.zip', 'PowerBI-master.zip', 'PowerBI.1', 'Powerbi.zip', 'PowerBiReportBuilder.msi', 'PowerBI_15 hours (1).xlsx', 'PowerBI_15 hours.xlsx', 'PowerBI_ChartTypes (1).pptx', 'PowerBI_ChartTypes.pptx', 'PowerBI_Desktop (1) (1).pptx', 'PowerBI_Desktop (1).pptx', 'PowerBI_Desktop.pptx', 'PowerBI_Reference.ipynb', 'po_premlatha_PO-20232423.pdf', 'PPT_maker_oracle.ipynb', 'Practice_Excercise.ipynb', 'Preassessment_1.docx', 'predictive_maintenance (1).csv', 'predictive_maintenance.csv', 'Premalatha - Purchase Order Coromodel International.pdf', 'Premalatha Invoice 30_Eduonix (1).docx', 'Premalatha Invoice 30_Eduonix.docx', 'Premalatha Invoice 55_Eduonix.docx', 'Premalatha T service contract.docx', 'Premalatha T service contract_signed.docx', 'Premalatha-Invoice4-edForce-Siemens_4days.docx', 'Premalatha-Invoice4-edForce-TIAA_6days.docx', 'Premalatha_Pyspark_Cheatsheet.ipynb', 'prems.py', 'presentation.pptx', 'Presentation1.pptx', 'preview', 'prin.py', 'Probability_Statistics-1.ipynb', 'Probability_Statistics-2.ipynb', 'Problem Statement.txt', 'Problem Statement_LinearRegOLS.pdf', 'Prodanalysis.ipynb', 'Productanalysis_oracle (1).ipynb', 'Productanalysis_oracle (2).ipynb', 'Productanalysis_oracle.ipynb', 'products.csv', 'products_multiline.json', 'products_singleline.json', 'Product_Management.pptm', 'PROFILE.docx', 'Proj1_EDA_Pandas_Banking (1).ipynb', 'Project - Supervised Learning- Problem Statement.pdf', 'Project 2 _ Military Spending Analysis.pdf', 'Project 3.docx', 'Project 3.mp4', 'Project 3_Tableau.docx', 'Project1_powerbi.docx', 'Project1_Tableau.docx', 'Projects-20240606T065640Z-001.zip', 'Project_2.docx', 'Project_2_Tableau.docx', 'project_atm_simulator.docx', 'project_covid19_dashboard.docx', 'Project_Python.ipynb', 'Project_Resume_Main.ipynb', 'Prompt engineering.docx', 'promptengg.pdf', 'PromptEnggPlanDayWise (3).xlsx', 'PromptEngineering.pdf', 'Prompt_engg_ppt.pdf', 'Ptyspark.pdf', 'Pyspark data-bricks .pdf', 'Pyspark practice notes (1).pdf', 'Pyspark practice notes.pdf', 'pyspark topic practice notes.pdf', 'Pyspark with Databricks.ipynb', 'pyspark-examples-.zip', 'pyspark-rdd-actions.ipynb', 'pyspark-rdd-actions.py', 'pyspark-rdd-broadcast.py', 'pyspark-rdd-flatMap.py', 'pyspark-rdd-map.py', 'pyspark-rdd-reduceByKey.py', 'pyspark-rdd-to-dataframe.py', 'pyspark-rdd-wordcount-2.py', 'pyspark-rdd-wordcount.py', 'pyspark-rdd.py', 'Pyspark-With-Python- (1)', 'Pyspark-With-Python- (1).zip', 'Pyspark-With-Python-.zip', 'PySpark-working.ipynb', 'pysparksample.ipynb', 'pyspark_autompg.ipynb', 'Pyspark_Course Content.docx', 'PySpark_Diabetes_Prediction_End_to_End_ML_Project.ipynb', 'PySpark_Outline.docx', 'Pyspark_tips.ipynb', 'Pyspark_TOC (1).docx', 'Pyspark_TOC _updated.docx', 'Pyspark_TOC.docx', 'Python Advanced_Course Content (1).docx', 'Python Advanced_Course Content.docx', 'Python and Pyspark TOC.docx', 'Python and Pyspark_56 hours.docx', 'Python Basics_TOC.docx', 'Python cheatsheet.pdf', 'Python Course Content_Basics to Intermediate (1).docx', 'Python Course Content_Basics to Intermediate.docx', 'Python Course Content_Basics to Intermediate.pdf', 'Python for Data Analysis', 'Python Functions and thier types.pdf', 'Python Handwritten Notes .pdf', 'Python Libraries Author JD.docx', 'Python List_batch3.ipynb', 'Python Pandas from Basics to Advance.pdf', 'Python Practice Guide - Machine Learning.pdf', 'Python practice_Milindmali.pdf', 'Python Tutorial by Asif Bhat.ipynb', 'Python Tutorial by Asif Bhat.pdf', 'Python,powerBI and Tableau.docx', 'python-3.11.5-amd64.exe', 'Python.png', 'PythonArrays.ipynb', 'Pythonday1.ipynb', 'PythonDict.ipynb', 'PythonForandWhileLoop.ipynb', 'Pythonintro.ipynb', 'PythonList.ipynb', 'PythonScope.ipynb', 'Pythonscope_batch3.ipynb', 'PythonTuples.ipynb', 'PythonTuple_batch3.ipynb', 'Python_2.ipynb', 'Python_aiml.ipynb', 'Python_arrays_batch3.ipynb', 'Python_automation.docx', 'Python_basics_TIAA.ipynb', 'Python_day1_batch14.ipynb', 'Python_day2.ipynb', 'Python_day2_batchsep.ipynb', 'Python_Dictionary_batch3.ipynb', 'Python_Part2.ipynb', 'Python_pyspark_batch2_syn.ipynb', 'Question Paper 1.docx', 'QUOTATION (1).pdf', 'QUOTATION.pdf', 'Raakuten-Content_dev.xlsx', 'rag-from-scratch-.zip', 'Ragas_Master.ipynb', 'RAG_1.ipynb', 'RAG_based_chatbot_or_3000_wiki_data-3.ipynb', 'rag_from_scratch_1_to_4.py', 'rag_from_scratch_open_source.py', 'Rag_oracle.ipynb', 'Rag_Session_2.ipynb', 'Rahul.ipynb', 'Random Forest Question', 'Random Forest-20240524T100457Z-001.zip', 'Random Forest.ipynb', 'RandomForest solution', 'random_forest_regression.ipynb', 'RDD!.ipynb', 'RDD11.ipynb', 'RDD_batch3.ipynb', 'Rdd_final_Syn.ipynb', 'rdd_pyspark_syn.ipynb', 'Reading_Writing_textfiles.ipynb', 'Real_World_Pandas.ipynb', 'Recap.ipynb', 'Recommendation+Systems+slides.pdf', 'Record.json', 'Redpandas_westbengal.png', 'Reference_code.ipynb', 'Reference_yhills.ipynb', 'Regex_Regularexpression_TIAA.ipynb', 'regex_tutorial_exercise_answer.ipynb', 'regex_tutorial_exercise_questions.ipynb', 'regex_tutorial_python.ipynb', 'Regression-20240510T060720Z-001.zip', 'Regression_1.ipynb', 'Regression_1_mpg (1).ipynb', 'Regression_1_mpg.ipynb', 'Regression_aipm.ipynb', 'Regression_batch3.ipynb', 'Regression_batch3_gradio.ipynb', 'Regression_concrete.ipynb', 'Regression_flight.ipynb', 'Regression_TIAA.ipynb', 'regularization -png.png', 'regularization .pdf.png', 'Regular_Expressions (1).ipynb', 'Regular_Expressions.ipynb', 'Report', 'requirements (1).txt', 'requirements (2).txt', 'requirements.txt', 'resized_combined_dp.png', 'resized_dp.png', 'Resnet152V2.ipynb', 'Resume_Analytics.txt', 'Resume_Data.csv', 'retail_sales_dataset.csv', 'Reviews', 'Ridge_Lasso_Regression.ipynb', 'Ridge_Lasso_Regression_batch5.ipynb', 'ROC_AUC_batch5.ipynb', 'ROC_GradientDescent_LassoRidge_GridSearch.pdf', 'ROC_Threshold_Management.ipynb', 'rough project-Copy1.ipynb', 'RSNA_Pneumonia_Detection_Solution.ipynb', 'rural_population_percent.csv', 'sadhaka_varisai.pdf', 'Salaries.csv', 'SalesAnalysis.ipynb', 'sales_insight (1).xlsx', 'sales_insight.xlsx', 'sales_insights.pbix', 'sample', 'Sample - Superstore.xls', 'sample card.png', 'sample-1.docx', 'sample-1.py', 'sample.txt.txt', 'sample1.json', 'sample2.jpeg', 'sample2.json', 'sampleipynb', 'sample_image.webp', 'sample_submission.csv', 'sample_syn', 'sample_syn.txt', 'SAT-GPA-data.csv', 'sat_results.csv', 'SAT_Scores.ipynb', 'SAT_score_analysis.ipynb', 'SAT__College_Board__2010_School_Level_Results.csv', 'SBD97652_Mrs.Panjavarnam_195350.pdf', 'scalable-data-science-pyspark-core-rdd.ipynb', 'scaler.pkl', 'Scenario.docx', 'SCM.ipynb', 'SCM.pptx', 'SCMS_Delivery_History_Dataset (1).csv', 'SCMS_Delivery_History_Dataset.csv', 'Scope Document _ Generative AI for Business Transformation.xlsx', 'Scoping Form - Gen AI Training docx (1).docx', 'Scoping Form - Gen AI Training docx (2).docx', 'Scoping Form - Gen AI Training docx.docx', 'scores.csv', 'ScreenPalSetup_55b993b6-cef0-4bb3-aa81-b7ebfd04d23b.exe', 'Screenshot_20200509-233023.jpg', 'Screenshot_20201125-143509.jpg', 'Screenshot_20220222-000122 (1).jpg', 'Screenshot_20220222-000122.jpg', 'Screenshot_20220502-205221.jpg', 'Secrets of chatgpt prompt engineering for non developers.pdf', 'SecurityBindings', 'segmentation data.csv', 'Self-assessment_2.ipynb', 'Self-Study Assignment 5.1 & Discussion 5.2 - Dataset-2.xlsx', 'Selfassessment-1.pptx', 'Sensitivity Training Certificate.pdf', 'Sentiment Analysis on IMDB dataset _ NN .ipynb', 'sentiment-analysis-python using nltk transformer.ipynb', 'sentiment-analysis-python using nltk transformer_oracle.ipynb', 'Sentiment.csv', 'SentimentAnalysis.py', 'SentimentAnalysis_Reference.ipynb', 'Sentiment_Analysis.ipynb', 'server.py', 'Session 6 ppt (1)_240523_065932.pdf', 'set and frozen sets.ipynb', 'Settings', 'Set_Python_batch3.ipynb', 'SFJBS _Python TOC.docx', 'Shipping_Industry_Challenges_Red_Sea_Crisis.pptx', 'shop.webp', 'SIEMENS', 'SIMENS GENERATIVE AI.docx', 'Simple Keyword Search with Python.ipynb', 'Simple Line Chart Custom Visual.pbix', 'simple-zipcodes.csv', 'simple-zipcodes1.csv', 'Simple_RAG.ipynb', 'SIPRI.xlsx', 'SixSigma_Greenbelt.xlsx', 'Slides - GANs.pdf', 'SMOTE_diab.ipynb', 'SMSSpamCollection.tsv', 'Sntimentanalysis.pdf', 'Social_Network_Ads.csv', 'Solar.csv', 'Solutions_Assignment-Math_Stats.ipynb', 'Solution_Assignment_Housing_Agency_Boston.ipynb', 'sonar.all-data', 'spacy.ipynb', 'Spam_Classifier_day2_rak_nlp.ipynb', 'SPAM_data.csv', 'SPARK BASED TOPICS KEYWORDS (60).pdf', 'spark-3.5.1-bin-hadoop3.tgz', 'Sparkify_code.ipynb', 'Spark_sql_Syn.ipynb', 'speech (1).wav', 'speech.wav', 'Speechtext.ogg', 'Spotify Playlist Song Aesthetic Instagram Post  (1).png', 'Spotify Playlist Song Aesthetic Instagram Post  (2).png', 'Spotify Playlist Song Aesthetic Instagram Post .pdf', 'Spotify Playlist Song Aesthetic Instagram Post .png', 'SpotifySetup.exe', 'SPRINT 2 _Course Curriclum_AI for Cyber_March 2024.docx', 'SQL and DBMS interview questions.pdf', 'SQL Assignment 1-20240322T050447Z-001.zip', 'SQL Assignment 2-20240322T050820Z-001.zip', 'SQL Exercises .pdf', 'SQL Handwritten Notes💡.pdf', 'SQL Interview Questions and Answers 🔥.pdf', 'sql-1-1.pdf', 'SQL-1.pdf', 'SQL-20240304T080346Z-001.zip', 'SQL-20240307T090000Z-001.zip', 'SQL.ipynb', 'SQL.pdf', 'SQL_open csv file.mp4', 'src', 'SSF 2 - TOC (1).xlsx', 'SSF 2 - TOC (2).xlsx', 'SSF 2 - TOC.xlsx', 'SSG - AVAILABLE DETAILS (20.05.2024).pdf', 'staff.pbix', 'standardization-normalization-techniques.ipynb', 'Statistics and Prob-20240705T090438Z-001.zip', 'Statistics and Probability-1.pptx', 'Statistics and Probability-2.pptx', 'Statistics and Probability-3.pptx', 'Statistics and Probability-4 (1).pptx', 'Statistics and Probability-4.pptx', 'Statistics Notes.pdf', 'statistics_cardio.ipynb', 'Statistics_day_1.ipynb', 'Statistics_handwritten_notes.pdf', 'Statistics_Rak_Batch5.ipynb', 'stats.ipynb', 'StatsProject2 (1).ipynb', 'step-by-step-guide-to-gridsearchcv.ipynb', 'stock analysis.pbix', 'stocks.txt', 'Stock_Prices_using_Spark_SQL.ipynb', 'stock_sentiment_analysis_day3_rak_nlp.ipynb', 'store.csv', \"Story Organiser - The 5 W's.pptx\", 'Stream', 'streamlit', 'streamlit-web-app-with-heart-disease-prediction.ipynb', 'string exercise.docx', 'string_solution.ipynb', 'String___List.ipynb', 'student-copy1.csv', 'student-copy2.csv', 'student.csv', 'student.xlsx', 'Submission.csv', 'summary.csv', 'Superstore.csv', 'Supply_Chain_Analysis.ipynb', 'supply_chain_data.csv', 'survey_all.txt', 'survey_d75.txt', 'Survival Duration Calculator-20240214T112638Z-001 (1).zip', 'Survival_Duration_Calculator.ipynb', 'SVHN_NN_Solution.ipynb', 'SVM Project', 'SVM-20240518T094548Z-001.zip', 'svm-classifier-tutorial.ipynb', 'SVM.ipynb', 'Syllabus for Python.docx', 'syn_nov18.ipynb', 'Ta.ipynb', 'Tableau & PowerBi Interview QnAs by CloudyML.pdf', 'Tableau _ Power BI Exam Paper.pdf', 'Tableau.zip', 'TableauDesktop-64bit-2024-2-3 (1).exe', 'TableauDesktop-64bit-2024-2-3.exe', 'TableauDesktop-64bit-2024-3-0.exe', 'TableauI_12 hours.xlsx', 'Tableau_12 hours.xlsx', 'Tableau_global.twb', 'Tableau_Part1-main.zip', 'Task 1.ipynb', 'ta_feng_all_months_merged.csv', 'Tea-Leaf-Disease-Prediction', 'Tea-Leaf-Disease-Prediction- (1).zip', 'Tea-Leaf-Disease-Prediction-.zip', 'tealeaf', 'Tealeafdiseasepred_Rakuten.ipynb', 'TeamsSetup_c_w_ (1).exe', 'TeamsSetup_c_w_.exe', 'teaser_self_rag_v8.png', 'technical_support_data-2 (1).csv', 'technical_support_data-2.csv', 'telco-churn.ipynb', 'Telco_Customer_Churn (1).csv', 'Telco_Customer_Churn (2).csv', 'Telco_Customer_Churn (3).csv', 'Telco_Customer_Churn.csv', 'templates', 'tensorflow_titanic.ipynb', 'tesla_report_notes (1).jpg', 'tesla_report_notes.jpg', 'test', 'Test of proportion and variance (1) (1).ipynb', 'test-1.csv', 'test-2.csv', 'test-20231028T132411Z-001.zip', 'test-20231214T070717Z-001.zip', 'test-20240416T084105Z-001.zip', 'test-3.csv', 'test.csv (1).zip', 'Test.csv (2).zip', 'Test.csv (3).zip', 'test.csv.zip', 'test1.csv', 'test2.csv', 'test3.csv', 'Testimage.jpg', 'test_set', 'Test_set.xlsx', 'test_tea', 'test_tea.zip', 'Text Analytics_ResumeData.ipynb', 'text-processing-pipeline-classification-models.ipynb', 'Textgeneration_genai.ipynb', 'TFIDF example.ipynb', 'TFIDF_example.ipynb', 'THE PROMPT ENGINEERING GUIDE V2.pdf.pdf', 'THE PUPIL SAVEETHA ECO SCHOOL.pdf', 'threads_review.csv', 'thumbnail.jpeg', 'Ticket_Classification.ipynb', 'TinyLlama_fine_tuning (1).ipynb', 'TinyLlama_fine_tuning.ipynb', 'TinyLlama_fine_tuning_quotes.ipynb', 'TinyLlama_fine_tuning_sagemaker-updated.ipynb', 'tips.csv', 'Titanic DATA Power BI Revised.pbix', 'titanic-survival-prediction-with-20-algorithm.ipynb', 'titanic-training-data (1).csv', 'titanic-training-data.csv', 'titanic.csv', 'titanic.db', 'Titanic_1.pbix', 'Titanic_dataset_powerbi_dashboard.pbix', 'titanic_model', 'titanic_model11', 'titanic_test.csv', 'titanic_train.csv', 'TOC - AI ML -Overview.docx', 'TOC - AI ML -Overview_updated.docx', 'TOC - Python and PySpark Training - 5 Days (1).docx', 'TOC - Python Programming - 5 Days.pdf', 'TOC- Artificial Intelligence and Machine Learning.docx', 'TOC-Data-Analytics.xlsx', 'TOC-Genai and Prompt engg.xlsx', 'TOC_Advanced GenAI (1).xlsx', 'TOC_Advanced GenAI.xlsx', 'TOC_Essentials_of_Generative_AI_Prompt_Engineering_and_ChatGPT.xlsx', 'TOC_Training_Ajay_DayWise_BreakDown .xlsx', 'Top 100 Interview questions on machine learning .pdf', 'Top 1oo sql interview questions.pdf', 'TOP 50 DATA ANALYTICS PORTFOLIO PROJECTS.pdf', 'Topic_Modelling.ipynb', 'Total-Pandas-Notes--main.zip', 'Touples___Dictionaries .ipynb', 'Track_Syn.docx', 'train', 'train-20231028T125340Z-001.zip', 'train-20231214T070716Z-001.zip', 'train-20240416T084100Z-001.zip', 'train.csv', 'train.csv (1).zip', 'train.csv.zip', 'train1.csv', 'Trainer agreement - Edstellar.pdf', 'TRAINER AGREEMENT_Latha (1) (1).docx', 'TRAINER AGREEMENT_Latha (1) (1).pdf', 'TRAINER AGREEMENT_Latha (1).pdf', 'TRAINER AGREEMENT_Latha _DS_signed.docx', 'TRAINER AGREEMENT_Latha _DS_signed.pdf', 'TRAINER AGREEMENT_Latha.docx', 'TRAINER AGREEMENT_Latha.pdf', 'TRAINER AGREEMENT_Latha_signed.docx', 'TRAINER AGREEMENT_Latha_signed.pdf', 'Trainer-INVOICE_Template.xlsx', 'Trainer-Registration-Form.xlsx', 'Trainer_invoice _August_Imarticus_2023.xlsx', 'Trainer_invoice _December_Imarticus_2023.xlsx', 'Trainer_invoice _November_Imarticus_2023.xlsx', 'Trainer_invoice _October_Imarticus_2023.xlsx', 'Trainer_invoice _September_Imarticus_2023.xlsx', 'Training Paths.xlsx', 'training_set', 'training_Word2Vec_&_visualisation(text8)_Oracle_Gensim_.ipynb', 'Transition_to_AI_Product_Management.pdf', 'TSLA.csv', 'Tuples___Dictionaries .ipynb', 'Tuple_exercise.docx', 'Tuple_exrercise_solution.ipynb', 'Twitter_Sentiment.ipynb', 'Twitter_sentiment_analysis.ipynb', 'Twitter_sentiment_analysis_Synechron.ipynb', 'Twitter_Sentiment__Siemens.ipynb', 'Two Sample Testing (3).ipynb', 'Uber Request Data.csv', 'Unit9_Topic1_ST3.mp4', 'Untitled design (1).png', 'Untitled design.png', 'Untitled Folder', 'Untitled Folder 1', 'Untitled Notebook 2024-02-05 17_16_07.ipynb', 'Untitled Notebook 2024-02-16 20_39_08.ipynb', 'Untitled Notebook 2024-03-05 16_46_50.ipynb', 'Untitled-1.py', 'Untitled.ipynb', 'untitled.txt', 'Untitled0.ipynb', 'Untitled1.ipynb', 'untitled1.txt', 'Untitled10.ipynb', 'Untitled100.ipynb', 'Untitled101.ipynb', 'Untitled102.ipynb', 'Untitled103.ipynb', 'Untitled104.ipynb', 'Untitled105.ipynb', 'Untitled106.ipynb', 'Untitled107.ipynb', 'Untitled108.ipynb', 'Untitled109.ipynb', 'Untitled11.ipynb', 'Untitled110.ipynb', 'Untitled111.ipynb', 'Untitled112.ipynb', 'Untitled113.ipynb', 'Untitled12.ipynb', 'Untitled13.ipynb', 'Untitled14.ipynb', 'Untitled15.ipynb', 'Untitled16.ipynb', 'Untitled17.ipynb', 'untitled17.py', 'Untitled18.ipynb', 'Untitled19.ipynb', 'Untitled2.ipynb', 'Untitled20.ipynb', 'Untitled21.ipynb', 'Untitled22.ipynb', 'Untitled23.ipynb', 'Untitled24.ipynb', 'Untitled25.ipynb', 'Untitled26.ipynb', 'Untitled27.ipynb', 'Untitled28.ipynb', 'Untitled29 (1).ipynb', 'Untitled29.ipynb', 'Untitled3.ipynb', 'Untitled30.ipynb', 'Untitled31.ipynb', 'Untitled32.ipynb', 'Untitled33.ipynb', 'Untitled34.ipynb', 'Untitled35.ipynb', 'Untitled36.ipynb', 'Untitled37.ipynb', 'Untitled38.ipynb', 'Untitled39.ipynb', 'Untitled4.ipynb', 'Untitled40.ipynb', 'Untitled41.ipynb', 'Untitled42.ipynb', 'Untitled43.ipynb', 'Untitled44.ipynb', 'Untitled45.ipynb', 'Untitled46.ipynb', 'Untitled47.ipynb', 'Untitled48.ipynb', 'Untitled49.ipynb', 'Untitled5.ipynb', 'Untitled50.ipynb', 'Untitled51.ipynb', 'Untitled52.ipynb', 'Untitled53.ipynb', 'Untitled54.ipynb', 'Untitled55.ipynb', 'Untitled56.ipynb', 'Untitled57.ipynb', 'Untitled58.ipynb', 'Untitled59.ipynb', 'Untitled6.ipynb', 'Untitled60.ipynb', 'Untitled61.ipynb', 'Untitled62.ipynb', 'Untitled63.ipynb', 'Untitled64.ipynb', 'Untitled65.ipynb', 'Untitled66.ipynb', 'Untitled67.ipynb', 'Untitled68.ipynb', 'Untitled69.ipynb', 'Untitled7-Copy1.ipynb', 'Untitled7.ipynb', 'Untitled70.ipynb', 'Untitled71.ipynb', 'Untitled72.ipynb', 'Untitled73.ipynb', 'Untitled74.ipynb', 'Untitled75.ipynb', 'Untitled76.ipynb', 'Untitled77.ipynb', 'Untitled78.ipynb', 'Untitled79.ipynb', 'Untitled8.ipynb', 'Untitled80.ipynb', 'Untitled81.ipynb', 'Untitled82.ipynb', 'Untitled83.ipynb', 'Untitled84.ipynb', 'Untitled85.ipynb', 'Untitled86.ipynb', 'Untitled87.ipynb', 'Untitled88.ipynb', 'Untitled89.ipynb', 'Untitled9.ipynb', 'Untitled90 (1).ipynb', 'Untitled90.ipynb', 'Untitled91.ipynb', 'Untitled92.ipynb', 'Untitled93.ipynb', 'Untitled94.ipynb', 'Untitled95.ipynb', 'Untitled96.ipynb', 'Untitled97.ipynb', 'Untitled98.ipynb', 'Untitled99.ipynb', 'USA CENSUS.txt', 'USAcensus.ipynb', 'USA_Housing.csv', 'User_Data.csv', 'V26 WhatIf.xlsx', 'Valeo-Statistical Analysis .xlsx', 'Variable.ipynb', 'Variational_autoencoders.ipynb', 'vase.jpg', 'vase2.jpg', 'vd.mp4', 'vehicle performance prediction.csv', 'Vehicle_performance.ipynb', 'venv', 'Version', 'Version 1.1.ipynb', 'VID_20190101_101038.mp4', 'VID_20190703_195210 (1).mp4', 'VID_20190703_195210.mp4', 'w4_hive_datasets-200925-190634.zip', 'WA_Fn-UseC_-HR-Employee-Attrition.csv', 'weather.csv', 'whatif-demo.pbix', 'Whatsapp chatbot', 'WhatsApp Image 2023-09-14 at 11.35.50.jpeg', 'WhatsApp Image 2023-10-31 at 09.34.34.jpeg', 'WhatsApp Image 2023-10-31 at 09.35.41.jpeg', 'WhatsApp Image 2023-10-31 at 16.52.08.jpeg', 'WhatsApp Image 2023-11-01 at 12.11.07.jpeg', 'WhatsApp Image 2023-11-01 at 15.18.07.jpeg', 'WhatsApp Image 2023-11-01 at 15.28.16.jpeg', 'WhatsApp Image 2023-11-01 at 15.45.47.jpeg', 'WhatsApp Image 2023-11-01 at 16.02.05.jpeg', 'WhatsApp Image 2023-11-01 at 16.07.53.jpeg', 'WhatsApp Image 2024-02-16 at 10.51.42.jpeg', 'WhatsApp Image 2024-02-16 at 10.51.55.jpeg', 'WhatsApp Image 2024-02-16 at 10.52.20.jpeg', 'WhatsApp Image 2024-04-12 at 11.02.03.jpeg', 'WhatsApp Image 2024-06-16 at 20.45.13.jpeg', 'WhatsApp Image 2024-06-16 at 21.03.44.jpeg', 'WhatsApp Image 2024-07-18 at 17.38.39.jpeg', 'WhatsApp Image 2024-07-22 at 08.00.58 (1).jpeg', 'WhatsApp Image 2024-07-22 at 08.00.58 (2).jpeg', 'WhatsApp Image 2024-07-22 at 08.00.58.jpeg', 'WhatsApp Image 2024-07-23 at 18.14.18.jpeg', 'WhatsApp Image 2024-08-20 at 17.40.38.jpeg', 'WhatsApp Image 2024-08-25 at 09.56.24.jpeg', 'WhatsApp Image 2024-08-25 at 09.58.14.jpeg', 'WhatsApp Image 2024-08-27 at 16.11.44.jpeg', 'WhatsApp Image 2024-09-04 at 14.43.33.jpeg', 'WhatsApp Image 2024-09-06 at 12.42.23.jpeg', 'WhatsApp Image 2024-09-06 at 12.42.59.jpeg', 'WhatsApp Image 2024-09-06 at 12.43.48.jpeg', 'WhatsApp Image 2024-09-06 at 12.45.34 (1).jpeg', 'WhatsApp Image 2024-09-06 at 12.45.34.jpeg', 'WhatsApp Image 2024-09-06 at 12.47.36.jpeg', 'WhatsApp Image 2024-09-06 at 12.56.56 (1).jpeg', 'WhatsApp Image 2024-09-06 at 12.56.56 (2).jpeg', 'WhatsApp Image 2024-09-06 at 12.56.56.jpeg', 'WhatsApp Image 2024-09-06 at 18.47.57.jpeg', 'WhatsApp Image 2024-09-09 at 15.47.37.jpeg', 'WhatsApp Image 2024-09-19 at 17.13.52.jpeg', 'WhatsApp Image 2024-11-08 at 18.47.18.jpeg', 'WhatsApp Video 2023-10-31 at 11.11.47.mp4', 'WhatsApp Video 2024-09-06 at 12.28.40.mp4', 'WhatsApp Video 2024-09-06 at 13.30.30.mp4', 'WhatsApp Video 2024-09-06 at 16.54.58.mp4', 'WhatsApp Video 2024-09-09 at 12.45.47.mp4', 'WhatsApp Video 2024-09-13 at 11.32.13.mp4', 'WHICH CHART WHEN_ YOUR GUIDE TO CHOOSING THE RIGHT VISUAL! (1).pdf', 'WHICH CHART WHEN_ YOUR GUIDE TO CHOOSING THE RIGHT VISUAL!.pdf', 'whitebelt_2days.xlsx', 'Why LLMs.pdf', 'wisc_bc_data (1).csv', 'wisc_bc_data.csv', 'Word2Vec.ipynb', 'Wordcloud_Python.ipynb', 'worksheet-oops.docx', 'Worksheet1_Rak_Batch5.ipynb', 'xAPI-Edu-Data.csv', 'yield_df.csv', '[Content_Types].xml', '_Industry 4.0_ToC.xlsx', '~$ack_Syn.docx', '~$acle_notes.docx', '~$AIML and Data Analytics.pptx', '~$Bigmarket.xlsx', '~$C - Python and PySpark Training - 5 Days (1).docx', '~$chieresume _16 Years.docx', '~$ctionary_exercise.docx', '~$Data observability in MLOps.pptx', '~$estion Paper 1.docx', '~$ltiple Choice Questions-BB.docx', '~$ltiple Choice Questions-Rakuten.docx', '~$MENS GENERATIVE AI.docx', '~$ML and Data Analytics_2days.docx', '~$nerative AI-TOC.docx', '~$ntor (3).docx', '~$ple_exercise.docx', '~$pstone Project_DS (2).docx', '~$sessment1_PowerBI.docx', '~$wer BI, Pyspark & Databricks TOC.docx', '~$X Queries Reference.docx', '~Basic Visualization__5840.twbr', '~WRL0005.tmp', '~WRL2631.tmp', '𝗖𝗼𝗺𝗽𝗹𝗲𝘁𝗲 𝗣𝘆𝘁𝗵𝗼𝗻 𝗚𝘂𝗶𝗱𝗲.pdf', '𝗣𝘆𝘁𝗵𝗼𝗻 𝗣𝗿𝗼𝗴𝗿𝗮𝗺𝗺𝗶𝗻𝗴 𝗡𝗼𝘁𝗲𝘀.pdf', '💻Machine Learning Visualization📈📉 from Basic to Advance.pdf']\n"
     ]
    }
   ],
   "source": [
    "import os\n",
    "\n",
    "# Get the list of files in the current directory\n",
    "files = os.listdir(\".\")\n",
    "print(\"Files in the current directory:\", files)\n"
   ]
  },
  {
   "cell_type": "code",
   "execution_count": 113,
   "id": "de66b297-a874-4cc7-8789-1c1bcbee8042",
   "metadata": {},
   "outputs": [
    {
     "name": "stdout",
     "output_type": "stream",
     "text": [
      "Command-line arguments: ['C:\\\\Users\\\\Premalatha\\\\anaconda3\\\\Lib\\\\site-packages\\\\ipykernel_launcher.py', '-f', 'C:\\\\Users\\\\Premalatha\\\\AppData\\\\Roaming\\\\jupyter\\\\runtime\\\\kernel-5347f5ea-628f-4d5a-ac9d-8ad2fed5407f.json']\n",
      "Python version: 3.11.7 | packaged by Anaconda, Inc. | (main, Dec 15 2023, 18:05:47) [MSC v.1916 64 bit (AMD64)]\n"
     ]
    }
   ],
   "source": [
    "import sys\n",
    "\n",
    "# Print the arguments passed to the script\n",
    "print(\"Command-line arguments:\", sys.argv)\n",
    "\n",
    "# Get the Python version\n",
    "print(\"Python version:\", sys.version)\n"
   ]
  },
  {
   "cell_type": "code",
   "execution_count": 114,
   "id": "740c8b23-a5ca-4985-81fd-eda810a4506e",
   "metadata": {},
   "outputs": [
    {
     "name": "stdout",
     "output_type": "stream",
     "text": [
      "File copied successfully!\n"
     ]
    }
   ],
   "source": [
    "import shutil\n",
    "\n",
    "# Copy a file\n",
    "shutil.copy(\"9news_headlines.txt\", \"destination.txt\")\n",
    "print(\"File copied successfully!\")\n"
   ]
  },
  {
   "cell_type": "code",
   "execution_count": 115,
   "id": "5be47033-6f4c-42ba-a5ce-72d8aedabbd9",
   "metadata": {},
   "outputs": [
    {
     "name": "stdout",
     "output_type": "stream",
     "text": [
      "CPU Usage: 6.4 %\n",
      "Available Memory: 15356 MB\n",
      "CPU Usage: 1.0 %\n",
      "Available Memory: 15354 MB\n"
     ]
    }
   ],
   "source": [
    "import psutil\n",
    "\n",
    "# Gimport psutil\n",
    "\n",
    "# Get CPU usage percentage\n",
    "cpu_usage = psutil.cpu_percent(interval=1)\n",
    "print(\"CPU Usage:\", cpu_usage, \"%\")\n",
    "\n",
    "# Get memory usage\n",
    "memory = psutil.virtual_memory()\n",
    "print(\"Available Memory:\", memory.available // (1024 ** 2), \"MB\")\n",
    "cpu_usage = psutil.cpu_percent(interval=1)\n",
    "print(\"CPU Usage:\", cpu_usage, \"%\")\n",
    "\n",
    "# Get memory usage\n",
    "memory = psutil.virtual_memory()\n",
    "print(\"Available Memory:\", memory.available // (1024 ** 2), \"MB\")\n"
   ]
  },
  {
   "cell_type": "code",
   "execution_count": 116,
   "id": "a1e3d604-0228-4c45-a70f-7665bc04ff3b",
   "metadata": {},
   "outputs": [
    {
     "name": "stdout",
     "output_type": "stream",
     "text": [
      "Deque after operations: deque([1, 2, 3])\n"
     ]
    }
   ],
   "source": [
    "from collections import deque\n",
    "\n",
    "# Initialize a deque\n",
    "dq = deque([1, 2, 3])\n",
    "\n",
    "# Add elements to both ends\n",
    "dq.append(4)        # Add to the right\n",
    "dq.appendleft(0)    # Add to the left\n",
    "\n",
    "# Remove elements from both ends\n",
    "dq.pop()            # Remove from the right\n",
    "dq.popleft()        # Remove from the left\n",
    "\n",
    "print(\"Deque after operations:\", dq)\n"
   ]
  },
  {
   "cell_type": "code",
   "execution_count": 117,
   "id": "f3917092-c8d7-44a5-83f3-5a8128dedebc",
   "metadata": {},
   "outputs": [
    {
     "name": "stdout",
     "output_type": "stream",
     "text": [
      "Count of 'a': 3\n",
      "All counts: Counter({'a': 3, 'b': 2, 'c': 1})\n",
      "Most common elements: [('a', 3), ('b', 2)]\n"
     ]
    }
   ],
   "source": [
    "from collections import Counter\n",
    "\n",
    "# Count elements in a list\n",
    "data = ['a', 'b', 'a', 'c', 'b', 'a']\n",
    "counter = Counter(data)\n",
    "\n",
    "# Access counts\n",
    "print(\"Count of 'a':\", counter['a'])\n",
    "print(\"All counts:\", counter)\n",
    "\n",
    "# Most common elements\n",
    "print(\"Most common elements:\", counter.most_common(2))\n"
   ]
  },
  {
   "cell_type": "code",
   "execution_count": 118,
   "id": "42782aa1-4fdc-41ba-86e6-142d5c99302f",
   "metadata": {},
   "outputs": [
    {
     "name": "stdout",
     "output_type": "stream",
     "text": [
      "a: 1\n",
      "b: 2\n",
      "c: 3\n"
     ]
    }
   ],
   "source": [
    "from collections import OrderedDict\n",
    "\n",
    "# Create an ordered dictionary\n",
    "ordered_dict = OrderedDict()\n",
    "ordered_dict['a'] = 1\n",
    "ordered_dict['b'] = 2\n",
    "ordered_dict['c'] = 3\n",
    "\n",
    "# Iterate and maintain order\n",
    "for key, value in ordered_dict.items():\n",
    "    print(f\"{key}: {value}\")\n"
   ]
  },
  {
   "cell_type": "code",
   "execution_count": 119,
   "id": "a9ce9d72-8404-4048-af47-2d22449208f6",
   "metadata": {},
   "outputs": [
    {
     "name": "stdout",
     "output_type": "stream",
     "text": [
      "Value of 'a': 1\n",
      "Value of 'b': 2\n",
      "Value of 'd': 5\n"
     ]
    }
   ],
   "source": [
    "from collections import ChainMap\n",
    "\n",
    "# Define two dictionaries\n",
    "dict1 = {'a': 1, 'b': 2}\n",
    "dict2 = {'b': 3, 'c': 4}\n",
    "\n",
    "# Combine using ChainMap\n",
    "chain = ChainMap(dict1, dict2)\n",
    "\n",
    "# Access elements\n",
    "print(\"Value of 'a':\", chain['a'])  # Comes from dict1\n",
    "print(\"Value of 'b':\", chain['b'])  # Comes from dict1 (first match)\n",
    "\n",
    "# Add a new dictionary to the chain\n",
    "dict3 = {'d': 5}\n",
    "chain = chain.new_child(dict3)\n",
    "print(\"Value of 'd':\", chain['d'])\n"
   ]
  },
  {
   "cell_type": "code",
   "execution_count": 120,
   "id": "c0e5d16d-8414-42ca-a126-c8c2fc92f0ec",
   "metadata": {},
   "outputs": [],
   "source": [
    "tasks = deque([\"Task1\", \"Task2\", \"Task3\"])\n",
    "tasks.append(\"Task4\")     # Add a new task\n",
    "current_task = tasks.popleft()  # Process the oldest task\n"
   ]
  },
  {
   "cell_type": "code",
   "execution_count": 121,
   "id": "1d68f914-cb4e-4012-8c99-e903128040cd",
   "metadata": {},
   "outputs": [
    {
     "data": {
      "text/plain": [
       "'Task1'"
      ]
     },
     "execution_count": 121,
     "metadata": {},
     "output_type": "execute_result"
    }
   ],
   "source": [
    "current_task"
   ]
  },
  {
   "cell_type": "code",
   "execution_count": 122,
   "id": "2d75ad50-632b-4b71-b0bf-e0df8c451ba4",
   "metadata": {},
   "outputs": [
    {
     "data": {
      "text/plain": [
       "deque(['Task2', 'Task3', 'Task4'])"
      ]
     },
     "execution_count": 122,
     "metadata": {},
     "output_type": "execute_result"
    }
   ],
   "source": [
    "tasks"
   ]
  },
  {
   "cell_type": "code",
   "execution_count": 123,
   "id": "123e5815-097a-40ec-b3f6-456adabfe1a3",
   "metadata": {},
   "outputs": [
    {
     "name": "stdout",
     "output_type": "stream",
     "text": [
      "[('apple', 3), ('banana', 2)]\n"
     ]
    }
   ],
   "source": [
    "text = \"apple banana apple orange banana apple\"\n",
    "word_count = Counter(text.split())\n",
    "print(word_count.most_common(2))  # Find the two most common words\n"
   ]
  },
  {
   "cell_type": "code",
   "execution_count": 124,
   "id": "f8d5ef38-0bd8-4624-bab2-dfbdc750645e",
   "metadata": {},
   "outputs": [
    {
     "data": {
      "text/plain": [
       "('b', 2)"
      ]
     },
     "execution_count": 124,
     "metadata": {},
     "output_type": "execute_result"
    }
   ],
   "source": [
    "cache = OrderedDict()\n",
    "cache['a'] = 1\n",
    "cache['b'] = 2\n",
    "\n",
    "# Accessing an item moves it to the end (simulating usage)\n",
    "cache.move_to_end('a')\n",
    "\n",
    "# Remove the least recently used item\n",
    "cache.popitem(last=False)\n"
   ]
  },
  {
   "cell_type": "code",
   "execution_count": 125,
   "id": "b3bc58b0-c636-4a45-8b6e-d22f6e0eab51",
   "metadata": {},
   "outputs": [
    {
     "name": "stdout",
     "output_type": "stream",
     "text": [
      "light\n",
      "fr\n"
     ]
    }
   ],
   "source": [
    "defaults = {'theme': 'light', 'language': 'en'}\n",
    "user_settings = {'language': 'fr'}\n",
    "config = ChainMap(user_settings, defaults)\n",
    "\n",
    "print(config['theme'])    # From defaults\n",
    "print(config['language']) # From user_settings (overrides defaults)\n"
   ]
  },
  {
   "attachments": {
    "1b57e5ac-1585-493f-88e5-aea91ed23159.png": {
     "image/png": "[encoded data removed]"
    }
   },
   "cell_type": "markdown",
   "id": "11b79254-3ed2-4af9-a969-87d2f202bda2",
   "metadata": {},
   "source": [
    "![image.png](attachment:1b57e5ac-1585-493f-88e5-aea91ed23159.png)"
   ]
  },
  {
   "cell_type": "code",
   "execution_count": 126,
   "id": "300a2d16-cfc6-42aa-8779-a8cd29d6de5f",
   "metadata": {},
   "outputs": [
    {
     "name": "stdout",
     "output_type": "stream",
     "text": [
      "10\n",
      "12\n",
      "14\n",
      "16\n",
      "18\n",
      "A\n",
      "B\n",
      "C\n",
      "A\n",
      "B\n",
      "C\n"
     ]
    }
   ],
   "source": [
    "import itertools\n",
    "\n",
    "# Count: Generate an infinite sequence of numbers\n",
    "counter = itertools.count(start=10, step=2)  # Start at 10, step by 2\n",
    "for i in itertools.islice(counter, 5):  # Get the first 5 numbers\n",
    "    print(i)\n",
    "\n",
    "# Cycle: Repeats the sequence indefinitely\n",
    "cyclic = itertools.cycle(['A', 'B', 'C'])\n",
    "for i in itertools.islice(cyclic, 6):  # Get the first 6 elements\n",
    "    print(i)\n"
   ]
  },
  {
   "cell_type": "code",
   "execution_count": 127,
   "id": "37ba6bde-8cf8-4a15-bd9d-d40e01aaefb2",
   "metadata": {},
   "outputs": [
    {
     "name": "stdout",
     "output_type": "stream",
     "text": [
      "0\n",
      "1\n",
      "4\n",
      "9\n",
      "16\n"
     ]
    }
   ],
   "source": [
    "# Generator to produce squares of numbers\n",
    "def square_numbers(n):\n",
    "    for i in range(n):\n",
    "        yield i * i\n",
    "\n",
    "# Using the generator\n",
    "for num in square_numbers(5):\n",
    "    print(num)\n"
   ]
  },
  {
   "cell_type": "code",
   "execution_count": 128,
   "id": "3b90db96-bcba-4f05-be85-9b16639adbdc",
   "metadata": {},
   "outputs": [
    {
     "name": "stdout",
     "output_type": "stream",
     "text": [
      "Function slow_function took 2.0010 seconds to execute\n"
     ]
    }
   ],
   "source": [
    "import time\n",
    "\n",
    "# Decorator function to measure execution time\n",
    "def timer(func):\n",
    "    def wrapper(*args, **kwargs):\n",
    "        start_time = time.time()\n",
    "        result = func(*args, **kwargs)\n",
    "        end_time = time.time()\n",
    "        print(f\"Function {func.__name__} took {end_time - start_time:.4f} seconds to execute\")\n",
    "        return result\n",
    "    return wrapper\n",
    "\n",
    "# Applying the decorator to a function\n",
    "@timer\n",
    "def slow_function():\n",
    "    time.sleep(2)  # Simulate a slow function\n",
    "\n",
    "slow_function()\n"
   ]
  },
  {
   "attachments": {
    "d439422a-e1da-48d9-8b7b-53434491c062.png": {
     "image/png": "[encoded data removed]"
    }
   },
   "cell_type": "markdown",
   "id": "5f2bdf45-c19e-4f8f-87b0-5dc2f79cfbe2",
   "metadata": {},
   "source": [
    "![image.png](attachment:d439422a-e1da-48d9-8b7b-53434491c062.png)"
   ]
  },
  {
   "cell_type": "code",
   "execution_count": 129,
   "id": "4a7a29ca-9379-4ff9-aa10-39fbff46405a",
   "metadata": {},
   "outputs": [
    {
     "name": "stdout",
     "output_type": "stream",
     "text": [
      "[('A', 'B', 'C'), ('A', 'C', 'B'), ('B', 'A', 'C'), ('B', 'C', 'A'), ('C', 'A', 'B'), ('C', 'B', 'A')]\n"
     ]
    }
   ],
   "source": [
    "import itertools\n",
    "cities = ['A', 'B', 'C']\n",
    "routes = list(itertools.permutations(cities))\n",
    "print(routes)\n"
   ]
  },
  {
   "cell_type": "code",
   "execution_count": null,
   "id": "5b78edb2-17d6-47dc-8e6e-68bdb4e4dbf0",
   "metadata": {},
   "outputs": [],
   "source": []
  }
 ],
 "metadata": {
  "kernelspec": {
   "display_name": "Python 3 (ipykernel)",
   "language": "python",
   "name": "python3"
  },
  "language_info": {
   "codemirror_mode": {
    "name": "ipython",
    "version": 3
   },
   "file_extension": ".py",
   "mimetype": "text/x-python",
   "name": "python",
   "nbconvert_exporter": "python",
   "pygments_lexer": "ipython3",
   "version": "3.11.7"
  }
 },
 "nbformat": 4,
 "nbformat_minor": 5
}
