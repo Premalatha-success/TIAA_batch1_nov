{
 "cells": [
  {
   "cell_type": "code",
   "execution_count": 2,
   "id": "e65757d8-3089-45ad-bd57-9b65049bf59a",
   "metadata": {},
   "outputs": [],
   "source": [
    "# Writing binary data\n",
    "data = b\"Hello, Binary World!\"\n",
    "with open(\"binary_file.bin\", \"wb\") as binary_file:\n",
    "    binary_file.write(data)"
   ]
  },
  {
   "cell_type": "code",
   "execution_count": 3,
   "id": "7dc9e499-1b48-4bd9-a200-b6485ac66ad1",
   "metadata": {},
   "outputs": [
    {
     "name": "stdout",
     "output_type": "stream",
     "text": [
      "b'Hello, Binary World!'\n"
     ]
    }
   ],
   "source": [
    "# Reading binary data\n",
    "with open(\"binary_file.bin\", \"rb\") as binary_file:\n",
    "    read_data = binary_file.read()\n",
    "    print(read_data) \n"
   ]
  },
  {
   "cell_type": "code",
   "execution_count": 4,
   "id": "22d746ac-21a2-4f53-a72f-1b78a8efe367",
   "metadata": {},
   "outputs": [],
   "source": [
    "# Writing to a text file\n",
    "with open(\"example.txt\", \"w\") as text_file:\n",
    "    text_file.write(\"Line 1\\nLine 2\\nLine 3\")\n"
   ]
  },
  {
   "cell_type": "code",
   "execution_count": 5,
   "id": "d5c50d0d-5181-4819-ab24-f1b919c5b506",
   "metadata": {},
   "outputs": [
    {
     "name": "stdout",
     "output_type": "stream",
     "text": [
      "Line 1\n",
      "Line 2\n",
      "Line 3\n"
     ]
    }
   ],
   "source": [
    "# Writing to a text file\n",
    "with open(\"example.txt\", \"w\") as text_file:\n",
    "    text_file.write(\"Line 1\\nLine 2\\nLine 3\")\n",
    "\n",
    "# Reading from a text file\n",
    "with open(\"example.txt\", \"r\") as text_file:\n",
    "    for line in text_file:\n",
    "        print(line.strip()) \n"
   ]
  },
  {
   "cell_type": "code",
   "execution_count": 6,
   "id": "56f74939-f11c-4fea-85d1-71668cbf2ef4",
   "metadata": {},
   "outputs": [
    {
     "name": "stdout",
     "output_type": "stream",
     "text": [
      "['john.doe@example.com', 'jane.smith@example.org']\n"
     ]
    }
   ],
   "source": [
    "import re\n",
    "\n",
    "text = \"\"\"\n",
    "Hello John, contact me at john.doe@example.com.\n",
    "You can also reach Jane at jane.smith@example.org.\n",
    "\"\"\"\n",
    "\n",
    "# Regular expression to find email addresses\n",
    "email_pattern = r\"[a-zA-Z0-9._%+-]+@[a-zA-Z0-9.-]+\\.[a-zA-Z]{2,}\"\n",
    "emails = re.findall(email_pattern, text)\n",
    "\n",
    "print(emails)  # Output: ['john.doe@example.com', 'jane.smith@example.org']\n"
   ]
  },
  {
   "cell_type": "code",
   "execution_count": 7,
   "id": "5a3125f8-6f65-4a45-9f5f-5b5f06b15e6d",
   "metadata": {},
   "outputs": [
    {
     "name": "stdout",
     "output_type": "stream",
     "text": [
      "The Great Gatsby\n",
      "1984\n"
     ]
    }
   ],
   "source": [
    "import xml.etree.ElementTree as ET\n",
    "\n",
    "# Writing XML\n",
    "root = ET.Element(\"library\")\n",
    "book1 = ET.SubElement(root, \"book\", attrib={\"id\": \"1\"})\n",
    "book1_title = ET.SubElement(book1, \"title\")\n",
    "book1_title.text = \"The Great Gatsby\"\n",
    "\n",
    "book2 = ET.SubElement(root, \"book\", attrib={\"id\": \"2\"})\n",
    "book2_title = ET.SubElement(book2, \"title\")\n",
    "book2_title.text = \"1984\"\n",
    "\n",
    "tree = ET.ElementTree(root)\n",
    "tree.write(\"library.xml\")\n",
    "\n",
    "# Reading and Parsing XML\n",
    "tree = ET.parse(\"library.xml\")\n",
    "root = tree.getroot()\n",
    "\n",
    "for book in root.findall(\"book\"):\n",
    "    title = book.find(\"title\").text\n",
    "    print(title)  # Output: The Great Gatsby, 1984\n"
   ]
  },
  {
   "cell_type": "code",
   "execution_count": 8,
   "id": "c52134f4-0dbf-4da5-935e-2a076468b0cf",
   "metadata": {},
   "outputs": [
    {
     "name": "stdout",
     "output_type": "stream",
     "text": [
      "Parsed JSON data: {'library': {'books': [{'title': 'The Great Gatsby', 'author': 'F. Scott Fitzgerald'}, {'title': '1984', 'author': 'George Orwell'}]}}\n",
      "Title: The Great Gatsby, Author: F. Scott Fitzgerald\n",
      "Title: 1984, Author: George Orwell\n"
     ]
    }
   ],
   "source": [
    "import json\n",
    "\n",
    "# Writing JSON data\n",
    "data = {\n",
    "    \"library\": {\n",
    "        \"books\": [\n",
    "            {\"title\": \"The Great Gatsby\", \"author\": \"F. Scott Fitzgerald\"},\n",
    "            {\"title\": \"1984\", \"author\": \"George Orwell\"}\n",
    "        ]\n",
    "    }\n",
    "}\n",
    "\n",
    "# Save to a JSON file\n",
    "with open(\"library.json\", \"w\") as json_file:\n",
    "    json.dump(data, json_file, indent=4)\n",
    "\n",
    "# Reading JSON data\n",
    "with open(\"library.json\", \"r\") as json_file:\n",
    "    parsed_data = json.load(json_file)\n",
    "    print(\"Parsed JSON data:\", parsed_data)\n",
    "\n",
    "# Accessing specific values\n",
    "for book in parsed_data[\"library\"][\"books\"]:\n",
    "    print(f\"Title: {book['title']}, Author: {book['author']}\")\n"
   ]
  },
  {
   "cell_type": "code",
   "execution_count": 9,
   "id": "3483db3c-4c65-494c-a044-2ebfe3e8a9d3",
   "metadata": {},
   "outputs": [
    {
     "name": "stdout",
     "output_type": "stream",
     "text": [
      "Title: The Great Gatsby, Author: F. Scott Fitzgerald\n",
      "Title: 1984, Author: George Orwell\n"
     ]
    }
   ],
   "source": [
    "import xml.etree.ElementTree as ET\n",
    "\n",
    "# Writing XML using ElementTree\n",
    "root = ET.Element(\"library\")\n",
    "book1 = ET.SubElement(root, \"book\", attrib={\"id\": \"1\"})\n",
    "ET.SubElement(book1, \"title\").text = \"The Great Gatsby\"\n",
    "ET.SubElement(book1, \"author\").text = \"F. Scott Fitzgerald\"\n",
    "\n",
    "book2 = ET.SubElement(root, \"book\", attrib={\"id\": \"2\"})\n",
    "ET.SubElement(book2, \"title\").text = \"1984\"\n",
    "ET.SubElement(book2, \"author\").text = \"George Orwell\"\n",
    "\n",
    "tree = ET.ElementTree(root)\n",
    "tree.write(\"library.xml\")\n",
    "\n",
    "# Reading and parsing XML\n",
    "tree = ET.parse(\"library.xml\")\n",
    "root = tree.getroot()\n",
    "\n",
    "for book in root.findall(\"book\"):\n",
    "    title = book.find(\"title\").text\n",
    "    author = book.find(\"author\").text\n",
    "    print(f\"Title: {title}, Author: {author}\")\n"
   ]
  },
  {
   "cell_type": "code",
   "execution_count": 11,
   "id": "7ee1536e-72fd-4a85-97af-9c7d26516159",
   "metadata": {},
   "outputs": [
    {
     "name": "stdout",
     "output_type": "stream",
     "text": [
      "Title: The Great Gatsby, Author: F. Scott Fitzgerald\n",
      "Title: 1984, Author: George Orwell\n"
     ]
    }
   ],
   "source": [
    "from xml.dom.minidom import parse, Document\n",
    "\n",
    "# Writing XML using DOM\n",
    "doc = Document()\n",
    "\n",
    "# Root element\n",
    "library = doc.createElement(\"library\")\n",
    "doc.appendChild(library)\n",
    "\n",
    "# First book\n",
    "book1 = doc.createElement(\"book\")\n",
    "book1.setAttribute(\"id\", \"1\")\n",
    "library.appendChild(book1)\n",
    "\n",
    "title1 = doc.createElement(\"title\")\n",
    "title1.appendChild(doc.createTextNode(\"The Great Gatsby\"))\n",
    "book1.appendChild(title1)\n",
    "\n",
    "author1 = doc.createElement(\"author\")\n",
    "author1.appendChild(doc.createTextNode(\"F. Scott Fitzgerald\"))\n",
    "book1.appendChild(author1)\n",
    "\n",
    "# Second book\n",
    "book2 = doc.createElement(\"book\")\n",
    "book2.setAttribute(\"id\", \"2\")\n",
    "library.appendChild(book2)\n",
    "\n",
    "title2 = doc.createElement(\"title\")\n",
    "title2.appendChild(doc.createTextNode(\"1984\"))\n",
    "book2.appendChild(title2)\n",
    "\n",
    "author2 = doc.createElement(\"author\")\n",
    "author2.appendChild(doc.createTextNode(\"George Orwell\"))\n",
    "book2.appendChild(author2)\n",
    "\n",
    "# Save XML to file\n",
    "with open(\"library_dom.xml\", \"w\") as xml_file:\n",
    "    xml_file.write(doc.toprettyxml(indent=\"  \"))\n",
    "\n",
    "# Reading XML using DOM\n",
    "dom_tree = parse(\"library_dom.xml\")\n",
    "library = dom_tree.documentElement\n",
    "\n",
    "books = library.getElementsByTagName(\"book\")\n",
    "for book in books:\n",
    "    title = book.getElementsByTagName(\"title\")[0].childNodes[0].data\n",
    "    author = book.getElementsByTagName(\"author\")[0].childNodes[0].data\n",
    "    print(f\"Title: {title}, Author: {author}\")\n"
   ]
  },
  {
   "cell_type": "code",
   "execution_count": null,
   "id": "2590c594-00b0-4999-8fbe-820b5d6cd65a",
   "metadata": {},
   "outputs": [],
   "source": []
  }
 ],
 "metadata": {
  "kernelspec": {
   "display_name": "Python 3 (ipykernel)",
   "language": "python",
   "name": "python3"
  },
  "language_info": {
   "codemirror_mode": {
    "name": "ipython",
    "version": 3
   },
   "file_extension": ".py",
   "mimetype": "text/x-python",
   "name": "python",
   "nbconvert_exporter": "python",
   "pygments_lexer": "ipython3",
   "version": "3.11.7"
  }
 },
 "nbformat": 4,
 "nbformat_minor": 5
}
