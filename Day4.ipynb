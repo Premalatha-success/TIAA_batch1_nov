{
 "cells": [
  {
   "cell_type": "code",
   "execution_count": 2,
   "id": "7920e33b-8087-4dff-9117-668464e030d2",
   "metadata": {},
   "outputs": [
    {
     "name": "stdout",
     "output_type": "stream",
     "text": [
      "Deque after operations: deque([1, 2, 3])\n"
     ]
    }
   ],
   "source": [
    "from collections import deque\n",
    "\n",
    "# Initialize a deque\n",
    "dq = deque([1, 2, 3])\n",
    "\n",
    "# Add elements to both ends\n",
    "dq.append(4)        # Add to the right\n",
    "dq.appendleft(0)    # Add to the left\n",
    "\n",
    "# Remove elements from both ends\n",
    "dq.pop()            # Remove from the right\n",
    "dq.popleft()        # Remove from the left\n",
    "\n",
    "print(\"Deque after operations:\", dq)\n"
   ]
  },
  {
   "cell_type": "code",
   "execution_count": 3,
   "id": "f2fb0769-78cd-4509-8a82-8f2e178bc33d",
   "metadata": {},
   "outputs": [
    {
     "name": "stdout",
     "output_type": "stream",
     "text": [
      "Count of 'a': 3\n",
      "All counts: Counter({'a': 3, 'b': 2, 'c': 1})\n",
      "Most common elements: [('a', 3), ('b', 2)]\n"
     ]
    }
   ],
   "source": [
    "from collections import Counter\n",
    "\n",
    "# Count elements in a list\n",
    "data = ['a', 'b', 'a', 'c', 'b', 'a']\n",
    "counter = Counter(data)\n",
    "\n",
    "# Access counts\n",
    "print(\"Count of 'a':\", counter['a'])\n",
    "print(\"All counts:\", counter)\n",
    "\n",
    "# Most common elements\n",
    "print(\"Most common elements:\", counter.most_common(2))\n"
   ]
  },
  {
   "cell_type": "code",
   "execution_count": 4,
   "id": "20e57297-26ec-4b13-bc18-6172c5c67930",
   "metadata": {},
   "outputs": [
    {
     "name": "stdout",
     "output_type": "stream",
     "text": [
      "a: 1\n",
      "b: 2\n",
      "c: 3\n"
     ]
    }
   ],
   "source": [
    "from collections import OrderedDict\n",
    "\n",
    "# Create an ordered dictionary\n",
    "ordered_dict = OrderedDict()\n",
    "ordered_dict['a'] = 1\n",
    "ordered_dict['b'] = 2\n",
    "ordered_dict['c'] = 3\n",
    "\n",
    "# Iterate and maintain order\n",
    "for key, value in ordered_dict.items():\n",
    "    print(f\"{key}: {value}\")\n"
   ]
  },
  {
   "cell_type": "code",
   "execution_count": 5,
   "id": "5c356d6f-d2e0-4ed9-8610-19c19d27ff55",
   "metadata": {},
   "outputs": [
    {
     "name": "stdout",
     "output_type": "stream",
     "text": [
      "Value of 'a': 1\n",
      "Value of 'b': 2\n",
      "Value of 'd': 5\n"
     ]
    }
   ],
   "source": [
    "from collections import ChainMap\n",
    "\n",
    "# Define two dictionaries\n",
    "dict1 = {'a': 1, 'b': 2}\n",
    "dict2 = {'b': 3, 'c': 4}\n",
    "\n",
    "# Combine using ChainMap\n",
    "chain = ChainMap(dict1, dict2)\n",
    "\n",
    "# Access elements\n",
    "print(\"Value of 'a':\", chain['a'])  # Comes from dict1\n",
    "print(\"Value of 'b':\", chain['b'])  # Comes from dict1 (first match)\n",
    "\n",
    "# Add a new dictionary to the chain\n",
    "dict3 = {'d': 5}\n",
    "chain = chain.new_child(dict3)\n",
    "print(\"Value of 'd':\", chain['d'])\n"
   ]
  },
  {
   "cell_type": "code",
   "execution_count": 6,
   "id": "dd259a64-ee45-4646-8cec-7a81ef8c5b49",
   "metadata": {},
   "outputs": [
    {
     "name": "stdout",
     "output_type": "stream",
     "text": [
      "10\n",
      "12\n",
      "14\n",
      "16\n",
      "18\n",
      "A\n",
      "B\n",
      "C\n",
      "A\n",
      "B\n",
      "C\n"
     ]
    }
   ],
   "source": [
    "import itertools\n",
    "\n",
    "# Count: Generate an infinite sequence of numbers\n",
    "counter = itertools.count(start=10, step=2)  # Start at 10, step by 2\n",
    "for i in itertools.islice(counter, 5):  # Get the first 5 numbers\n",
    "    print(i)\n",
    "\n",
    "# Cycle: Repeats the sequence indefinitely\n",
    "cyclic = itertools.cycle(['A', 'B', 'C'])\n",
    "for i in itertools.islice(cyclic, 6):  # Get the first 6 elements\n",
    "    print(i)\n"
   ]
  },
  {
   "cell_type": "code",
   "execution_count": 7,
   "id": "d6cb0ff4-e909-4cae-8ccf-5d5d52c071d1",
   "metadata": {},
   "outputs": [
    {
     "name": "stdout",
     "output_type": "stream",
     "text": [
      "0\n",
      "1\n",
      "4\n",
      "9\n",
      "16\n"
     ]
    }
   ],
   "source": [
    "# Generator to produce squares of numbers\n",
    "def square_numbers(n):\n",
    "    for i in range(n):\n",
    "        yield i * i\n",
    "\n",
    "# Using the generator\n",
    "for num in square_numbers(5):\n",
    "    print(num)\n"
   ]
  },
  {
   "cell_type": "code",
   "execution_count": 8,
   "id": "0af55d58-13f3-465c-a71a-bdc488141fb5",
   "metadata": {},
   "outputs": [
    {
     "name": "stdout",
     "output_type": "stream",
     "text": [
      "Function slow_function took 2.0006 seconds to execute\n"
     ]
    }
   ],
   "source": [
    "import time\n",
    "\n",
    "# Decorator function to measure execution time\n",
    "def timer(func):\n",
    "    def wrapper(*args, **kwargs):\n",
    "        start_time = time.time()\n",
    "        result = func(*args, **kwargs)\n",
    "        end_time = time.time()\n",
    "        print(f\"Function {func.__name__} took {end_time - start_time:.4f} seconds to execute\")\n",
    "        return result\n",
    "    return wrapper\n",
    "\n",
    "# Applying the decorator to a function\n",
    "@timer\n",
    "def slow_function():\n",
    "    time.sleep(2)  # Simulate a slow function\n",
    "\n",
    "slow_function()\n"
   ]
  },
  {
   "cell_type": "code",
   "execution_count": 1,
   "id": "44943e5b-c9fb-4ea1-9d44-f96c14dc0ec6",
   "metadata": {},
   "outputs": [
    {
     "name": "stdout",
     "output_type": "stream",
     "text": [
      "Successfully fetched the page!\n",
      "1. “The world as we have created it is a process of our thinking. It cannot be changed without changing our thinking.”\n",
      "2. “It is our choices, Harry, that show what we truly are, far more than our abilities.”\n",
      "3. “There are only two ways to live your life. One is as though nothing is a miracle. The other is as though everything is a miracle.”\n",
      "4. “The person, be it gentleman or lady, who has not pleasure in a good novel, must be intolerably stupid.”\n",
      "5. “Imperfection is beauty, madness is genius and it's better to be absolutely ridiculous than absolutely boring.”\n",
      "6. “Try not to become a man of success. Rather become a man of value.”\n",
      "7. “It is better to be hated for what you are than to be loved for what you are not.”\n",
      "8. “I have not failed. I've just found 10,000 ways that won't work.”\n",
      "9. “A woman is like a tea bag; you never know how strong it is until it's in hot water.”\n",
      "10. “A day without sunshine is like, you know, night.”\n"
     ]
    }
   ],
   "source": [
    "import requests\n",
    "from bs4 import BeautifulSoup\n",
    "\n",
    "# URL of the website to scrape\n",
    "url = 'https://quotes.toscrape.com/'\n",
    "\n",
    "# Send a GET request to the website\n",
    "response = requests.get(url)\n",
    "# Parse the HTML content of the page\n",
    "soup = BeautifulSoup(response.text, 'html.parser')\n",
    "\n",
    "# Extract all quotes (text inside the 'span' with class 'text')\n",
    "quotes = soup.find_all('span', class_='text')\n",
    "\n",
    "# Loop through and print each quote\n",
    "for idx, quote in enumerate(quotes, 1):\n",
    "    print(f\"{idx}. {quote.text}\")\n"
   ]
  },
  {
   "cell_type": "code",
   "execution_count": 3,
   "id": "09d52587-e2a8-46a9-a0bb-3d45588201cc",
   "metadata": {},
   "outputs": [],
   "source": [
    "with open(\"quotes.txt\", \"w\") as file:\n",
    "    for quote in quotes:\n",
    "        file.write(quote.text + \"\\n\")\n"
   ]
  },
  {
   "cell_type": "code",
   "execution_count": null,
   "id": "093536a2-5f06-467a-90c4-d90ca5d8582a",
   "metadata": {},
   "outputs": [],
   "source": []
  }
 ],
 "metadata": {
  "kernelspec": {
   "display_name": "Python 3 (ipykernel)",
   "language": "python",
   "name": "python3"
  },
  "language_info": {
   "codemirror_mode": {
    "name": "ipython",
    "version": 3
   },
   "file_extension": ".py",
   "mimetype": "text/x-python",
   "name": "python",
   "nbconvert_exporter": "python",
   "pygments_lexer": "ipython3",
   "version": "3.11.7"
  }
 },
 "nbformat": 4,
 "nbformat_minor": 5
}
