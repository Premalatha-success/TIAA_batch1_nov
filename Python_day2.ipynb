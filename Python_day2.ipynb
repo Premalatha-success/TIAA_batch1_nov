{
 "cells": [
  {
   "cell_type": "markdown",
   "id": "31dd24d5-a9a2-47f3-ab83-057a633e03b8",
   "metadata": {},
   "source": [
    "### Strings"
   ]
  },
  {
   "cell_type": "code",
   "execution_count": 1,
   "id": "ec235ac7-0205-45bc-93b9-a49c9add16d0",
   "metadata": {},
   "outputs": [
    {
     "data": {
      "text/plain": [
       "'Hello Python'"
      ]
     },
     "execution_count": 1,
     "metadata": {},
     "output_type": "execute_result"
    }
   ],
   "source": [
    "str1=\"Hello Python\"\n",
    "str1"
   ]
  },
  {
   "cell_type": "code",
   "execution_count": 2,
   "id": "cea2d05a-e0e6-40a5-8cda-b0d49c87653e",
   "metadata": {},
   "outputs": [
    {
     "data": {
      "text/plain": [
       "'o'"
      ]
     },
     "execution_count": 2,
     "metadata": {},
     "output_type": "execute_result"
    }
   ],
   "source": [
    "str1[4]"
   ]
  },
  {
   "cell_type": "code",
   "execution_count": 3,
   "id": "1fa588ad-c4ad-4d62-91e5-22a3ccbf3a3f",
   "metadata": {},
   "outputs": [
    {
     "data": {
      "text/plain": [
       "'o Python'"
      ]
     },
     "execution_count": 3,
     "metadata": {},
     "output_type": "execute_result"
    }
   ],
   "source": [
    "str1[4:]"
   ]
  },
  {
   "cell_type": "code",
   "execution_count": 4,
   "id": "ffba7db4-b6e2-4b87-9108-f0e870d61431",
   "metadata": {},
   "outputs": [
    {
     "data": {
      "text/plain": [
       "'Hell'"
      ]
     },
     "execution_count": 4,
     "metadata": {},
     "output_type": "execute_result"
    }
   ],
   "source": [
    "str1[:4]"
   ]
  },
  {
   "cell_type": "code",
   "execution_count": 5,
   "id": "06486e94-5be2-4d5a-84fa-0e007143de36",
   "metadata": {},
   "outputs": [
    {
     "name": "stdout",
     "output_type": "stream",
     "text": [
      "H\n",
      "e\n",
      "l\n",
      "l\n",
      "o\n",
      " \n",
      "P\n",
      "y\n",
      "t\n",
      "h\n",
      "o\n",
      "n\n"
     ]
    }
   ],
   "source": [
    "for i in str1:\n",
    "    print(i)"
   ]
  },
  {
   "cell_type": "code",
   "execution_count": 6,
   "id": "4a726d94-e047-4b11-9dff-8a8d5dd06fda",
   "metadata": {},
   "outputs": [
    {
     "data": {
      "text/plain": [
       "'Hello Pyspark'"
      ]
     },
     "execution_count": 6,
     "metadata": {},
     "output_type": "execute_result"
    }
   ],
   "source": [
    "str1.replace(\"Python\",\"Pyspark\")"
   ]
  },
  {
   "cell_type": "code",
   "execution_count": 8,
   "id": "151a78a1-cf3d-4af2-8d97-93655a69dc74",
   "metadata": {},
   "outputs": [
    {
     "data": {
      "text/plain": [
       "'Hello Python'"
      ]
     },
     "execution_count": 8,
     "metadata": {},
     "output_type": "execute_result"
    }
   ],
   "source": [
    "str1"
   ]
  },
  {
   "cell_type": "code",
   "execution_count": 7,
   "id": "c73e26be-0994-4873-8850-6bee539b390a",
   "metadata": {},
   "outputs": [
    {
     "data": {
      "text/plain": [
       "False"
      ]
     },
     "execution_count": 7,
     "metadata": {},
     "output_type": "execute_result"
    }
   ],
   "source": [
    "\"spa\" in str1"
   ]
  },
  {
   "cell_type": "code",
   "execution_count": 9,
   "id": "f9dc2d37-6a19-4490-b7d4-abf5c94589be",
   "metadata": {},
   "outputs": [
    {
     "data": {
      "text/plain": [
       "True"
      ]
     },
     "execution_count": 9,
     "metadata": {},
     "output_type": "execute_result"
    }
   ],
   "source": [
    "\"thon\" in str1"
   ]
  },
  {
   "cell_type": "code",
   "execution_count": 11,
   "id": "eaaf020c-c728-40c6-9de0-fc0d66a10df3",
   "metadata": {},
   "outputs": [
    {
     "data": {
      "text/plain": [
       "'NLP with Python and R is really interesting'"
      ]
     },
     "execution_count": 11,
     "metadata": {},
     "output_type": "execute_result"
    }
   ],
   "source": [
    "str2=\"NLP with Python and R is really interesting\"\n",
    "str2"
   ]
  },
  {
   "cell_type": "code",
   "execution_count": 12,
   "id": "d99b3bcb-2ff2-4263-b67a-a5b9e03359fe",
   "metadata": {},
   "outputs": [
    {
     "data": {
      "text/plain": [
       "('NLP with Python ', 'and', ' R is really interesting')"
      ]
     },
     "execution_count": 12,
     "metadata": {},
     "output_type": "execute_result"
    }
   ],
   "source": [
    "str2.partition(\"and\")"
   ]
  },
  {
   "cell_type": "code",
   "execution_count": 21,
   "id": "24e89b76-47c2-4703-b98a-fd028a09e853",
   "metadata": {},
   "outputs": [
    {
     "data": {
      "text/plain": [
       "'one two three four five one two'"
      ]
     },
     "execution_count": 21,
     "metadata": {},
     "output_type": "execute_result"
    }
   ],
   "source": [
    "str3=\"one two three four five one two\"\n",
    "str3"
   ]
  },
  {
   "cell_type": "code",
   "execution_count": 14,
   "id": "0aa30eaa-ac6f-41df-9902-e037f8d6db9a",
   "metadata": {},
   "outputs": [
    {
     "data": {
      "text/plain": [
       "31"
      ]
     },
     "execution_count": 14,
     "metadata": {},
     "output_type": "execute_result"
    }
   ],
   "source": [
    "len(str3)"
   ]
  },
  {
   "cell_type": "code",
   "execution_count": 15,
   "id": "0a46e04b-4256-468a-84a0-427f56069ece",
   "metadata": {},
   "outputs": [
    {
     "data": {
      "text/plain": [
       "2"
      ]
     },
     "execution_count": 15,
     "metadata": {},
     "output_type": "execute_result"
    }
   ],
   "source": [
    "str3.count(\"one\")"
   ]
  },
  {
   "cell_type": "code",
   "execution_count": 16,
   "id": "c000cf33-722e-44fe-8f59-f57d200fa3fe",
   "metadata": {},
   "outputs": [
    {
     "data": {
      "text/plain": [
       "1"
      ]
     },
     "execution_count": 16,
     "metadata": {},
     "output_type": "execute_result"
    }
   ],
   "source": [
    "str3.count(\"five\")"
   ]
  },
  {
   "cell_type": "code",
   "execution_count": 17,
   "id": "a6442b8e-bac5-4d87-b89d-651cce8d8eda",
   "metadata": {},
   "outputs": [
    {
     "data": {
      "text/plain": [
       "0"
      ]
     },
     "execution_count": 17,
     "metadata": {},
     "output_type": "execute_result"
    }
   ],
   "source": [
    "str3.count(\"Four\")"
   ]
  },
  {
   "cell_type": "code",
   "execution_count": 22,
   "id": "e68d397d-19fa-43a1-ac64-e95e5f8601e1",
   "metadata": {},
   "outputs": [
    {
     "data": {
      "text/plain": [
       "['one', 'two', 'three', 'four', 'five', 'one', 'two']"
      ]
     },
     "execution_count": 22,
     "metadata": {},
     "output_type": "execute_result"
    }
   ],
   "source": [
    "str3.split()"
   ]
  },
  {
   "cell_type": "code",
   "execution_count": null,
   "id": "29f58f98-eff2-4310-9637-acad41170e81",
   "metadata": {},
   "outputs": [],
   "source": [
    "str3.split(\";\")"
   ]
  },
  {
   "cell_type": "code",
   "execution_count": 26,
   "id": "8db8c4d1-b12d-41ad-9e3f-eb9a5221ed5b",
   "metadata": {},
   "outputs": [
    {
     "data": {
      "text/plain": [
       "'                                            one two three four five one two                                             '"
      ]
     },
     "execution_count": 26,
     "metadata": {},
     "output_type": "execute_result"
    }
   ],
   "source": [
    "str3.center(120)"
   ]
  },
  {
   "cell_type": "code",
   "execution_count": 27,
   "id": "a5c3125f-90e0-481b-bc53-ff65d93d9f82",
   "metadata": {},
   "outputs": [
    {
     "data": {
      "text/plain": [
       "'********************************************one two three four five one two*********************************************'"
      ]
     },
     "execution_count": 27,
     "metadata": {},
     "output_type": "execute_result"
    }
   ],
   "source": [
    "str3.center(120,\"*\")"
   ]
  },
  {
   "cell_type": "code",
   "execution_count": 28,
   "id": "7b76a29b-2632-49df-9376-52cb12593a92",
   "metadata": {},
   "outputs": [
    {
     "data": {
      "text/plain": [
       "'                                                                                         one two three four five one two'"
      ]
     },
     "execution_count": 28,
     "metadata": {},
     "output_type": "execute_result"
    }
   ],
   "source": [
    "str3.rjust(120)"
   ]
  },
  {
   "cell_type": "code",
   "execution_count": 29,
   "id": "a13828b9-1945-49fa-8293-68c28b457aed",
   "metadata": {},
   "outputs": [
    {
     "data": {
      "text/plain": [
       "'$$$$$$$$$$$$$$$$$$$$$$$$$$$$$$$$$$$$$$$$$$$$$$$$$$$$$$$$$$$$$$$$$$$$$$$$$$$$$$$$$$$$$$$$$one two three four five one two'"
      ]
     },
     "execution_count": 29,
     "metadata": {},
     "output_type": "execute_result"
    }
   ],
   "source": [
    "str3.rjust(120,\"$\")"
   ]
  },
  {
   "cell_type": "code",
   "execution_count": 30,
   "id": "f66e7b71-1945-4c24-9ff0-bd6337fe5536",
   "metadata": {},
   "outputs": [
    {
     "data": {
      "text/plain": [
       "'one two three four five one two$$$$$$$$$$$$$$$$$$$$$$$$$$$$$$$$$$$$$$$$$$$$$$$$$$$$$$$$$$$$$$$$$$$$$$$$$$$$$$$$$$$$$$$$$'"
      ]
     },
     "execution_count": 30,
     "metadata": {},
     "output_type": "execute_result"
    }
   ],
   "source": [
    "str3.ljust(120,\"$\")"
   ]
  },
  {
   "cell_type": "code",
   "execution_count": 31,
   "id": "1004203a-dfa7-465f-99e5-449990667377",
   "metadata": {},
   "outputs": [
    {
     "data": {
      "text/plain": [
       "19"
      ]
     },
     "execution_count": 31,
     "metadata": {},
     "output_type": "execute_result"
    }
   ],
   "source": [
    "str3.find(\"five\")"
   ]
  },
  {
   "cell_type": "code",
   "execution_count": 32,
   "id": "6145c301-0907-4354-9309-b4d0299518f1",
   "metadata": {},
   "outputs": [
    {
     "data": {
      "text/plain": [
       "19"
      ]
     },
     "execution_count": 32,
     "metadata": {},
     "output_type": "execute_result"
    }
   ],
   "source": [
    "str3.index(\"five\")"
   ]
  },
  {
   "cell_type": "code",
   "execution_count": 33,
   "id": "fe146717-9759-4f2d-b41a-3470c1045a12",
   "metadata": {},
   "outputs": [
    {
     "data": {
      "text/plain": [
       "True"
      ]
     },
     "execution_count": 33,
     "metadata": {},
     "output_type": "execute_result"
    }
   ],
   "source": [
    "mystr=\"12345678\"\n",
    "mystr.isnumeric()"
   ]
  },
  {
   "cell_type": "code",
   "execution_count": 34,
   "id": "018a0346-3801-4ce0-b50e-65825316a7ca",
   "metadata": {},
   "outputs": [
    {
     "data": {
      "text/plain": [
       "True"
      ]
     },
     "execution_count": 34,
     "metadata": {},
     "output_type": "execute_result"
    }
   ],
   "source": [
    "mystr.isdecimal()"
   ]
  },
  {
   "cell_type": "code",
   "execution_count": 35,
   "id": "ba6efd9c-37ca-4a9e-bdc8-464a56b1662f",
   "metadata": {},
   "outputs": [
    {
     "data": {
      "text/plain": [
       "False"
      ]
     },
     "execution_count": 35,
     "metadata": {},
     "output_type": "execute_result"
    }
   ],
   "source": [
    "mystr.isalpha()"
   ]
  },
  {
   "cell_type": "code",
   "execution_count": 37,
   "id": "be7155d4-f048-4558-be3e-698737080496",
   "metadata": {},
   "outputs": [
    {
     "data": {
      "text/plain": [
       "False"
      ]
     },
     "execution_count": 37,
     "metadata": {},
     "output_type": "execute_result"
    }
   ],
   "source": [
    "mystr1=\"abcdef\"\n",
    "mystr1.isnumeric()"
   ]
  },
  {
   "cell_type": "code",
   "execution_count": 38,
   "id": "97527a8a-0da9-4d7b-8edd-19a1fba693a3",
   "metadata": {},
   "outputs": [
    {
     "data": {
      "text/plain": [
       "True"
      ]
     },
     "execution_count": 38,
     "metadata": {},
     "output_type": "execute_result"
    }
   ],
   "source": [
    "mystr1.isalpha()"
   ]
  },
  {
   "cell_type": "code",
   "execution_count": 39,
   "id": "77db35d8-e4cb-4544-a5a1-17de5c5aa2d8",
   "metadata": {},
   "outputs": [
    {
     "data": {
      "text/plain": [
       "False"
      ]
     },
     "execution_count": 39,
     "metadata": {},
     "output_type": "execute_result"
    }
   ],
   "source": [
    "mystr2=\"abcdef12345\"\n",
    "mystr2.isnumeric()"
   ]
  },
  {
   "cell_type": "code",
   "execution_count": 40,
   "id": "75fb89f8-8512-4694-964c-fb8e57a21c8d",
   "metadata": {},
   "outputs": [
    {
     "data": {
      "text/plain": [
       "False"
      ]
     },
     "execution_count": 40,
     "metadata": {},
     "output_type": "execute_result"
    }
   ],
   "source": [
    "mystr2.isalpha()"
   ]
  },
  {
   "cell_type": "code",
   "execution_count": 43,
   "id": "8bc5d1bc-2949-471f-b4e7-613dd7e95ed9",
   "metadata": {},
   "outputs": [
    {
     "data": {
      "text/plain": [
       "True"
      ]
     },
     "execution_count": 43,
     "metadata": {},
     "output_type": "execute_result"
    }
   ],
   "source": [
    "mystr2.isalnum()"
   ]
  },
  {
   "cell_type": "code",
   "execution_count": 44,
   "id": "c73131b8-2e8c-402f-9963-045b96de3623",
   "metadata": {},
   "outputs": [
    {
     "data": {
      "text/plain": [
       "True"
      ]
     },
     "execution_count": 44,
     "metadata": {},
     "output_type": "execute_result"
    }
   ],
   "source": [
    "mystr1.isalnum()"
   ]
  },
  {
   "cell_type": "code",
   "execution_count": 46,
   "id": "e78bf938-5dd6-4c08-8878-fe9053e32ae4",
   "metadata": {},
   "outputs": [
    {
     "data": {
      "text/plain": [
       "True"
      ]
     },
     "execution_count": 46,
     "metadata": {},
     "output_type": "execute_result"
    }
   ],
   "source": [
    "mystr.isalnum()"
   ]
  },
  {
   "cell_type": "code",
   "execution_count": 49,
   "id": "95a1a796-3b0c-47dc-8480-a4ac313d3b1a",
   "metadata": {},
   "outputs": [
    {
     "ename": "SyntaxError",
     "evalue": "invalid syntax (2577425971.py, line 1)",
     "output_type": "error",
     "traceback": [
      "\u001b[1;36m  Cell \u001b[1;32mIn[49], line 1\u001b[1;36m\u001b[0m\n\u001b[1;33m    str2=\"My favourite Movie is \"Premalu\"\"\u001b[0m\n\u001b[1;37m                                 ^\u001b[0m\n\u001b[1;31mSyntaxError\u001b[0m\u001b[1;31m:\u001b[0m invalid syntax\n"
     ]
    }
   ],
   "source": [
    "str2=\"My favourite Movie is \"Premalu\"\"\n",
    "str2"
   ]
  },
  {
   "cell_type": "code",
   "execution_count": 50,
   "id": "230f01eb-2790-4db7-8abd-1a37f4faf8a9",
   "metadata": {},
   "outputs": [
    {
     "data": {
      "text/plain": [
       "'My favourite Movie is \"Premalu\"'"
      ]
     },
     "execution_count": 50,
     "metadata": {},
     "output_type": "execute_result"
    }
   ],
   "source": [
    "str2=\"My favourite Movie is \\\"Premalu\\\"\"\n",
    "str2"
   ]
  },
  {
   "cell_type": "markdown",
   "id": "b6c21bc0-933c-468c-a658-d121392d0336",
   "metadata": {},
   "source": [
    "### List"
   ]
  },
  {
   "cell_type": "markdown",
   "id": "db71f1c5-8c04-452a-9b7e-04ab64f9d0dc",
   "metadata": {},
   "source": [
    "##### List is an ordered sequence of items\n",
    "##### []"
   ]
  },
  {
   "cell_type": "markdown",
   "id": "608dc76f-222c-474a-92f8-bdd3f46a8d56",
   "metadata": {},
   "source": [
    "#### heterogenous->multiple data types"
   ]
  },
  {
   "cell_type": "code",
   "execution_count": 51,
   "id": "b602688b-d273-41fc-81b0-1949ec333db1",
   "metadata": {},
   "outputs": [
    {
     "data": {
      "text/plain": [
       "[1, 6, 7, 3]"
      ]
     },
     "execution_count": 51,
     "metadata": {},
     "output_type": "execute_result"
    }
   ],
   "source": [
    "list1=[1,6,7,3]\n",
    "list1"
   ]
  },
  {
   "cell_type": "code",
   "execution_count": 53,
   "id": "7b70dd98-4006-4641-a419-6e4cab55fbc0",
   "metadata": {},
   "outputs": [
    {
     "data": {
      "text/plain": [
       "[0.1, 6.7, 7.7, 2.3]"
      ]
     },
     "execution_count": 53,
     "metadata": {},
     "output_type": "execute_result"
    }
   ],
   "source": [
    "list2=[0.1,6.7,7.7,2.3]\n",
    "list2"
   ]
  },
  {
   "cell_type": "code",
   "execution_count": 54,
   "id": "88ac0fc1-0d38-498a-9e13-088cf1abf958",
   "metadata": {},
   "outputs": [
    {
     "data": {
      "text/plain": [
       "['Python', 'R', 'Pyspark']"
      ]
     },
     "execution_count": 54,
     "metadata": {},
     "output_type": "execute_result"
    }
   ],
   "source": [
    "list3=[\"Python\",\"R\",\"Pyspark\"]\n",
    "list3"
   ]
  },
  {
   "cell_type": "code",
   "execution_count": 55,
   "id": "9f764ab0-80b6-40f6-b27f-e65522e2bcbc",
   "metadata": {},
   "outputs": [
    {
     "data": {
      "text/plain": [
       "list"
      ]
     },
     "execution_count": 55,
     "metadata": {},
     "output_type": "execute_result"
    }
   ],
   "source": [
    "type(list1)"
   ]
  },
  {
   "cell_type": "code",
   "execution_count": 56,
   "id": "e195ebfc-d7fa-4fe3-af66-1b5a74ed1fd5",
   "metadata": {},
   "outputs": [
    {
     "data": {
      "text/plain": [
       "[6, 1, 8.3, 21, 'Python', 'sql']"
      ]
     },
     "execution_count": 56,
     "metadata": {},
     "output_type": "execute_result"
    }
   ],
   "source": [
    "list4=[6,1,8.3,21,\"Python\",\"sql\"]\n",
    "list4"
   ]
  },
  {
   "cell_type": "code",
   "execution_count": 57,
   "id": "78d19b0b-7a84-458e-a597-1ed6a1f4f375",
   "metadata": {},
   "outputs": [
    {
     "data": {
      "text/plain": [
       "21"
      ]
     },
     "execution_count": 57,
     "metadata": {},
     "output_type": "execute_result"
    }
   ],
   "source": [
    "list4[3]"
   ]
  },
  {
   "cell_type": "code",
   "execution_count": 59,
   "id": "dd1fec9f-9bb4-44e5-827d-19152f1e85c0",
   "metadata": {},
   "outputs": [
    {
     "data": {
      "text/plain": [
       "[21, 'Python', 'sql']"
      ]
     },
     "execution_count": 59,
     "metadata": {},
     "output_type": "execute_result"
    }
   ],
   "source": [
    "list4[3:7]"
   ]
  },
  {
   "cell_type": "code",
   "execution_count": 60,
   "id": "509dda69-0704-47a6-a3f9-5558691fb90b",
   "metadata": {},
   "outputs": [
    {
     "data": {
      "text/plain": [
       "[21, 'Python', 'sql']"
      ]
     },
     "execution_count": 60,
     "metadata": {},
     "output_type": "execute_result"
    }
   ],
   "source": [
    "list4[3:]"
   ]
  },
  {
   "cell_type": "code",
   "execution_count": 61,
   "id": "44c1e1d0-744b-4457-84aa-6abda71acefe",
   "metadata": {},
   "outputs": [
    {
     "data": {
      "text/plain": [
       "[21, 'Python', 'sql']"
      ]
     },
     "execution_count": 61,
     "metadata": {},
     "output_type": "execute_result"
    }
   ],
   "source": [
    "list4[-3:]"
   ]
  },
  {
   "cell_type": "code",
   "execution_count": 62,
   "id": "489a50ae-9874-4696-9246-cdac7fbb312a",
   "metadata": {},
   "outputs": [],
   "source": [
    "list5=[\"Prema\",\"Latha\",[\"Python\",\"R\",\"Sql\",\"Pyspark\"],[\"Analytics\",\"datascience\"]] # nested list"
   ]
  },
  {
   "cell_type": "code",
   "execution_count": 63,
   "id": "b7f6334a-ad8f-4485-bf3e-45b115f89c92",
   "metadata": {},
   "outputs": [
    {
     "data": {
      "text/plain": [
       "['Prema',\n",
       " 'Latha',\n",
       " ['Python', 'R', 'Sql', 'Pyspark'],\n",
       " ['Analytics', 'datascinece']]"
      ]
     },
     "execution_count": 63,
     "metadata": {},
     "output_type": "execute_result"
    }
   ],
   "source": [
    "list5"
   ]
  },
  {
   "cell_type": "code",
   "execution_count": 64,
   "id": "88434203-a7b1-4893-8c07-c3cde4fb39af",
   "metadata": {},
   "outputs": [
    {
     "data": {
      "text/plain": [
       "['Python', 'R', 'Sql', 'Pyspark']"
      ]
     },
     "execution_count": 64,
     "metadata": {},
     "output_type": "execute_result"
    }
   ],
   "source": [
    "list5[2]"
   ]
  },
  {
   "cell_type": "code",
   "execution_count": 65,
   "id": "2f8a3ae5-9fc9-4764-916e-03d8f1b62489",
   "metadata": {},
   "outputs": [
    {
     "data": {
      "text/plain": [
       "4"
      ]
     },
     "execution_count": 65,
     "metadata": {},
     "output_type": "execute_result"
    }
   ],
   "source": [
    "len(list5)"
   ]
  },
  {
   "cell_type": "code",
   "execution_count": 66,
   "id": "d1df966b-1e9f-42d9-8ca8-e24683dfbd46",
   "metadata": {},
   "outputs": [
    {
     "data": {
      "text/plain": [
       "'Sql'"
      ]
     },
     "execution_count": 66,
     "metadata": {},
     "output_type": "execute_result"
    }
   ],
   "source": [
    "list5[2][2]"
   ]
  },
  {
   "cell_type": "code",
   "execution_count": 67,
   "id": "52760a18-2c4a-408e-b269-d8e36d58d86b",
   "metadata": {},
   "outputs": [
    {
     "data": {
      "text/plain": [
       "[6, 1, 8.3, 21, 'Python', 'sql']"
      ]
     },
     "execution_count": 67,
     "metadata": {},
     "output_type": "execute_result"
    }
   ],
   "source": [
    "list4"
   ]
  },
  {
   "cell_type": "code",
   "execution_count": 68,
   "id": "c0ebc809-c101-4060-a15e-53bd3cb1f5f3",
   "metadata": {},
   "outputs": [
    {
     "ename": "AttributeError",
     "evalue": "'list' object has no attribute 'add'",
     "output_type": "error",
     "traceback": [
      "\u001b[1;31m---------------------------------------------------------------------------\u001b[0m",
      "\u001b[1;31mAttributeError\u001b[0m                            Traceback (most recent call last)",
      "Cell \u001b[1;32mIn[68], line 1\u001b[0m\n\u001b[1;32m----> 1\u001b[0m list4\u001b[38;5;241m.\u001b[39madd(\u001b[38;5;241m100\u001b[39m)\n",
      "\u001b[1;31mAttributeError\u001b[0m: 'list' object has no attribute 'add'"
     ]
    }
   ],
   "source": [
    "list4.add(100)"
   ]
  },
  {
   "cell_type": "code",
   "execution_count": 69,
   "id": "79ed012d-d936-4ca0-8fdd-16469921eecb",
   "metadata": {},
   "outputs": [],
   "source": [
    "list4.append(100)"
   ]
  },
  {
   "cell_type": "code",
   "execution_count": 70,
   "id": "2292cd48-eb99-4e5f-9deb-f1a77df9a440",
   "metadata": {},
   "outputs": [
    {
     "data": {
      "text/plain": [
       "[6, 1, 8.3, 21, 'Python', 'sql', 100]"
      ]
     },
     "execution_count": 70,
     "metadata": {},
     "output_type": "execute_result"
    }
   ],
   "source": [
    "list4"
   ]
  },
  {
   "cell_type": "code",
   "execution_count": 72,
   "id": "cdef4b11-941f-4b23-aa99-c354c772ee0c",
   "metadata": {},
   "outputs": [],
   "source": [
    "list4.insert(4,10)"
   ]
  },
  {
   "cell_type": "code",
   "execution_count": 73,
   "id": "7a1de56c-f55f-4db9-94cf-4e38fe2bc81c",
   "metadata": {},
   "outputs": [
    {
     "data": {
      "text/plain": [
       "[6, 1, 8.3, 21, 10, 'Python', 'sql', 100]"
      ]
     },
     "execution_count": 73,
     "metadata": {},
     "output_type": "execute_result"
    }
   ],
   "source": [
    "list4"
   ]
  },
  {
   "cell_type": "code",
   "execution_count": 74,
   "id": "9bc0227b-37ac-4f78-a3b7-521356c735d5",
   "metadata": {},
   "outputs": [],
   "source": [
    "list4.remove(10)"
   ]
  },
  {
   "cell_type": "code",
   "execution_count": 75,
   "id": "0c5aa268-b576-4828-a98f-6227151eb446",
   "metadata": {},
   "outputs": [
    {
     "data": {
      "text/plain": [
       "[6, 1, 8.3, 21, 'Python', 'sql', 100]"
      ]
     },
     "execution_count": 75,
     "metadata": {},
     "output_type": "execute_result"
    }
   ],
   "source": [
    "list4"
   ]
  },
  {
   "cell_type": "code",
   "execution_count": 76,
   "id": "7ff31e4d-928e-4f77-962f-0fd8c51b7411",
   "metadata": {},
   "outputs": [
    {
     "data": {
      "text/plain": [
       "[6, 1, 8.3, 21, 'Python', 'sql']"
      ]
     },
     "execution_count": 76,
     "metadata": {},
     "output_type": "execute_result"
    }
   ],
   "source": [
    "list4.pop()\n",
    "list4"
   ]
  },
  {
   "cell_type": "code",
   "execution_count": 77,
   "id": "8f174231-51a9-4b54-aee4-adf14052e7e8",
   "metadata": {},
   "outputs": [
    {
     "data": {
      "text/plain": [
       "[6, 1, 21, 'Python', 'sql']"
      ]
     },
     "execution_count": 77,
     "metadata": {},
     "output_type": "execute_result"
    }
   ],
   "source": [
    "list4.pop(-4)\n",
    "list4"
   ]
  },
  {
   "cell_type": "code",
   "execution_count": 78,
   "id": "a433e534-de59-489f-b5c0-6ec178414535",
   "metadata": {},
   "outputs": [
    {
     "data": {
      "text/plain": [
       "[15, 1, 21, 'Python', 'sql']"
      ]
     },
     "execution_count": 78,
     "metadata": {},
     "output_type": "execute_result"
    }
   ],
   "source": [
    "list4[0]=15\n",
    "list4"
   ]
  },
  {
   "cell_type": "markdown",
   "id": "d60ecbd3-5ca1-42bf-ac6f-0218027c3098",
   "metadata": {},
   "source": [
    "#### Mutable or immutable-> List is mutable"
   ]
  },
  {
   "cell_type": "code",
   "execution_count": 79,
   "id": "0517f5cd-25d6-4ed2-a700-02eb869b1969",
   "metadata": {},
   "outputs": [
    {
     "data": {
      "text/plain": [
       "[15, 1, 21, 'Python', 'sql']"
      ]
     },
     "execution_count": 79,
     "metadata": {},
     "output_type": "execute_result"
    }
   ],
   "source": [
    "list5=list4\n",
    "list5"
   ]
  },
  {
   "cell_type": "code",
   "execution_count": 80,
   "id": "cc3efc2a-b86a-4f24-961f-1b9ac8b52421",
   "metadata": {},
   "outputs": [
    {
     "data": {
      "text/plain": [
       "[15, 1, 21, 'Python', 'sql']"
      ]
     },
     "execution_count": 80,
     "metadata": {},
     "output_type": "execute_result"
    }
   ],
   "source": [
    "list6=list4.copy()\n",
    "list6"
   ]
  },
  {
   "cell_type": "code",
   "execution_count": 81,
   "id": "65a20c3b-d264-4514-abcd-737a4224100c",
   "metadata": {},
   "outputs": [],
   "source": [
    "list1=[\"A\",\"B\",1,45,7.6]\n",
    "list2=[\"H\",29,9.0]"
   ]
  },
  {
   "cell_type": "code",
   "execution_count": 82,
   "id": "ea9f289e-c30f-465e-a814-d8cea26e678b",
   "metadata": {},
   "outputs": [
    {
     "data": {
      "text/plain": [
       "['A', 'B', 1, 45, 7.6, 'H', 29, 9.0]"
      ]
     },
     "execution_count": 82,
     "metadata": {},
     "output_type": "execute_result"
    }
   ],
   "source": [
    "list3=list1+list2\n",
    "list3"
   ]
  },
  {
   "cell_type": "code",
   "execution_count": 83,
   "id": "043d5b91-65e6-4599-93ec-53a513800abe",
   "metadata": {},
   "outputs": [
    {
     "data": {
      "text/plain": [
       "['A', 'B', 1, 45, 7.6, 'H', 29, 9.0, 'A', 'B', 1, 45, 7.6]"
      ]
     },
     "execution_count": 83,
     "metadata": {},
     "output_type": "execute_result"
    }
   ],
   "source": [
    "list3.extend(list1)\n",
    "list3"
   ]
  },
  {
   "cell_type": "code",
   "execution_count": 84,
   "id": "972fd576-bbd7-4dd0-99cc-de5cf9be9d03",
   "metadata": {},
   "outputs": [
    {
     "data": {
      "text/plain": [
       "False"
      ]
     },
     "execution_count": 84,
     "metadata": {},
     "output_type": "execute_result"
    }
   ],
   "source": [
    "50 in list3"
   ]
  },
  {
   "cell_type": "code",
   "execution_count": 85,
   "id": "009f88aa-e5c9-4e49-bfba-cbaca43b195e",
   "metadata": {},
   "outputs": [
    {
     "data": {
      "text/plain": [
       "True"
      ]
     },
     "execution_count": 85,
     "metadata": {},
     "output_type": "execute_result"
    }
   ],
   "source": [
    "45 in list3"
   ]
  },
  {
   "cell_type": "code",
   "execution_count": 86,
   "id": "0a089295-c4b1-49a5-b6c6-282ce9a6dc1a",
   "metadata": {},
   "outputs": [
    {
     "name": "stdout",
     "output_type": "stream",
     "text": [
      "There is 45 in list3\n"
     ]
    }
   ],
   "source": [
    "if 45 in list3:\n",
    "    print(\"There is 45 in list3\")\n",
    "else:\n",
    "    print(\"There is no 45 in list3\")"
   ]
  },
  {
   "cell_type": "code",
   "execution_count": 87,
   "id": "5f6f9413-2109-4724-8d2d-e6d1e59946a9",
   "metadata": {},
   "outputs": [
    {
     "data": {
      "text/plain": [
       "['A', 'B', 1, 45, 7.6, 'H', 29, 9.0, 'A', 'B', 1, 45, 7.6]"
      ]
     },
     "execution_count": 87,
     "metadata": {},
     "output_type": "execute_result"
    }
   ],
   "source": [
    "list3"
   ]
  },
  {
   "cell_type": "code",
   "execution_count": 89,
   "id": "b752625b-bef4-4d14-8882-ca43cdd373fb",
   "metadata": {},
   "outputs": [
    {
     "ename": "TypeError",
     "evalue": "'<' not supported between instances of 'int' and 'str'",
     "output_type": "error",
     "traceback": [
      "\u001b[1;31m---------------------------------------------------------------------------\u001b[0m",
      "\u001b[1;31mTypeError\u001b[0m                                 Traceback (most recent call last)",
      "Cell \u001b[1;32mIn[89], line 1\u001b[0m\n\u001b[1;32m----> 1\u001b[0m list3\u001b[38;5;241m.\u001b[39msort()\n",
      "\u001b[1;31mTypeError\u001b[0m: '<' not supported between instances of 'int' and 'str'"
     ]
    }
   ],
   "source": [
    "list3.sort()"
   ]
  },
  {
   "cell_type": "code",
   "execution_count": 96,
   "id": "35e07f50-f47f-4218-9038-29cac6b93448",
   "metadata": {},
   "outputs": [],
   "source": [
    "list10=[3,1,7.6,9,10]\n",
    "list10.sort()"
   ]
  },
  {
   "cell_type": "code",
   "execution_count": 92,
   "id": "4b30490b-8ca1-4c56-b83c-90ca6dcf3917",
   "metadata": {},
   "outputs": [
    {
     "data": {
      "text/plain": [
       "[1, 3, 7.6, 9, 10]"
      ]
     },
     "execution_count": 92,
     "metadata": {},
     "output_type": "execute_result"
    }
   ],
   "source": [
    "list10"
   ]
  },
  {
   "cell_type": "code",
   "execution_count": 93,
   "id": "45b1a72f-55fd-441e-bcf6-89bf88a61123",
   "metadata": {},
   "outputs": [
    {
     "data": {
      "text/plain": [
       "[1, 3, 7.6, 9, 10]"
      ]
     },
     "execution_count": 93,
     "metadata": {},
     "output_type": "execute_result"
    }
   ],
   "source": [
    "list10"
   ]
  },
  {
   "cell_type": "code",
   "execution_count": 94,
   "id": "3ff98dc5-2cb4-4573-812b-9f6dff1252a4",
   "metadata": {},
   "outputs": [],
   "source": [
    "list10.reverse()"
   ]
  },
  {
   "cell_type": "code",
   "execution_count": 95,
   "id": "6017a3ed-d409-4003-9018-472b19e88c0f",
   "metadata": {},
   "outputs": [
    {
     "data": {
      "text/plain": [
       "[10, 9, 7.6, 3, 1]"
      ]
     },
     "execution_count": 95,
     "metadata": {},
     "output_type": "execute_result"
    }
   ],
   "source": [
    "list10"
   ]
  },
  {
   "cell_type": "code",
   "execution_count": 97,
   "id": "126c9405-e1f8-4bfa-a906-b3b1c71682cd",
   "metadata": {},
   "outputs": [],
   "source": [
    "list1=[4,1,7]\n",
    "list1.reverse()"
   ]
  },
  {
   "cell_type": "code",
   "execution_count": 98,
   "id": "5a18caad-d5a5-4122-a5a8-fd205e70d70c",
   "metadata": {},
   "outputs": [
    {
     "data": {
      "text/plain": [
       "[7, 1, 4]"
      ]
     },
     "execution_count": 98,
     "metadata": {},
     "output_type": "execute_result"
    }
   ],
   "source": [
    "list1"
   ]
  },
  {
   "cell_type": "code",
   "execution_count": 99,
   "id": "16f81911-4952-4955-9f9d-166a727e073a",
   "metadata": {},
   "outputs": [],
   "source": [
    "list1.sort(reverse=True)"
   ]
  },
  {
   "cell_type": "code",
   "execution_count": 100,
   "id": "014d1b3b-50dc-4e38-b989-c3c58c14b132",
   "metadata": {},
   "outputs": [
    {
     "data": {
      "text/plain": [
       "[7, 4, 1]"
      ]
     },
     "execution_count": 100,
     "metadata": {},
     "output_type": "execute_result"
    }
   ],
   "source": [
    "list1"
   ]
  },
  {
   "cell_type": "markdown",
   "id": "8975edb7-5b6c-4acd-b419-9d7e687898d7",
   "metadata": {},
   "source": [
    "### create a list only with string\n",
    "### Try with ascending and descending"
   ]
  },
  {
   "cell_type": "code",
   "execution_count": 101,
   "id": "06ef9de5-bf55-41a2-94cc-2c99aff4337b",
   "metadata": {},
   "outputs": [
    {
     "name": "stdout",
     "output_type": "stream",
     "text": [
      "1\n",
      "3\n",
      "7.6\n",
      "9\n",
      "10\n"
     ]
    }
   ],
   "source": [
    "### Iterating through list.\n",
    "for i in list10:\n",
    "    print(i)"
   ]
  },
  {
   "cell_type": "code",
   "execution_count": 102,
   "id": "08d8fa9b-56c8-4852-8003-15fed074ee4d",
   "metadata": {},
   "outputs": [
    {
     "data": {
      "text/plain": [
       "1"
      ]
     },
     "execution_count": 102,
     "metadata": {},
     "output_type": "execute_result"
    }
   ],
   "source": [
    "list10.count(10)"
   ]
  },
  {
   "cell_type": "code",
   "execution_count": 103,
   "id": "adf6f015-1966-4dfa-997b-93f5f22ca66a",
   "metadata": {},
   "outputs": [
    {
     "data": {
      "text/plain": [
       "0"
      ]
     },
     "execution_count": 103,
     "metadata": {},
     "output_type": "execute_result"
    }
   ],
   "source": [
    "list1.count(100)"
   ]
  },
  {
   "cell_type": "code",
   "execution_count": 104,
   "id": "aa78b22f-3aa2-4661-878e-139333cc1cd6",
   "metadata": {},
   "outputs": [
    {
     "data": {
      "text/plain": [
       "5"
      ]
     },
     "execution_count": 104,
     "metadata": {},
     "output_type": "execute_result"
    }
   ],
   "source": [
    "len(list10)"
   ]
  },
  {
   "cell_type": "markdown",
   "id": "bad0055b-f365-4d05-8055-de097884b0bd",
   "metadata": {},
   "source": [
    "### Solve the below worksheet"
   ]
  },
  {
   "cell_type": "markdown",
   "id": "e3c29e50-f740-44eb-9f5a-0d250af040e7",
   "metadata": {},
   "source": [
    "### https://github.com/Premalatha-success/TIAA_batch1_nov/blob/main/string_exercise.docx"
   ]
  },
  {
   "cell_type": "markdown",
   "id": "c175a3ca-d20e-4fac-a444-48592227bc0d",
   "metadata": {},
   "source": [
    "### Tuple"
   ]
  },
  {
   "cell_type": "code",
   "execution_count": null,
   "id": "d1a32576-b5a2-41de-961e-5aa77ae54f63",
   "metadata": {},
   "outputs": [],
   "source": [
    "#### () or no brackets\n",
    "#### heterogenous-multiple data types"
   ]
  },
  {
   "cell_type": "code",
   "execution_count": 105,
   "id": "078aceb3-105e-4873-912b-9cc5a32fc627",
   "metadata": {},
   "outputs": [
    {
     "data": {
      "text/plain": [
       "(1, 5, 2, 8)"
      ]
     },
     "execution_count": 105,
     "metadata": {},
     "output_type": "execute_result"
    }
   ],
   "source": [
    "tup1=(1,5,2,8)\n",
    "tup1"
   ]
  },
  {
   "cell_type": "code",
   "execution_count": 106,
   "id": "08a5c91e-de06-4fc8-8515-5910831ef64b",
   "metadata": {},
   "outputs": [
    {
     "data": {
      "text/plain": [
       "tuple"
      ]
     },
     "execution_count": 106,
     "metadata": {},
     "output_type": "execute_result"
    }
   ],
   "source": [
    "type(tup1)"
   ]
  },
  {
   "cell_type": "code",
   "execution_count": 107,
   "id": "a6f2783e-b289-4940-b394-e2064fdc434c",
   "metadata": {},
   "outputs": [
    {
     "data": {
      "text/plain": [
       "(1.5, 0.5, 2.0, 8)"
      ]
     },
     "execution_count": 107,
     "metadata": {},
     "output_type": "execute_result"
    }
   ],
   "source": [
    "tup2=(1.5,0.5,2.0,8)\n",
    "tup2"
   ]
  },
  {
   "cell_type": "code",
   "execution_count": 108,
   "id": "16e5dac1-7fb7-43c5-b184-c602ac99a734",
   "metadata": {},
   "outputs": [
    {
     "data": {
      "text/plain": [
       "(18, 31, 8.9, 'Python')"
      ]
     },
     "execution_count": 108,
     "metadata": {},
     "output_type": "execute_result"
    }
   ],
   "source": [
    "tup3=(18,31,8.9,\"Python\")\n",
    "tup3"
   ]
  },
  {
   "cell_type": "code",
   "execution_count": 109,
   "id": "5c647886-c224-4ad0-aa1c-4b268871a683",
   "metadata": {},
   "outputs": [
    {
     "data": {
      "text/plain": [
       "tuple"
      ]
     },
     "execution_count": 109,
     "metadata": {},
     "output_type": "execute_result"
    }
   ],
   "source": [
    "tup4=23,71,9.5,\"hi\"\n",
    "type(tup4)"
   ]
  },
  {
   "cell_type": "code",
   "execution_count": 110,
   "id": "307b80fc-5ff6-43eb-a864-10e4670d5378",
   "metadata": {},
   "outputs": [
    {
     "data": {
      "text/plain": [
       "4"
      ]
     },
     "execution_count": 110,
     "metadata": {},
     "output_type": "execute_result"
    }
   ],
   "source": [
    "len(tup4)"
   ]
  },
  {
   "cell_type": "code",
   "execution_count": 111,
   "id": "349f77eb-3a57-4584-925e-7236b712352d",
   "metadata": {},
   "outputs": [],
   "source": [
    "tup5=(1,2,3,7.4,\"hi\",[1,8,5,7.2,\"hello\"],(76,90,10.5))"
   ]
  },
  {
   "cell_type": "code",
   "execution_count": 112,
   "id": "e54e470f-b74b-4743-a7da-e07468265850",
   "metadata": {},
   "outputs": [
    {
     "data": {
      "text/plain": [
       "(1, 2, 3, 7.4, 'hi', [1, 8, 5, 7.2, 'hello'], (76, 90, 10.5))"
      ]
     },
     "execution_count": 112,
     "metadata": {},
     "output_type": "execute_result"
    }
   ],
   "source": [
    "tup5"
   ]
  },
  {
   "cell_type": "code",
   "execution_count": 113,
   "id": "a9d134b7-f138-4b2e-b9a5-abed58804046",
   "metadata": {},
   "outputs": [
    {
     "data": {
      "text/plain": [
       "7"
      ]
     },
     "execution_count": 113,
     "metadata": {},
     "output_type": "execute_result"
    }
   ],
   "source": [
    "len(tup5)"
   ]
  },
  {
   "cell_type": "code",
   "execution_count": 114,
   "id": "891ae4c0-c6c1-4480-98c7-59fa3a069f0a",
   "metadata": {},
   "outputs": [
    {
     "data": {
      "text/plain": [
       "1"
      ]
     },
     "execution_count": 114,
     "metadata": {},
     "output_type": "execute_result"
    }
   ],
   "source": [
    "tup5.count(1)"
   ]
  },
  {
   "cell_type": "code",
   "execution_count": 116,
   "id": "0fc83712-882d-4614-9161-f1873ac18174",
   "metadata": {},
   "outputs": [
    {
     "data": {
      "text/plain": [
       "1"
      ]
     },
     "execution_count": 116,
     "metadata": {},
     "output_type": "execute_result"
    }
   ],
   "source": [
    "tup5.count(\"hi\")"
   ]
  },
  {
   "cell_type": "code",
   "execution_count": 117,
   "id": "248c4c63-0483-4b3f-904a-f377652f62b3",
   "metadata": {},
   "outputs": [
    {
     "data": {
      "text/plain": [
       "1"
      ]
     },
     "execution_count": 117,
     "metadata": {},
     "output_type": "execute_result"
    }
   ],
   "source": [
    "tup5[0]"
   ]
  },
  {
   "cell_type": "code",
   "execution_count": 120,
   "id": "c0dedc7e-9348-41f9-9fa0-6d9701621885",
   "metadata": {},
   "outputs": [
    {
     "data": {
      "text/plain": [
       "(76, 90, 10.5)"
      ]
     },
     "execution_count": 120,
     "metadata": {},
     "output_type": "execute_result"
    }
   ],
   "source": [
    "tup5[6]"
   ]
  },
  {
   "cell_type": "code",
   "execution_count": 121,
   "id": "00c79b75-535e-4b54-860b-be69f3f61fc0",
   "metadata": {},
   "outputs": [
    {
     "ename": "IndexError",
     "evalue": "tuple index out of range",
     "output_type": "error",
     "traceback": [
      "\u001b[1;31m---------------------------------------------------------------------------\u001b[0m",
      "\u001b[1;31mIndexError\u001b[0m                                Traceback (most recent call last)",
      "Cell \u001b[1;32mIn[121], line 1\u001b[0m\n\u001b[1;32m----> 1\u001b[0m tup5[\u001b[38;5;241m7\u001b[39m]\n",
      "\u001b[1;31mIndexError\u001b[0m: tuple index out of range"
     ]
    }
   ],
   "source": [
    "tup5[7]"
   ]
  },
  {
   "cell_type": "code",
   "execution_count": 122,
   "id": "025aaaee-83ee-4fe0-9d49-d36700ccacac",
   "metadata": {},
   "outputs": [
    {
     "data": {
      "text/plain": [
       "90"
      ]
     },
     "execution_count": 122,
     "metadata": {},
     "output_type": "execute_result"
    }
   ],
   "source": [
    "tup5[6][1]"
   ]
  },
  {
   "cell_type": "code",
   "execution_count": 123,
   "id": "32f4e411-3dc1-4d11-933f-f3e5546b4d08",
   "metadata": {},
   "outputs": [
    {
     "data": {
      "text/plain": [
       "(76, 90, 10.5)"
      ]
     },
     "execution_count": 123,
     "metadata": {},
     "output_type": "execute_result"
    }
   ],
   "source": [
    "tup5[-1]"
   ]
  },
  {
   "cell_type": "markdown",
   "id": "b02c2433-710f-4930-9aac-79dfb9e2177d",
   "metadata": {},
   "source": [
    "#### Tuple is immutable-> cannot make any creating"
   ]
  },
  {
   "cell_type": "code",
   "execution_count": 124,
   "id": "ef671b17-674e-46c6-9369-9c6f711fe169",
   "metadata": {},
   "outputs": [
    {
     "name": "stdout",
     "output_type": "stream",
     "text": [
      "23\n",
      "71\n",
      "9.5\n",
      "hi\n"
     ]
    }
   ],
   "source": [
    "### Iterating\n",
    "for i in tup4:\n",
    "    print(i)"
   ]
  },
  {
   "cell_type": "code",
   "execution_count": 125,
   "id": "f7285d3a-9eb8-4b9e-9a4f-eb80a19404ad",
   "metadata": {},
   "outputs": [
    {
     "data": {
      "text/plain": [
       "False"
      ]
     },
     "execution_count": 125,
     "metadata": {},
     "output_type": "execute_result"
    }
   ],
   "source": [
    "\"hello\" in tup4"
   ]
  },
  {
   "cell_type": "code",
   "execution_count": 126,
   "id": "b76654d1-8eb1-4840-ae04-dcbae90b5a76",
   "metadata": {},
   "outputs": [
    {
     "name": "stdout",
     "output_type": "stream",
     "text": [
      "There is no hello in this tuple\n"
     ]
    }
   ],
   "source": [
    "### if-else\n",
    "if \"hello\" in tup4:\n",
    "    print(\"There is hello in this tuple\")\n",
    "else:\n",
    "    print(\"There is no hello in this tuple\")"
   ]
  },
  {
   "cell_type": "code",
   "execution_count": 127,
   "id": "56c8457e-64a4-46be-8b36-853bdd8b3c2c",
   "metadata": {},
   "outputs": [
    {
     "data": {
      "text/plain": [
       "0"
      ]
     },
     "execution_count": 127,
     "metadata": {},
     "output_type": "execute_result"
    }
   ],
   "source": [
    "tup4.index(23)"
   ]
  },
  {
   "cell_type": "code",
   "execution_count": 128,
   "id": "d2cc4354-1f91-40b7-b0f6-13bc119831fb",
   "metadata": {},
   "outputs": [
    {
     "ename": "ValueError",
     "evalue": "tuple.index(x): x not in tuple",
     "output_type": "error",
     "traceback": [
      "\u001b[1;31m---------------------------------------------------------------------------\u001b[0m",
      "\u001b[1;31mValueError\u001b[0m                                Traceback (most recent call last)",
      "Cell \u001b[1;32mIn[128], line 1\u001b[0m\n\u001b[1;32m----> 1\u001b[0m tup4\u001b[38;5;241m.\u001b[39mindex(\u001b[38;5;241m100\u001b[39m)\n",
      "\u001b[1;31mValueError\u001b[0m: tuple.index(x): x not in tuple"
     ]
    }
   ],
   "source": [
    "tup4.index(100)"
   ]
  },
  {
   "cell_type": "code",
   "execution_count": 129,
   "id": "b678e4fa-58d6-4377-b37d-0ae768c7b9b7",
   "metadata": {},
   "outputs": [
    {
     "ename": "AttributeError",
     "evalue": "'tuple' object has no attribute 'sort'",
     "output_type": "error",
     "traceback": [
      "\u001b[1;31m---------------------------------------------------------------------------\u001b[0m",
      "\u001b[1;31mAttributeError\u001b[0m                            Traceback (most recent call last)",
      "Cell \u001b[1;32mIn[129], line 1\u001b[0m\n\u001b[1;32m----> 1\u001b[0m tup4\u001b[38;5;241m.\u001b[39msort()\n",
      "\u001b[1;31mAttributeError\u001b[0m: 'tuple' object has no attribute 'sort'"
     ]
    }
   ],
   "source": [
    "tup4.sort()"
   ]
  },
  {
   "cell_type": "code",
   "execution_count": 133,
   "id": "de22c596-4af0-421b-8ab5-014c2500a999",
   "metadata": {},
   "outputs": [],
   "source": [
    "tup5=(1,8,4,9.3)"
   ]
  },
  {
   "cell_type": "code",
   "execution_count": 132,
   "id": "e0d66c59-8d89-40f0-baf6-159cab15040b",
   "metadata": {},
   "outputs": [
    {
     "data": {
      "text/plain": [
       "[1, 4, 8, 9.3]"
      ]
     },
     "execution_count": 132,
     "metadata": {},
     "output_type": "execute_result"
    }
   ],
   "source": [
    "sorted(tup5)"
   ]
  },
  {
   "cell_type": "code",
   "execution_count": 134,
   "id": "812c20a3-efab-42e1-ac84-c594aa7a39ad",
   "metadata": {},
   "outputs": [
    {
     "data": {
      "text/plain": [
       "[9.3, 8, 4, 1]"
      ]
     },
     "execution_count": 134,
     "metadata": {},
     "output_type": "execute_result"
    }
   ],
   "source": [
    "sorted(tup5,reverse=True)"
   ]
  },
  {
   "cell_type": "code",
   "execution_count": 135,
   "id": "e1096c88-b552-4cc0-ad97-e617b95ebdc6",
   "metadata": {},
   "outputs": [
    {
     "data": {
      "text/plain": [
       "[1, 8, 4, 9.3]"
      ]
     },
     "execution_count": 135,
     "metadata": {},
     "output_type": "execute_result"
    }
   ],
   "source": [
    "list(tup5)"
   ]
  },
  {
   "cell_type": "code",
   "execution_count": 136,
   "id": "31fcaea7-e5c7-4304-b79f-12a3506aa63b",
   "metadata": {},
   "outputs": [],
   "source": [
    "### create a copy of tuple\n",
    "tup10=tup5"
   ]
  },
  {
   "cell_type": "code",
   "execution_count": 137,
   "id": "aa95b11f-08aa-4587-b85b-eebf2d3767af",
   "metadata": {},
   "outputs": [
    {
     "data": {
      "text/plain": [
       "(7, 4, 1)"
      ]
     },
     "execution_count": 137,
     "metadata": {},
     "output_type": "execute_result"
    }
   ],
   "source": [
    "#### Convert tuple into a list\n",
    "list_1=tuple(list1)\n",
    "list_1"
   ]
  },
  {
   "cell_type": "code",
   "execution_count": 138,
   "id": "d296c8bf-6d28-4393-b27f-e7218a106730",
   "metadata": {},
   "outputs": [
    {
     "ename": "AttributeError",
     "evalue": "'tuple' object has no attribute 'append'",
     "output_type": "error",
     "traceback": [
      "\u001b[1;31m---------------------------------------------------------------------------\u001b[0m",
      "\u001b[1;31mAttributeError\u001b[0m                            Traceback (most recent call last)",
      "Cell \u001b[1;32mIn[138], line 1\u001b[0m\n\u001b[1;32m----> 1\u001b[0m list_1\u001b[38;5;241m.\u001b[39mappend(\u001b[38;5;241m19\u001b[39m)\n",
      "\u001b[1;31mAttributeError\u001b[0m: 'tuple' object has no attribute 'append'"
     ]
    }
   ],
   "source": [
    "list_1.append(19)"
   ]
  },
  {
   "cell_type": "markdown",
   "id": "5e5aaa78-65af-4716-8959-cc9762ceb35e",
   "metadata": {},
   "source": [
    "### Dictionary"
   ]
  },
  {
   "cell_type": "markdown",
   "id": "1ce92101-e7a7-4c5f-8cfc-f36d8a55b472",
   "metadata": {},
   "source": [
    "#### key-value pair datastructure\n",
    "#### {}\n",
    "#### Key is unique\n",
    "#### values can be duplicated"
   ]
  },
  {
   "cell_type": "code",
   "execution_count": 142,
   "id": "fa3c472b-c961-40ab-ab56-a5b13c5a7296",
   "metadata": {},
   "outputs": [
    {
     "data": {
      "text/plain": [
       "{1: 'one', 2: 'three', 4: 'four', 5: 'five', 6: 'three'}"
      ]
     },
     "execution_count": 142,
     "metadata": {},
     "output_type": "execute_result"
    }
   ],
   "source": [
    "mydict={1:\"one\",2:\"two\",2:\"three\",4:\"four\",5:\"five\",6:\"three\"}\n",
    "mydict"
   ]
  },
  {
   "cell_type": "code",
   "execution_count": 143,
   "id": "a5ad853a-f399-4ae3-ab31-79d85747eb53",
   "metadata": {},
   "outputs": [
    {
     "ename": "KeyError",
     "evalue": "0",
     "output_type": "error",
     "traceback": [
      "\u001b[1;31m---------------------------------------------------------------------------\u001b[0m",
      "\u001b[1;31mKeyError\u001b[0m                                  Traceback (most recent call last)",
      "Cell \u001b[1;32mIn[143], line 1\u001b[0m\n\u001b[1;32m----> 1\u001b[0m mydict[\u001b[38;5;241m0\u001b[39m]\n",
      "\u001b[1;31mKeyError\u001b[0m: 0"
     ]
    }
   ],
   "source": [
    "mydict[0]"
   ]
  },
  {
   "cell_type": "code",
   "execution_count": 144,
   "id": "2dec4468-74c0-457d-87c8-d5ac845231c9",
   "metadata": {},
   "outputs": [
    {
     "data": {
      "text/plain": [
       "dict_keys([1, 2, 4, 5, 6])"
      ]
     },
     "execution_count": 144,
     "metadata": {},
     "output_type": "execute_result"
    }
   ],
   "source": [
    "mydict.keys()"
   ]
  },
  {
   "cell_type": "code",
   "execution_count": 145,
   "id": "f5004a2c-a8ac-4b3b-ac3c-e17c22df7653",
   "metadata": {},
   "outputs": [
    {
     "data": {
      "text/plain": [
       "dict_values(['one', 'three', 'four', 'five', 'three'])"
      ]
     },
     "execution_count": 145,
     "metadata": {},
     "output_type": "execute_result"
    }
   ],
   "source": [
    "mydict.values()"
   ]
  },
  {
   "cell_type": "code",
   "execution_count": 146,
   "id": "e4b0ee85-48da-4c33-a4ec-6554cdab5834",
   "metadata": {},
   "outputs": [
    {
     "data": {
      "text/plain": [
       "dict_items([(1, 'one'), (2, 'three'), (4, 'four'), (5, 'five'), (6, 'three')])"
      ]
     },
     "execution_count": 146,
     "metadata": {},
     "output_type": "execute_result"
    }
   ],
   "source": [
    "mydict.items()"
   ]
  },
  {
   "cell_type": "code",
   "execution_count": 148,
   "id": "0add5efa-87f7-4745-bbba-f297cd2369c3",
   "metadata": {},
   "outputs": [
    {
     "data": {
      "text/plain": [
       "'three'"
      ]
     },
     "execution_count": 148,
     "metadata": {},
     "output_type": "execute_result"
    }
   ],
   "source": [
    "### let me try with key\n",
    "mydict[6]"
   ]
  },
  {
   "cell_type": "code",
   "execution_count": 149,
   "id": "45848402-581d-4298-8f3b-b81885b9e5c9",
   "metadata": {},
   "outputs": [
    {
     "ename": "KeyError",
     "evalue": "'one'",
     "output_type": "error",
     "traceback": [
      "\u001b[1;31m---------------------------------------------------------------------------\u001b[0m",
      "\u001b[1;31mKeyError\u001b[0m                                  Traceback (most recent call last)",
      "Cell \u001b[1;32mIn[149], line 1\u001b[0m\n\u001b[1;32m----> 1\u001b[0m mydict[\u001b[38;5;124m\"\u001b[39m\u001b[38;5;124mone\u001b[39m\u001b[38;5;124m\"\u001b[39m]\n",
      "\u001b[1;31mKeyError\u001b[0m: 'one'"
     ]
    }
   ],
   "source": [
    "mydict[\"one\"]"
   ]
  },
  {
   "cell_type": "code",
   "execution_count": 151,
   "id": "4481b074-5cd9-4ee2-9e5a-d177b9901b64",
   "metadata": {},
   "outputs": [
    {
     "data": {
      "text/plain": [
       "[(1, 'one'), (2, 'three'), (4, 'four'), (5, 'five'), (6, 'three')]"
      ]
     },
     "execution_count": 151,
     "metadata": {},
     "output_type": "execute_result"
    }
   ],
   "source": [
    "items=list(mydict.items())\n",
    "items"
   ]
  },
  {
   "cell_type": "code",
   "execution_count": 155,
   "id": "465214cf-3551-4bd6-a2cf-13bd02174cc6",
   "metadata": {},
   "outputs": [
    {
     "data": {
      "text/plain": [
       "{'a': 1, 'b': [21, 87, 32], 3: (1, 2, 3), 5: {'ram': 37, 'raj': 56}}"
      ]
     },
     "execution_count": 155,
     "metadata": {},
     "output_type": "execute_result"
    }
   ],
   "source": [
    "#### Create nested dictionary\n",
    "mydict={\"a\":1,\"b\":[21,87,32],3:(1,2,3),5:{\"ram\":37,\"raj\":56}}\n",
    "mydict"
   ]
  },
  {
   "cell_type": "code",
   "execution_count": 156,
   "id": "bbb6bcb7-9574-40d7-9fae-5e0df0a83841",
   "metadata": {},
   "outputs": [
    {
     "data": {
      "text/plain": [
       "dict_keys(['a', 'b', 3, 5])"
      ]
     },
     "execution_count": 156,
     "metadata": {},
     "output_type": "execute_result"
    }
   ],
   "source": [
    "mydict.keys()"
   ]
  },
  {
   "cell_type": "code",
   "execution_count": 158,
   "id": "3cb2fad8-7d37-4b01-88ed-376019a50dc9",
   "metadata": {},
   "outputs": [
    {
     "ename": "TypeError",
     "evalue": "unhashable type: 'list'",
     "output_type": "error",
     "traceback": [
      "\u001b[1;31m---------------------------------------------------------------------------\u001b[0m",
      "\u001b[1;31mTypeError\u001b[0m                                 Traceback (most recent call last)",
      "Cell \u001b[1;32mIn[158], line 1\u001b[0m\n\u001b[1;32m----> 1\u001b[0m mydict\u001b[38;5;241m=\u001b[39m{\u001b[38;5;124m\"\u001b[39m\u001b[38;5;124ma\u001b[39m\u001b[38;5;124m\"\u001b[39m:\u001b[38;5;241m1\u001b[39m,[\u001b[38;5;124m\"\u001b[39m\u001b[38;5;124mb\u001b[39m\u001b[38;5;124m\"\u001b[39m,\u001b[38;5;124m\"\u001b[39m\u001b[38;5;124mc\u001b[39m\u001b[38;5;124m\"\u001b[39m]:[\u001b[38;5;241m21\u001b[39m,\u001b[38;5;241m87\u001b[39m,\u001b[38;5;241m32\u001b[39m],\u001b[38;5;241m3\u001b[39m:(\u001b[38;5;241m1\u001b[39m,\u001b[38;5;241m2\u001b[39m,\u001b[38;5;241m3\u001b[39m),\u001b[38;5;241m5\u001b[39m:{\u001b[38;5;124m\"\u001b[39m\u001b[38;5;124mram\u001b[39m\u001b[38;5;124m\"\u001b[39m:\u001b[38;5;241m37\u001b[39m,\u001b[38;5;124m\"\u001b[39m\u001b[38;5;124mraj\u001b[39m\u001b[38;5;124m\"\u001b[39m:\u001b[38;5;241m56\u001b[39m}}\n\u001b[0;32m      2\u001b[0m mydict\n",
      "\u001b[1;31mTypeError\u001b[0m: unhashable type: 'list'"
     ]
    }
   ],
   "source": [
    "mydict={\"a\":1,[\"b\",\"c\"]:[21,87,32],3:(1,2,3),5:{\"ram\":37,\"raj\":56}}\n",
    "mydict"
   ]
  },
  {
   "cell_type": "code",
   "execution_count": 159,
   "id": "a83ad027-8ed8-49ee-8f2c-0b6cf07ecc6f",
   "metadata": {},
   "outputs": [],
   "source": [
    "mydict[10]=\"ten\""
   ]
  },
  {
   "cell_type": "code",
   "execution_count": 160,
   "id": "6445037c-b970-4bc4-813b-d135001be112",
   "metadata": {},
   "outputs": [
    {
     "data": {
      "text/plain": [
       "{'a': 1, 'b': [21, 87, 32], 3: (1, 2, 3), 5: {'ram': 37, 'raj': 56}, 10: 'ten'}"
      ]
     },
     "execution_count": 160,
     "metadata": {},
     "output_type": "execute_result"
    }
   ],
   "source": [
    "mydict"
   ]
  },
  {
   "cell_type": "code",
   "execution_count": 162,
   "id": "7417619e-9c95-4ac4-8e52-0317b387e1ba",
   "metadata": {},
   "outputs": [
    {
     "data": {
      "text/plain": [
       "'ten'"
      ]
     },
     "execution_count": 162,
     "metadata": {},
     "output_type": "execute_result"
    }
   ],
   "source": [
    "mydict.pop(10)"
   ]
  },
  {
   "cell_type": "code",
   "execution_count": 163,
   "id": "ab37033b-2ef1-4079-b6af-527c0a91ff05",
   "metadata": {},
   "outputs": [
    {
     "data": {
      "text/plain": [
       "{'a': 1, 'b': [21, 87, 32], 3: (1, 2, 3), 5: {'ram': 37, 'raj': 56}}"
      ]
     },
     "execution_count": 163,
     "metadata": {},
     "output_type": "execute_result"
    }
   ],
   "source": [
    "mydict"
   ]
  },
  {
   "cell_type": "code",
   "execution_count": 164,
   "id": "90a94931-0121-4630-8cfc-a53252405b52",
   "metadata": {},
   "outputs": [
    {
     "data": {
      "text/plain": [
       "(5, {'ram': 37, 'raj': 56})"
      ]
     },
     "execution_count": 164,
     "metadata": {},
     "output_type": "execute_result"
    }
   ],
   "source": [
    "mydict.popitem()"
   ]
  },
  {
   "cell_type": "code",
   "execution_count": 165,
   "id": "eb35cc5a-7bbc-4203-bbc8-3ede53816577",
   "metadata": {},
   "outputs": [
    {
     "data": {
      "text/plain": [
       "{'a': 1, 'b': [21, 87, 32], 3: (1, 2, 3)}"
      ]
     },
     "execution_count": 165,
     "metadata": {},
     "output_type": "execute_result"
    }
   ],
   "source": [
    "mydict"
   ]
  },
  {
   "cell_type": "code",
   "execution_count": 166,
   "id": "67cba8ef-ab54-4c02-9cbd-1b28f7a04421",
   "metadata": {},
   "outputs": [],
   "source": [
    "mydict[\"a\"]=10"
   ]
  },
  {
   "cell_type": "code",
   "execution_count": 167,
   "id": "a086cec0-569c-4712-94f3-e2b54e777282",
   "metadata": {},
   "outputs": [
    {
     "data": {
      "text/plain": [
       "{'a': 10, 'b': [21, 87, 32], 3: (1, 2, 3)}"
      ]
     },
     "execution_count": 167,
     "metadata": {},
     "output_type": "execute_result"
    }
   ],
   "source": [
    "mydict"
   ]
  },
  {
   "cell_type": "code",
   "execution_count": 168,
   "id": "824f021c-a18b-41f8-b508-0a4b7606394d",
   "metadata": {},
   "outputs": [],
   "source": [
    "mydict1=mydict.copy()"
   ]
  },
  {
   "cell_type": "code",
   "execution_count": 169,
   "id": "c26b82e4-c113-41c3-b993-eaa0959cff05",
   "metadata": {},
   "outputs": [
    {
     "data": {
      "text/plain": [
       "{'a': 10, 'b': [21, 87, 32], 3: (1, 2, 3)}"
      ]
     },
     "execution_count": 169,
     "metadata": {},
     "output_type": "execute_result"
    }
   ],
   "source": [
    "mydict1"
   ]
  },
  {
   "cell_type": "code",
   "execution_count": null,
   "id": "2d1bfa4d-4482-4d30-b7a8-6d768b57e801",
   "metadata": {},
   "outputs": [],
   "source": [
    "### Iteration"
   ]
  },
  {
   "cell_type": "code",
   "execution_count": 172,
   "id": "97862956-9cd3-47bd-b6cd-056847392e16",
   "metadata": {},
   "outputs": [
    {
     "name": "stdout",
     "output_type": "stream",
     "text": [
      "a : 10\n",
      "b : [21, 87, 32]\n",
      "3 : (1, 2, 3)\n"
     ]
    }
   ],
   "source": [
    "for i in mydict1:\n",
    "    print(i,\":\",mydict1[i])"
   ]
  },
  {
   "cell_type": "code",
   "execution_count": 173,
   "id": "31a1769b-22cb-4025-beeb-8054c0acc033",
   "metadata": {},
   "outputs": [
    {
     "data": {
      "text/plain": [
       "True"
      ]
     },
     "execution_count": 173,
     "metadata": {},
     "output_type": "execute_result"
    }
   ],
   "source": [
    "\"a\" in mydict1"
   ]
  },
  {
   "cell_type": "code",
   "execution_count": null,
   "id": "b04c02e1-95a9-42ab-a680-f65f6acd955c",
   "metadata": {},
   "outputs": [],
   "source": []
  },
  {
   "cell_type": "code",
   "execution_count": null,
   "id": "66f00ca9-d931-4cdc-a05d-53773447b47c",
   "metadata": {},
   "outputs": [],
   "source": []
  },
  {
   "cell_type": "code",
   "execution_count": null,
   "id": "d42af8b0-aee4-4dc4-a342-924a3a1ae83d",
   "metadata": {},
   "outputs": [],
   "source": []
  },
  {
   "cell_type": "code",
   "execution_count": null,
   "id": "24d01712-b291-4413-87eb-5fc976bd4ffb",
   "metadata": {},
   "outputs": [],
   "source": []
  },
  {
   "cell_type": "code",
   "execution_count": null,
   "id": "b7d082b2-bf9d-4abd-b893-5d38bbdbbae7",
   "metadata": {},
   "outputs": [],
   "source": []
  },
  {
   "cell_type": "code",
   "execution_count": null,
   "id": "49175056-d821-475a-83ed-4a5f721198b8",
   "metadata": {},
   "outputs": [],
   "source": []
  },
  {
   "cell_type": "code",
   "execution_count": null,
   "id": "3a002779-be8d-44f3-91da-55ed986b6746",
   "metadata": {},
   "outputs": [],
   "source": []
  },
  {
   "cell_type": "code",
   "execution_count": null,
   "id": "39370840-7be5-45f5-bbfe-dd7c8df64e7d",
   "metadata": {},
   "outputs": [],
   "source": []
  },
  {
   "cell_type": "code",
   "execution_count": null,
   "id": "3512492a-5251-439a-a9fc-1daa2b3b58dd",
   "metadata": {},
   "outputs": [],
   "source": []
  },
  {
   "cell_type": "code",
   "execution_count": null,
   "id": "017206b5-41b4-4959-b279-381fba9b4adf",
   "metadata": {},
   "outputs": [],
   "source": []
  },
  {
   "cell_type": "code",
   "execution_count": null,
   "id": "1dab31c1-070f-4fbb-ad09-0ab1791b0293",
   "metadata": {},
   "outputs": [],
   "source": []
  },
  {
   "cell_type": "code",
   "execution_count": null,
   "id": "db563e4c-f5f1-4a67-9c05-cdbf3cfb1e43",
   "metadata": {},
   "outputs": [],
   "source": []
  },
  {
   "cell_type": "code",
   "execution_count": null,
   "id": "b99c3b05-e2cc-4c30-8d50-45af2fc00737",
   "metadata": {},
   "outputs": [],
   "source": []
  },
  {
   "cell_type": "code",
   "execution_count": null,
   "id": "0ee4aad9-7157-4bc4-9c4a-beb294638bc0",
   "metadata": {},
   "outputs": [],
   "source": []
  },
  {
   "cell_type": "code",
   "execution_count": null,
   "id": "d7ee842c-021e-4102-b43d-48d41a166e05",
   "metadata": {},
   "outputs": [],
   "source": []
  },
  {
   "cell_type": "code",
   "execution_count": null,
   "id": "4e36e330-c1fb-42bf-83d2-aebde2a4aadd",
   "metadata": {},
   "outputs": [],
   "source": []
  },
  {
   "cell_type": "code",
   "execution_count": null,
   "id": "a10af56b-34e4-4033-989f-aa76bedcaf67",
   "metadata": {},
   "outputs": [],
   "source": []
  },
  {
   "cell_type": "code",
   "execution_count": null,
   "id": "5ac4ddd2-c6c6-4f5b-ac42-3af2cea18d7d",
   "metadata": {},
   "outputs": [],
   "source": []
  },
  {
   "cell_type": "code",
   "execution_count": null,
   "id": "40639f03-e9d0-435e-9f53-09f51266b38c",
   "metadata": {},
   "outputs": [],
   "source": [
    "### Solve this after break:"
   ]
  },
  {
   "cell_type": "code",
   "execution_count": null,
   "id": "ad7141e8-9257-40c7-84f9-f28041dadff0",
   "metadata": {},
   "outputs": [],
   "source": [
    "https://github.com/Premalatha-success/TIAA_batch1_nov/blob/main/Operators_assignment.docx"
   ]
  },
  {
   "cell_type": "code",
   "execution_count": null,
   "id": "f57f42b9-34d9-4518-a6b1-9810c7916ac0",
   "metadata": {},
   "outputs": [],
   "source": [
    "### Solve this"
   ]
  },
  {
   "cell_type": "code",
   "execution_count": null,
   "id": "c9d70447-4927-4731-8d2a-979e37363320",
   "metadata": {},
   "outputs": [],
   "source": [
    "https://github.com/Premalatha-success/TIAA_batch1_nov/blob/main/list_exercise%20(1).docx"
   ]
  }
 ],
 "metadata": {
  "kernelspec": {
   "display_name": "Python 3 (ipykernel)",
   "language": "python",
   "name": "python3"
  },
  "language_info": {
   "codemirror_mode": {
    "name": "ipython",
    "version": 3
   },
   "file_extension": ".py",
   "mimetype": "text/x-python",
   "name": "python",
   "nbconvert_exporter": "python",
   "pygments_lexer": "ipython3",
   "version": "3.11.7"
  }
 },
 "nbformat": 4,
 "nbformat_minor": 5
}
